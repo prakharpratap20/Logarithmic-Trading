{
 "cells": [
  {
   "cell_type": "markdown",
   "metadata": {},
   "source": [
    "# Machine Learning Model"
   ]
  },
  {
   "cell_type": "markdown",
   "metadata": {},
   "source": [
    "## Load the data"
   ]
  },
  {
   "cell_type": "code",
   "execution_count": 31,
   "metadata": {},
   "outputs": [
    {
     "data": {
      "text/html": [
       "<div>\n",
       "<style scoped>\n",
       "    .dataframe tbody tr th:only-of-type {\n",
       "        vertical-align: middle;\n",
       "    }\n",
       "\n",
       "    .dataframe tbody tr th {\n",
       "        vertical-align: top;\n",
       "    }\n",
       "\n",
       "    .dataframe thead th {\n",
       "        text-align: right;\n",
       "    }\n",
       "</style>\n",
       "<table border=\"1\" class=\"dataframe\">\n",
       "  <thead>\n",
       "    <tr style=\"text-align: right;\">\n",
       "      <th></th>\n",
       "      <th>Open</th>\n",
       "      <th>High</th>\n",
       "      <th>Low</th>\n",
       "      <th>Close</th>\n",
       "      <th>Volume</th>\n",
       "      <th>change_tomorrow</th>\n",
       "      <th>change_tomorrow_direction</th>\n",
       "    </tr>\n",
       "    <tr>\n",
       "      <th>Date</th>\n",
       "      <th></th>\n",
       "      <th></th>\n",
       "      <th></th>\n",
       "      <th></th>\n",
       "      <th></th>\n",
       "      <th></th>\n",
       "      <th></th>\n",
       "    </tr>\n",
       "  </thead>\n",
       "  <tbody>\n",
       "    <tr>\n",
       "      <th>2016-12-08</th>\n",
       "      <td>61.299999</td>\n",
       "      <td>61.580002</td>\n",
       "      <td>60.840000</td>\n",
       "      <td>61.009998</td>\n",
       "      <td>21220800</td>\n",
       "      <td>1.549141</td>\n",
       "      <td>UP</td>\n",
       "    </tr>\n",
       "    <tr>\n",
       "      <th>2016-12-09</th>\n",
       "      <td>61.180000</td>\n",
       "      <td>61.990002</td>\n",
       "      <td>61.130001</td>\n",
       "      <td>61.970001</td>\n",
       "      <td>27349400</td>\n",
       "      <td>0.321694</td>\n",
       "      <td>UP</td>\n",
       "    </tr>\n",
       "    <tr>\n",
       "      <th>2016-12-12</th>\n",
       "      <td>61.820000</td>\n",
       "      <td>62.299999</td>\n",
       "      <td>61.720001</td>\n",
       "      <td>62.169998</td>\n",
       "      <td>20198100</td>\n",
       "      <td>1.286125</td>\n",
       "      <td>UP</td>\n",
       "    </tr>\n",
       "    <tr>\n",
       "      <th>2016-12-13</th>\n",
       "      <td>62.500000</td>\n",
       "      <td>63.419998</td>\n",
       "      <td>62.240002</td>\n",
       "      <td>62.980000</td>\n",
       "      <td>35718900</td>\n",
       "      <td>-0.478620</td>\n",
       "      <td>DOWN</td>\n",
       "    </tr>\n",
       "    <tr>\n",
       "      <th>2016-12-14</th>\n",
       "      <td>63.000000</td>\n",
       "      <td>63.450001</td>\n",
       "      <td>62.529999</td>\n",
       "      <td>62.680000</td>\n",
       "      <td>30352700</td>\n",
       "      <td>-0.159793</td>\n",
       "      <td>DOWN</td>\n",
       "    </tr>\n",
       "    <tr>\n",
       "      <th>...</th>\n",
       "      <td>...</td>\n",
       "      <td>...</td>\n",
       "      <td>...</td>\n",
       "      <td>...</td>\n",
       "      <td>...</td>\n",
       "      <td>...</td>\n",
       "      <td>...</td>\n",
       "    </tr>\n",
       "    <tr>\n",
       "      <th>2023-10-09</th>\n",
       "      <td>324.750000</td>\n",
       "      <td>330.299988</td>\n",
       "      <td>323.179993</td>\n",
       "      <td>329.820007</td>\n",
       "      <td>19891200</td>\n",
       "      <td>-0.435456</td>\n",
       "      <td>DOWN</td>\n",
       "    </tr>\n",
       "    <tr>\n",
       "      <th>2023-10-10</th>\n",
       "      <td>330.959991</td>\n",
       "      <td>331.100006</td>\n",
       "      <td>327.670013</td>\n",
       "      <td>328.390015</td>\n",
       "      <td>20557100</td>\n",
       "      <td>1.212321</td>\n",
       "      <td>UP</td>\n",
       "    </tr>\n",
       "    <tr>\n",
       "      <th>2023-10-11</th>\n",
       "      <td>331.209991</td>\n",
       "      <td>332.820007</td>\n",
       "      <td>329.140015</td>\n",
       "      <td>332.420013</td>\n",
       "      <td>20063200</td>\n",
       "      <td>-0.380484</td>\n",
       "      <td>DOWN</td>\n",
       "    </tr>\n",
       "    <tr>\n",
       "      <th>2023-10-12</th>\n",
       "      <td>330.570007</td>\n",
       "      <td>333.630005</td>\n",
       "      <td>328.720001</td>\n",
       "      <td>331.160004</td>\n",
       "      <td>19313100</td>\n",
       "      <td>-1.046591</td>\n",
       "      <td>DOWN</td>\n",
       "    </tr>\n",
       "    <tr>\n",
       "      <th>2023-10-13</th>\n",
       "      <td>332.380005</td>\n",
       "      <td>333.829987</td>\n",
       "      <td>326.359985</td>\n",
       "      <td>327.730011</td>\n",
       "      <td>21072400</td>\n",
       "      <td>1.476071</td>\n",
       "      <td>UP</td>\n",
       "    </tr>\n",
       "  </tbody>\n",
       "</table>\n",
       "<p>1723 rows × 7 columns</p>\n",
       "</div>"
      ],
      "text/plain": [
       "                  Open        High         Low       Close    Volume  \\\n",
       "Date                                                                   \n",
       "2016-12-08   61.299999   61.580002   60.840000   61.009998  21220800   \n",
       "2016-12-09   61.180000   61.990002   61.130001   61.970001  27349400   \n",
       "2016-12-12   61.820000   62.299999   61.720001   62.169998  20198100   \n",
       "2016-12-13   62.500000   63.419998   62.240002   62.980000  35718900   \n",
       "2016-12-14   63.000000   63.450001   62.529999   62.680000  30352700   \n",
       "...                ...         ...         ...         ...       ...   \n",
       "2023-10-09  324.750000  330.299988  323.179993  329.820007  19891200   \n",
       "2023-10-10  330.959991  331.100006  327.670013  328.390015  20557100   \n",
       "2023-10-11  331.209991  332.820007  329.140015  332.420013  20063200   \n",
       "2023-10-12  330.570007  333.630005  328.720001  331.160004  19313100   \n",
       "2023-10-13  332.380005  333.829987  326.359985  327.730011  21072400   \n",
       "\n",
       "            change_tomorrow change_tomorrow_direction  \n",
       "Date                                                   \n",
       "2016-12-08         1.549141                        UP  \n",
       "2016-12-09         0.321694                        UP  \n",
       "2016-12-12         1.286125                        UP  \n",
       "2016-12-13        -0.478620                      DOWN  \n",
       "2016-12-14        -0.159793                      DOWN  \n",
       "...                     ...                       ...  \n",
       "2023-10-09        -0.435456                      DOWN  \n",
       "2023-10-10         1.212321                        UP  \n",
       "2023-10-11        -0.380484                      DOWN  \n",
       "2023-10-12        -1.046591                      DOWN  \n",
       "2023-10-13         1.476071                        UP  \n",
       "\n",
       "[1723 rows x 7 columns]"
      ]
     },
     "execution_count": 31,
     "metadata": {},
     "output_type": "execute_result"
    }
   ],
   "source": [
    "import pandas as pd\n",
    "\n",
    "df = pd.read_excel(\"data/MSFT_Linkedin_Processed.xlsx\", parse_dates=[\"Date\"], index_col=0)\n",
    "df\n"
   ]
  },
  {
   "cell_type": "markdown",
   "metadata": {},
   "source": [
    "### Seperate the data"
   ]
  },
  {
   "cell_type": "code",
   "execution_count": 32,
   "metadata": {},
   "outputs": [],
   "source": [
    "target = df.change_tomorrow\n",
    "explanatory = df[[\"Open\", \"High\", \"Low\", \"Close\", \"Volume\"]]"
   ]
  },
  {
   "cell_type": "markdown",
   "metadata": {},
   "source": [
    "### Compute the model"
   ]
  },
  {
   "cell_type": "code",
   "execution_count": 33,
   "metadata": {},
   "outputs": [],
   "source": [
    "from sklearn.tree import DecisionTreeRegressor"
   ]
  },
  {
   "cell_type": "code",
   "execution_count": 34,
   "metadata": {},
   "outputs": [],
   "source": [
    "model_dt = DecisionTreeRegressor(max_depth=15)"
   ]
  },
  {
   "cell_type": "code",
   "execution_count": 35,
   "metadata": {},
   "outputs": [
    {
     "data": {
      "text/html": [
       "<style>#sk-container-id-5 {color: black;}#sk-container-id-5 pre{padding: 0;}#sk-container-id-5 div.sk-toggleable {background-color: white;}#sk-container-id-5 label.sk-toggleable__label {cursor: pointer;display: block;width: 100%;margin-bottom: 0;padding: 0.3em;box-sizing: border-box;text-align: center;}#sk-container-id-5 label.sk-toggleable__label-arrow:before {content: \"▸\";float: left;margin-right: 0.25em;color: #696969;}#sk-container-id-5 label.sk-toggleable__label-arrow:hover:before {color: black;}#sk-container-id-5 div.sk-estimator:hover label.sk-toggleable__label-arrow:before {color: black;}#sk-container-id-5 div.sk-toggleable__content {max-height: 0;max-width: 0;overflow: hidden;text-align: left;background-color: #f0f8ff;}#sk-container-id-5 div.sk-toggleable__content pre {margin: 0.2em;color: black;border-radius: 0.25em;background-color: #f0f8ff;}#sk-container-id-5 input.sk-toggleable__control:checked~div.sk-toggleable__content {max-height: 200px;max-width: 100%;overflow: auto;}#sk-container-id-5 input.sk-toggleable__control:checked~label.sk-toggleable__label-arrow:before {content: \"▾\";}#sk-container-id-5 div.sk-estimator input.sk-toggleable__control:checked~label.sk-toggleable__label {background-color: #d4ebff;}#sk-container-id-5 div.sk-label input.sk-toggleable__control:checked~label.sk-toggleable__label {background-color: #d4ebff;}#sk-container-id-5 input.sk-hidden--visually {border: 0;clip: rect(1px 1px 1px 1px);clip: rect(1px, 1px, 1px, 1px);height: 1px;margin: -1px;overflow: hidden;padding: 0;position: absolute;width: 1px;}#sk-container-id-5 div.sk-estimator {font-family: monospace;background-color: #f0f8ff;border: 1px dotted black;border-radius: 0.25em;box-sizing: border-box;margin-bottom: 0.5em;}#sk-container-id-5 div.sk-estimator:hover {background-color: #d4ebff;}#sk-container-id-5 div.sk-parallel-item::after {content: \"\";width: 100%;border-bottom: 1px solid gray;flex-grow: 1;}#sk-container-id-5 div.sk-label:hover label.sk-toggleable__label {background-color: #d4ebff;}#sk-container-id-5 div.sk-serial::before {content: \"\";position: absolute;border-left: 1px solid gray;box-sizing: border-box;top: 0;bottom: 0;left: 50%;z-index: 0;}#sk-container-id-5 div.sk-serial {display: flex;flex-direction: column;align-items: center;background-color: white;padding-right: 0.2em;padding-left: 0.2em;position: relative;}#sk-container-id-5 div.sk-item {position: relative;z-index: 1;}#sk-container-id-5 div.sk-parallel {display: flex;align-items: stretch;justify-content: center;background-color: white;position: relative;}#sk-container-id-5 div.sk-item::before, #sk-container-id-5 div.sk-parallel-item::before {content: \"\";position: absolute;border-left: 1px solid gray;box-sizing: border-box;top: 0;bottom: 0;left: 50%;z-index: -1;}#sk-container-id-5 div.sk-parallel-item {display: flex;flex-direction: column;z-index: 1;position: relative;background-color: white;}#sk-container-id-5 div.sk-parallel-item:first-child::after {align-self: flex-end;width: 50%;}#sk-container-id-5 div.sk-parallel-item:last-child::after {align-self: flex-start;width: 50%;}#sk-container-id-5 div.sk-parallel-item:only-child::after {width: 0;}#sk-container-id-5 div.sk-dashed-wrapped {border: 1px dashed gray;margin: 0 0.4em 0.5em 0.4em;box-sizing: border-box;padding-bottom: 0.4em;background-color: white;}#sk-container-id-5 div.sk-label label {font-family: monospace;font-weight: bold;display: inline-block;line-height: 1.2em;}#sk-container-id-5 div.sk-label-container {text-align: center;}#sk-container-id-5 div.sk-container {/* jupyter's `normalize.less` sets `[hidden] { display: none; }` but bootstrap.min.css set `[hidden] { display: none !important; }` so we also need the `!important` here to be able to override the default hidden behavior on the sphinx rendered scikit-learn.org. See: https://github.com/scikit-learn/scikit-learn/issues/21755 */display: inline-block !important;position: relative;}#sk-container-id-5 div.sk-text-repr-fallback {display: none;}</style><div id=\"sk-container-id-5\" class=\"sk-top-container\"><div class=\"sk-text-repr-fallback\"><pre>DecisionTreeRegressor(max_depth=15)</pre><b>In a Jupyter environment, please rerun this cell to show the HTML representation or trust the notebook. <br />On GitHub, the HTML representation is unable to render, please try loading this page with nbviewer.org.</b></div><div class=\"sk-container\" hidden><div class=\"sk-item\"><div class=\"sk-estimator sk-toggleable\"><input class=\"sk-toggleable__control sk-hidden--visually\" id=\"sk-estimator-id-5\" type=\"checkbox\" checked><label for=\"sk-estimator-id-5\" class=\"sk-toggleable__label sk-toggleable__label-arrow\">DecisionTreeRegressor</label><div class=\"sk-toggleable__content\"><pre>DecisionTreeRegressor(max_depth=15)</pre></div></div></div></div></div>"
      ],
      "text/plain": [
       "DecisionTreeRegressor(max_depth=15)"
      ]
     },
     "execution_count": 35,
     "metadata": {},
     "output_type": "execute_result"
    }
   ],
   "source": [
    "model_dt.fit(X=explanatory, y=target)"
   ]
  },
  {
   "cell_type": "markdown",
   "metadata": {},
   "source": [
    "### Visualize the model"
   ]
  },
  {
   "cell_type": "code",
   "execution_count": 36,
   "metadata": {},
   "outputs": [
    {
     "data": {
      "text/plain": [
       "[Text(0.9402954931972789, 0.96875, 'Volume <= 92951148.0\\nsquared_error = 3.253\\nsamples = 1723\\nvalue = 0.082'),\n",
       " Text(0.902359693877551, 0.90625, 'Volume <= 91578148.0\\nsquared_error = 3.135\\nsamples = 1719\\nvalue = 0.073'),\n",
       " Text(0.8969175170068027, 0.84375, 'Volume <= 87003952.0\\nsquared_error = 2.961\\nsamples = 1718\\nvalue = 0.083'),\n",
       " Text(0.8264880952380952, 0.78125, 'Volume <= 78979100.0\\nsquared_error = 2.931\\nsamples = 1716\\nvalue = 0.078'),\n",
       " Text(0.7019557823129252, 0.71875, 'Volume <= 78451200.0\\nsquared_error = 2.912\\nsamples = 1707\\nvalue = 0.088'),\n",
       " Text(0.6965136054421769, 0.65625, 'Low <= 332.96\\nsquared_error = 2.874\\nsamples = 1706\\nvalue = 0.083'),\n",
       " Text(0.5273809523809524, 0.59375, 'High <= 335.87\\nsquared_error = 2.884\\nsamples = 1658\\nvalue = 0.106'),\n",
       " Text(0.4119047619047619, 0.53125, 'High <= 335.165\\nsquared_error = 2.893\\nsamples = 1637\\nvalue = 0.094'),\n",
       " Text(0.2795918367346939, 0.46875, 'Volume <= 46663750.0\\nsquared_error = 2.882\\nsamples = 1630\\nvalue = 0.102'),\n",
       " Text(0.13401360544217686, 0.40625, 'Volume <= 37795750.0\\nsquared_error = 2.47\\nsamples = 1514\\nvalue = 0.128'),\n",
       " Text(0.08027210884353742, 0.34375, 'Low <= 245.825\\nsquared_error = 2.162\\nsamples = 1389\\nvalue = 0.073'),\n",
       " Text(0.06258503401360545, 0.28125, 'Close <= 251.93\\nsquared_error = 1.899\\nsamples = 996\\nvalue = 0.146'),\n",
       " Text(0.04353741496598639, 0.21875, 'Volume <= 26949300.0\\nsquared_error = 1.878\\nsamples = 994\\nvalue = 0.139'),\n",
       " Text(0.021768707482993196, 0.15625, 'Low <= 244.13\\nsquared_error = 1.331\\nsamples = 649\\nvalue = 0.08'),\n",
       " Text(0.010884353741496598, 0.09375, 'Open <= 213.37\\nsquared_error = 1.316\\nsamples = 642\\nvalue = 0.069'),\n",
       " Text(0.005442176870748299, 0.03125, 'squared_error = 1.105\\nsamples = 553\\nvalue = 0.111'),\n",
       " Text(0.0163265306122449, 0.03125, 'squared_error = 2.543\\nsamples = 89\\nvalue = -0.196'),\n",
       " Text(0.0326530612244898, 0.09375, 'Close <= 245.945\\nsquared_error = 1.596\\nsamples = 7\\nvalue = 1.117'),\n",
       " Text(0.027210884353741496, 0.03125, 'squared_error = 0.081\\nsamples = 2\\nvalue = 2.522'),\n",
       " Text(0.0380952380952381, 0.03125, 'squared_error = 1.096\\nsamples = 5\\nvalue = 0.555'),\n",
       " Text(0.0653061224489796, 0.15625, 'Volume <= 29439050.0\\nsquared_error = 2.888\\nsamples = 345\\nvalue = 0.25'),\n",
       " Text(0.05442176870748299, 0.09375, 'Volume <= 27838400.0\\nsquared_error = 2.34\\nsamples = 95\\nvalue = 0.594'),\n",
       " Text(0.04897959183673469, 0.03125, 'squared_error = 1.908\\nsamples = 46\\nvalue = 0.272'),\n",
       " Text(0.05986394557823129, 0.03125, 'squared_error = 2.557\\nsamples = 49\\nvalue = 0.896'),\n",
       " Text(0.0761904761904762, 0.09375, 'Volume <= 29593200.0\\nsquared_error = 3.034\\nsamples = 250\\nvalue = 0.119'),\n",
       " Text(0.0707482993197279, 0.03125, 'squared_error = 1.991\\nsamples = 8\\nvalue = -1.255'),\n",
       " Text(0.08163265306122448, 0.03125, 'squared_error = 3.004\\nsamples = 242\\nvalue = 0.164'),\n",
       " Text(0.08163265306122448, 0.21875, 'Close <= 253.335\\nsquared_error = 0.85\\nsamples = 2\\nvalue = 3.556'),\n",
       " Text(0.0761904761904762, 0.15625, 'squared_error = 0.0\\nsamples = 1\\nvalue = 4.478'),\n",
       " Text(0.08707482993197278, 0.15625, 'squared_error = -0.0\\nsamples = 1\\nvalue = 2.634'),\n",
       " Text(0.09795918367346938, 0.28125, 'Low <= 245.835\\nsquared_error = 2.78\\nsamples = 393\\nvalue = -0.11'),\n",
       " Text(0.09251700680272108, 0.21875, 'squared_error = 0.0\\nsamples = 1\\nvalue = -8.361'),\n",
       " Text(0.10340136054421768, 0.21875, 'Close <= 246.985\\nsquared_error = 2.613\\nsamples = 392\\nvalue = -0.089'),\n",
       " Text(0.09795918367346938, 0.15625, 'squared_error = 0.0\\nsamples = 1\\nvalue = -5.358'),\n",
       " Text(0.10884353741496598, 0.15625, 'Volume <= 33583100.0\\nsquared_error = 2.549\\nsamples = 391\\nvalue = -0.076'),\n",
       " Text(0.09795918367346938, 0.09375, 'High <= 305.45\\nsquared_error = 2.337\\nsamples = 359\\nvalue = 0.004'),\n",
       " Text(0.09251700680272108, 0.03125, 'squared_error = 2.509\\nsamples = 259\\nvalue = -0.113'),\n",
       " Text(0.10340136054421768, 0.03125, 'squared_error = 1.764\\nsamples = 100\\nvalue = 0.308'),\n",
       " Text(0.11972789115646258, 0.09375, 'Close <= 289.065\\nsquared_error = 4.052\\nsamples = 32\\nvalue = -0.971'),\n",
       " Text(0.11428571428571428, 0.03125, 'squared_error = 3.392\\nsamples = 20\\nvalue = -0.407'),\n",
       " Text(0.1251700680272109, 0.03125, 'squared_error = 3.733\\nsamples = 12\\nvalue = -1.913'),\n",
       " Text(0.18775510204081633, 0.34375, 'Volume <= 37815200.0\\nsquared_error = 5.496\\nsamples = 125\\nvalue = 0.734'),\n",
       " Text(0.18231292517006803, 0.28125, 'squared_error = 0.0\\nsamples = 1\\nvalue = 4.861'),\n",
       " Text(0.19319727891156463, 0.28125, 'Close <= 276.385\\nsquared_error = 5.402\\nsamples = 124\\nvalue = 0.701'),\n",
       " Text(0.16598639455782313, 0.21875, 'Low <= 269.925\\nsquared_error = 6.245\\nsamples = 97\\nvalue = 0.908'),\n",
       " Text(0.1523809523809524, 0.15625, 'Open <= 261.425\\nsquared_error = 5.864\\nsamples = 95\\nvalue = 0.808'),\n",
       " Text(0.1414965986394558, 0.09375, 'Open <= 259.34\\nsquared_error = 6.018\\nsamples = 88\\nvalue = 0.919'),\n",
       " Text(0.1360544217687075, 0.03125, 'squared_error = 5.735\\nsamples = 85\\nvalue = 0.799'),\n",
       " Text(0.1469387755102041, 0.03125, 'squared_error = 2.118\\nsamples = 3\\nvalue = 4.312'),\n",
       " Text(0.16326530612244897, 0.09375, 'Low <= 266.11\\nsquared_error = 1.819\\nsamples = 7\\nvalue = -0.589'),\n",
       " Text(0.15782312925170067, 0.03125, 'squared_error = 1.983\\nsamples = 4\\nvalue = -1.301'),\n",
       " Text(0.16870748299319727, 0.03125, 'squared_error = 0.023\\nsamples = 3\\nvalue = 0.36'),\n",
       " Text(0.17959183673469387, 0.15625, 'High <= 279.98\\nsquared_error = 1.171\\nsamples = 2\\nvalue = 5.672'),\n",
       " Text(0.17414965986394557, 0.09375, 'squared_error = 0.0\\nsamples = 1\\nvalue = 4.59'),\n",
       " Text(0.18503401360544217, 0.09375, 'squared_error = -0.0\\nsamples = 1\\nvalue = 6.754'),\n",
       " Text(0.22040816326530613, 0.21875, 'Open <= 309.22\\nsquared_error = 1.664\\nsamples = 27\\nvalue = -0.044'),\n",
       " Text(0.20136054421768707, 0.15625, 'Open <= 285.27\\nsquared_error = 1.197\\nsamples = 17\\nvalue = -0.646'),\n",
       " Text(0.19591836734693877, 0.09375, 'squared_error = 0.0\\nsamples = 1\\nvalue = -2.658'),\n",
       " Text(0.20680272108843537, 0.09375, 'Low <= 298.795\\nsquared_error = 1.003\\nsamples = 16\\nvalue = -0.52'),\n",
       " Text(0.20136054421768707, 0.03125, 'squared_error = 0.346\\nsamples = 10\\nvalue = -0.037'),\n",
       " Text(0.21224489795918366, 0.03125, 'squared_error = 1.062\\nsamples = 6\\nvalue = -1.324'),\n",
       " Text(0.23945578231292516, 0.15625, 'Volume <= 40833750.0\\nsquared_error = 0.796\\nsamples = 10\\nvalue = 0.979'),\n",
       " Text(0.22857142857142856, 0.09375, 'Low <= 319.24\\nsquared_error = 0.321\\nsamples = 3\\nvalue = -0.056'),\n",
       " Text(0.22312925170068026, 0.03125, 'squared_error = 0.18\\nsamples = 2\\nvalue = -0.373'),\n",
       " Text(0.23401360544217686, 0.03125, 'squared_error = 0.0\\nsamples = 1\\nvalue = 0.578'),\n",
       " Text(0.2503401360544218, 0.09375, 'Close <= 324.465\\nsquared_error = 0.345\\nsamples = 7\\nvalue = 1.422'),\n",
       " Text(0.24489795918367346, 0.03125, 'squared_error = 0.299\\nsamples = 5\\nvalue = 1.195'),\n",
       " Text(0.25578231292517006, 0.03125, 'squared_error = 0.011\\nsamples = 2\\nvalue = 1.99'),\n",
       " Text(0.42517006802721086, 0.40625, 'High <= 283.645\\nsquared_error = 8.136\\nsamples = 116\\nvalue = -0.239'),\n",
       " Text(0.3469387755102041, 0.34375, 'Volume <= 50732400.0\\nsquared_error = 8.303\\nsamples = 106\\nvalue = -0.415'),\n",
       " Text(0.2965986394557823, 0.28125, 'Low <= 89.505\\nsquared_error = 3.13\\nsamples = 35\\nvalue = -1.231'),\n",
       " Text(0.27755102040816326, 0.21875, 'Volume <= 48851400.0\\nsquared_error = 0.685\\nsamples = 6\\nvalue = 0.474'),\n",
       " Text(0.26666666666666666, 0.15625, 'Volume <= 47239400.0\\nsquared_error = 0.435\\nsamples = 4\\nvalue = 0.882'),\n",
       " Text(0.2612244897959184, 0.09375, 'squared_error = 0.0\\nsamples = 1\\nvalue = -0.258'),\n",
       " Text(0.272108843537415, 0.09375, 'Open <= 80.1\\nsquared_error = 0.002\\nsamples = 3\\nvalue = 1.262'),\n",
       " Text(0.26666666666666666, 0.03125, 'squared_error = 0.0\\nsamples = 2\\nvalue = 1.23'),\n",
       " Text(0.27755102040816326, 0.03125, 'squared_error = -0.0\\nsamples = 1\\nvalue = 1.326'),\n",
       " Text(0.28843537414965986, 0.15625, 'Volume <= 49203550.0\\nsquared_error = 0.188\\nsamples = 2\\nvalue = -0.341'),\n",
       " Text(0.2829931972789116, 0.09375, 'squared_error = 0.0\\nsamples = 1\\nvalue = -0.774'),\n",
       " Text(0.2938775510204082, 0.09375, 'squared_error = 0.0\\nsamples = 1\\nvalue = 0.092'),\n",
       " Text(0.31564625850340133, 0.21875, 'Close <= 262.565\\nsquared_error = 2.91\\nsamples = 29\\nvalue = -1.583'),\n",
       " Text(0.31020408163265306, 0.15625, 'Low <= 92.505\\nsquared_error = 2.584\\nsamples = 28\\nvalue = -1.705'),\n",
       " Text(0.3047619047619048, 0.09375, 'squared_error = 0.0\\nsamples = 1\\nvalue = -4.295'),\n",
       " Text(0.31564625850340133, 0.09375, 'Volume <= 50551500.0\\nsquared_error = 2.422\\nsamples = 27\\nvalue = -1.609'),\n",
       " Text(0.31020408163265306, 0.03125, 'squared_error = 2.431\\nsamples = 26\\nvalue = -1.553'),\n",
       " Text(0.32108843537414966, 0.03125, 'squared_error = -0.0\\nsamples = 1\\nvalue = -3.054'),\n",
       " Text(0.32108843537414966, 0.15625, 'squared_error = 0.0\\nsamples = 1\\nvalue = 1.826'),\n",
       " Text(0.39727891156462586, 0.28125, 'Close <= 152.87\\nsquared_error = 10.363\\nsamples = 71\\nvalue = -0.012'),\n",
       " Text(0.3673469387755102, 0.21875, 'Open <= 132.125\\nsquared_error = 7.749\\nsamples = 31\\nvalue = 0.976'),\n",
       " Text(0.34829931972789113, 0.15625, 'Volume <= 66868600.0\\nsquared_error = 5.318\\nsamples = 27\\nvalue = 0.348'),\n",
       " Text(0.33741496598639453, 0.09375, 'Volume <= 63698450.0\\nsquared_error = 5.233\\nsamples = 22\\nvalue = 0.743'),\n",
       " Text(0.33197278911564626, 0.03125, 'squared_error = 4.386\\nsamples = 17\\nvalue = 0.148'),\n",
       " Text(0.34285714285714286, 0.03125, 'squared_error = 2.818\\nsamples = 5\\nvalue = 2.765'),\n",
       " Text(0.35918367346938773, 0.09375, 'Volume <= 70700452.0\\nsquared_error = 1.983\\nsamples = 5\\nvalue = -1.391'),\n",
       " Text(0.35374149659863946, 0.03125, 'squared_error = 0.387\\nsamples = 3\\nvalue = -2.469'),\n",
       " Text(0.36462585034013606, 0.03125, 'squared_error = 0.017\\nsamples = 2\\nvalue = 0.226'),\n",
       " Text(0.38639455782312926, 0.15625, 'Low <= 150.41\\nsquared_error = 3.462\\nsamples = 4\\nvalue = 5.222'),\n",
       " Text(0.38095238095238093, 0.09375, 'Low <= 146.82\\nsquared_error = 0.085\\nsamples = 3\\nvalue = 6.286'),\n",
       " Text(0.37551020408163266, 0.03125, 'squared_error = 0.0\\nsamples = 1\\nvalue = 5.887'),\n",
       " Text(0.38639455782312926, 0.03125, 'squared_error = 0.007\\nsamples = 2\\nvalue = 6.486'),\n",
       " Text(0.39183673469387753, 0.09375, 'squared_error = -0.0\\nsamples = 1\\nvalue = 2.029'),\n",
       " Text(0.4272108843537415, 0.21875, 'High <= 173.465\\nsquared_error = 11.044\\nsamples = 40\\nvalue = -0.779'),\n",
       " Text(0.40816326530612246, 0.15625, 'Close <= 154.87\\nsquared_error = 11.607\\nsamples = 12\\nvalue = -3.712'),\n",
       " Text(0.40272108843537413, 0.09375, 'squared_error = 0.0\\nsamples = 1\\nvalue = -10.477'),\n",
       " Text(0.41360544217687073, 0.09375, 'Close <= 167.72\\nsquared_error = 8.123\\nsamples = 11\\nvalue = -3.097'),\n",
       " Text(0.40816326530612246, 0.03125, 'squared_error = 6.769\\nsamples = 9\\nvalue = -2.383'),\n",
       " Text(0.41904761904761906, 0.03125, 'squared_error = 1.622\\nsamples = 2\\nvalue = -6.307'),\n",
       " Text(0.44625850340136053, 0.15625, 'Close <= 167.945\\nsquared_error = 5.537\\nsamples = 28\\nvalue = 0.478'),\n",
       " Text(0.43537414965986393, 0.09375, 'Low <= 164.185\\nsquared_error = 0.016\\nsamples = 2\\nvalue = 3.413'),\n",
       " Text(0.42993197278911566, 0.03125, 'squared_error = 0.0\\nsamples = 1\\nvalue = 3.541'),\n",
       " Text(0.44081632653061226, 0.03125, 'squared_error = 0.0\\nsamples = 1\\nvalue = 3.285'),\n",
       " Text(0.45714285714285713, 0.09375, 'Volume <= 51119800.0\\nsquared_error = 5.248\\nsamples = 26\\nvalue = 0.252'),\n",
       " Text(0.45170068027210886, 0.03125, 'squared_error = 5.313\\nsamples = 3\\nvalue = 2.408'),\n",
       " Text(0.46258503401360546, 0.03125, 'squared_error = 4.554\\nsamples = 23\\nvalue = -0.029'),\n",
       " Text(0.5034013605442177, 0.34375, 'Open <= 302.675\\nsquared_error = 2.569\\nsamples = 10\\nvalue = 1.626'),\n",
       " Text(0.4897959183673469, 0.28125, 'Low <= 270.76\\nsquared_error = 1.32\\nsamples = 7\\nvalue = 2.428'),\n",
       " Text(0.48435374149659866, 0.21875, 'squared_error = 0.0\\nsamples = 1\\nvalue = 4.385'),\n",
       " Text(0.49523809523809526, 0.21875, 'Volume <= 60233700.0\\nsquared_error = 0.796\\nsamples = 6\\nvalue = 2.101'),\n",
       " Text(0.48435374149659866, 0.15625, 'Low <= 296.19\\nsquared_error = 0.75\\nsamples = 3\\nvalue = 1.507'),\n",
       " Text(0.47891156462585033, 0.09375, 'Close <= 301.425\\nsquared_error = 0.0\\nsamples = 2\\nvalue = 0.895'),\n",
       " Text(0.47346938775510206, 0.03125, 'squared_error = 0.0\\nsamples = 1\\nvalue = 0.915'),\n",
       " Text(0.48435374149659866, 0.03125, 'squared_error = 0.0\\nsamples = 1\\nvalue = 0.875'),\n",
       " Text(0.4897959183673469, 0.09375, 'squared_error = 0.0\\nsamples = 1\\nvalue = 2.731'),\n",
       " Text(0.5061224489795918, 0.15625, 'Low <= 282.165\\nsquared_error = 0.135\\nsamples = 3\\nvalue = 2.696'),\n",
       " Text(0.5006802721088436, 0.09375, 'squared_error = 0.0\\nsamples = 1\\nvalue = 2.213'),\n",
       " Text(0.5115646258503401, 0.09375, 'High <= 297.28\\nsquared_error = 0.028\\nsamples = 2\\nvalue = 2.937'),\n",
       " Text(0.5061224489795918, 0.03125, 'squared_error = 0.0\\nsamples = 1\\nvalue = 2.77'),\n",
       " Text(0.5170068027210885, 0.03125, 'squared_error = 0.0\\nsamples = 1\\nvalue = 3.103'),\n",
       " Text(0.5170068027210885, 0.28125, 'Volume <= 50169500.0\\nsquared_error = 0.481\\nsamples = 3\\nvalue = -0.246'),\n",
       " Text(0.5115646258503401, 0.21875, 'squared_error = 0.0\\nsamples = 1\\nvalue = -1.216'),\n",
       " Text(0.5224489795918368, 0.21875, 'Close <= 309.6\\nsquared_error = 0.016\\nsamples = 2\\nvalue = 0.239'),\n",
       " Text(0.5170068027210885, 0.15625, 'squared_error = 0.0\\nsamples = 1\\nvalue = 0.115'),\n",
       " Text(0.527891156462585, 0.15625, 'squared_error = 0.0\\nsamples = 1\\nvalue = 0.364'),\n",
       " Text(0.54421768707483, 0.46875, 'Low <= 326.855\\nsquared_error = 2.52\\nsamples = 7\\nvalue = -1.627'),\n",
       " Text(0.5333333333333333, 0.40625, 'Volume <= 34027700.0\\nsquared_error = 0.246\\nsamples = 2\\nvalue = -3.496'),\n",
       " Text(0.527891156462585, 0.34375, 'squared_error = 0.0\\nsamples = 1\\nvalue = -3.992'),\n",
       " Text(0.5387755102040817, 0.34375, 'squared_error = 0.0\\nsamples = 1\\nvalue = -3.001'),\n",
       " Text(0.5551020408163265, 0.40625, 'Low <= 331.485\\nsquared_error = 1.473\\nsamples = 5\\nvalue = -0.88'),\n",
       " Text(0.5496598639455782, 0.34375, 'Volume <= 30262500.0\\nsquared_error = 0.181\\nsamples = 4\\nvalue = -0.303'),\n",
       " Text(0.5387755102040817, 0.28125, 'High <= 335.62\\nsquared_error = 0.022\\nsamples = 2\\nvalue = -0.71'),\n",
       " Text(0.5333333333333333, 0.21875, 'squared_error = 0.0\\nsamples = 1\\nvalue = -0.561'),\n",
       " Text(0.54421768707483, 0.21875, 'squared_error = 0.0\\nsamples = 1\\nvalue = -0.859'),\n",
       " Text(0.5605442176870749, 0.28125, 'High <= 335.515\\nsquared_error = 0.008\\nsamples = 2\\nvalue = 0.104'),\n",
       " Text(0.5551020408163265, 0.21875, 'squared_error = 0.0\\nsamples = 1\\nvalue = 0.193'),\n",
       " Text(0.5659863945578232, 0.21875, 'squared_error = -0.0\\nsamples = 1\\nvalue = 0.015'),\n",
       " Text(0.5605442176870749, 0.34375, 'squared_error = 0.0\\nsamples = 1\\nvalue = -3.185'),\n",
       " Text(0.6428571428571429, 0.53125, 'Volume <= 27434450.0\\nsquared_error = 1.421\\nsamples = 21\\nvalue = 0.981'),\n",
       " Text(0.6163265306122448, 0.46875, 'Low <= 332.675\\nsquared_error = 0.847\\nsamples = 14\\nvalue = 1.419'),\n",
       " Text(0.601360544217687, 0.40625, 'Close <= 333.915\\nsquared_error = 0.651\\nsamples = 12\\nvalue = 1.209'),\n",
       " Text(0.5877551020408164, 0.34375, 'Low <= 332.095\\nsquared_error = 0.232\\nsamples = 5\\nvalue = 1.938'),\n",
       " Text(0.582312925170068, 0.28125, 'Volume <= 19543050.0\\nsquared_error = 0.082\\nsamples = 4\\nvalue = 1.734'),\n",
       " Text(0.5768707482993197, 0.21875, 'squared_error = 0.0\\nsamples = 1\\nvalue = 1.277'),\n",
       " Text(0.5877551020408164, 0.21875, 'Low <= 328.305\\nsquared_error = 0.016\\nsamples = 3\\nvalue = 1.886'),\n",
       " Text(0.582312925170068, 0.15625, 'squared_error = 0.0\\nsamples = 1\\nvalue = 2.065'),\n",
       " Text(0.5931972789115646, 0.15625, 'Open <= 335.045\\nsquared_error = 0.0\\nsamples = 2\\nvalue = 1.797'),\n",
       " Text(0.5877551020408164, 0.09375, 'squared_error = 0.0\\nsamples = 1\\nvalue = 1.784'),\n",
       " Text(0.5986394557823129, 0.09375, 'squared_error = 0.0\\nsamples = 1\\nvalue = 1.81'),\n",
       " Text(0.5931972789115646, 0.28125, 'squared_error = -0.0\\nsamples = 1\\nvalue = 2.756'),\n",
       " Text(0.6149659863945578, 0.34375, 'Volume <= 23471750.0\\nsquared_error = 0.297\\nsamples = 7\\nvalue = 0.687'),\n",
       " Text(0.6040816326530613, 0.28125, 'High <= 336.135\\nsquared_error = 0.101\\nsamples = 4\\nvalue = 1.095'),\n",
       " Text(0.5986394557823129, 0.21875, 'squared_error = 0.0\\nsamples = 1\\nvalue = 1.612'),\n",
       " Text(0.6095238095238096, 0.21875, 'High <= 336.505\\nsquared_error = 0.016\\nsamples = 3\\nvalue = 0.923'),\n",
       " Text(0.6040816326530613, 0.15625, 'squared_error = 0.0\\nsamples = 1\\nvalue = 1.086'),\n",
       " Text(0.6149659863945578, 0.15625, 'High <= 336.915\\nsquared_error = 0.004\\nsamples = 2\\nvalue = 0.842'),\n",
       " Text(0.6095238095238096, 0.09375, 'squared_error = 0.0\\nsamples = 1\\nvalue = 0.779'),\n",
       " Text(0.6204081632653061, 0.09375, 'squared_error = -0.0\\nsamples = 1\\nvalue = 0.904'),\n",
       " Text(0.6258503401360545, 0.28125, 'Volume <= 24173150.0\\nsquared_error = 0.041\\nsamples = 3\\nvalue = 0.143'),\n",
       " Text(0.6204081632653061, 0.21875, 'squared_error = 0.0\\nsamples = 1\\nvalue = -0.113'),\n",
       " Text(0.6312925170068027, 0.21875, 'Volume <= 25109050.0\\nsquared_error = 0.012\\nsamples = 2\\nvalue = 0.271'),\n",
       " Text(0.6258503401360545, 0.15625, 'squared_error = 0.0\\nsamples = 1\\nvalue = 0.381'),\n",
       " Text(0.636734693877551, 0.15625, 'squared_error = 0.0\\nsamples = 1\\nvalue = 0.161'),\n",
       " Text(0.6312925170068027, 0.40625, 'Close <= 336.015\\nsquared_error = 0.17\\nsamples = 2\\nvalue = 2.679'),\n",
       " Text(0.6258503401360545, 0.34375, 'squared_error = 0.0\\nsamples = 1\\nvalue = 2.266'),\n",
       " Text(0.636734693877551, 0.34375, 'squared_error = 0.0\\nsamples = 1\\nvalue = 3.091'),\n",
       " Text(0.6693877551020408, 0.46875, 'High <= 340.305\\nsquared_error = 1.423\\nsamples = 7\\nvalue = 0.107'),\n",
       " Text(0.6639455782312925, 0.40625, 'High <= 336.35\\nsquared_error = 0.758\\nsamples = 6\\nvalue = -0.252'),\n",
       " Text(0.6585034013605442, 0.34375, 'squared_error = 0.0\\nsamples = 1\\nvalue = 1.26'),\n",
       " Text(0.6693877551020408, 0.34375, 'Low <= 329.715\\nsquared_error = 0.361\\nsamples = 5\\nvalue = -0.554'),\n",
       " Text(0.6639455782312925, 0.28125, 'Open <= 335.515\\nsquared_error = 0.008\\nsamples = 4\\nvalue = -0.256'),\n",
       " Text(0.6530612244897959, 0.21875, 'Volume <= 38111600.0\\nsquared_error = 0.0\\nsamples = 2\\nvalue = -0.167'),\n",
       " Text(0.6476190476190476, 0.15625, 'squared_error = 0.0\\nsamples = 1\\nvalue = -0.179'),\n",
       " Text(0.6585034013605442, 0.15625, 'squared_error = -0.0\\nsamples = 1\\nvalue = -0.155'),\n",
       " Text(0.6748299319727891, 0.21875, 'High <= 337.08\\nsquared_error = 0.0\\nsamples = 2\\nvalue = -0.346'),\n",
       " Text(0.6693877551020408, 0.15625, 'squared_error = 0.0\\nsamples = 1\\nvalue = -0.34'),\n",
       " Text(0.6802721088435374, 0.15625, 'squared_error = -0.0\\nsamples = 1\\nvalue = -0.353'),\n",
       " Text(0.6748299319727891, 0.28125, 'squared_error = 0.0\\nsamples = 1\\nvalue = -1.745'),\n",
       " Text(0.6748299319727891, 0.40625, 'squared_error = -0.0\\nsamples = 1\\nvalue = 2.261'),\n",
       " Text(0.8656462585034014, 0.59375, 'Close <= 347.485\\nsquared_error = 1.889\\nsamples = 48\\nvalue = -0.693'),\n",
       " Text(0.810204081632653, 0.53125, 'Close <= 343.44\\nsquared_error = 1.711\\nsamples = 44\\nvalue = -0.547'),\n",
       " Text(0.7374149659863946, 0.46875, 'High <= 337.92\\nsquared_error = 1.235\\nsamples = 39\\nvalue = -0.748'),\n",
       " Text(0.7020408163265306, 0.40625, 'Open <= 337.42\\nsquared_error = 0.269\\nsamples = 4\\nvalue = 0.159'),\n",
       " Text(0.6965986394557823, 0.34375, 'High <= 337.675\\nsquared_error = 0.034\\nsamples = 3\\nvalue = -0.126'),\n",
       " Text(0.691156462585034, 0.28125, 'Open <= 335.61\\nsquared_error = 0.003\\nsamples = 2\\nvalue = -0.251'),\n",
       " Text(0.6857142857142857, 0.21875, 'squared_error = 0.0\\nsamples = 1\\nvalue = -0.193'),\n",
       " Text(0.6965986394557823, 0.21875, 'squared_error = 0.0\\nsamples = 1\\nvalue = -0.31'),\n",
       " Text(0.7020408163265306, 0.28125, 'squared_error = -0.0\\nsamples = 1\\nvalue = 0.125'),\n",
       " Text(0.7074829931972789, 0.34375, 'squared_error = 0.0\\nsamples = 1\\nvalue = 1.013'),\n",
       " Text(0.7727891156462585, 0.40625, 'High <= 338.55\\nsquared_error = 1.24\\nsamples = 35\\nvalue = -0.852'),\n",
       " Text(0.7238095238095238, 0.34375, 'High <= 338.07\\nsquared_error = 0.749\\nsamples = 5\\nvalue = -1.85'),\n",
       " Text(0.7129251700680272, 0.28125, 'Low <= 333.63\\nsquared_error = 0.735\\nsamples = 2\\nvalue = -1.096'),\n",
       " Text(0.7074829931972789, 0.21875, 'squared_error = 0.0\\nsamples = 1\\nvalue = -1.954'),\n",
       " Text(0.7183673469387755, 0.21875, 'squared_error = 0.0\\nsamples = 1\\nvalue = -0.239'),\n",
       " Text(0.7346938775510204, 0.28125, 'Low <= 334.67\\nsquared_error = 0.128\\nsamples = 3\\nvalue = -2.352'),\n",
       " Text(0.7292517006802721, 0.21875, 'Open <= 335.735\\nsquared_error = 0.01\\nsamples = 2\\nvalue = -2.598'),\n",
       " Text(0.7238095238095238, 0.15625, 'squared_error = 0.0\\nsamples = 1\\nvalue = -2.699'),\n",
       " Text(0.7346938775510204, 0.15625, 'squared_error = -0.0\\nsamples = 1\\nvalue = -2.496'),\n",
       " Text(0.7401360544217687, 0.21875, 'squared_error = 0.0\\nsamples = 1\\nvalue = -1.86'),\n",
       " Text(0.8217687074829932, 0.34375, 'Open <= 339.045\\nsquared_error = 1.129\\nsamples = 30\\nvalue = -0.685'),\n",
       " Text(0.7714285714285715, 0.28125, 'Open <= 335.035\\nsquared_error = 0.822\\nsamples = 17\\nvalue = -0.352'),\n",
       " Text(0.7510204081632653, 0.21875, 'Close <= 337.5\\nsquared_error = 0.182\\nsamples = 4\\nvalue = -1.22'),\n",
       " Text(0.745578231292517, 0.15625, 'squared_error = 0.0\\nsamples = 1\\nvalue = -1.827'),\n",
       " Text(0.7564625850340136, 0.15625, 'Volume <= 26020850.0\\nsquared_error = 0.079\\nsamples = 3\\nvalue = -1.018'),\n",
       " Text(0.7510204081632653, 0.09375, 'squared_error = 0.0\\nsamples = 1\\nvalue = -1.4'),\n",
       " Text(0.7619047619047619, 0.09375, 'High <= 341.505\\nsquared_error = 0.01\\nsamples = 2\\nvalue = -0.827'),\n",
       " Text(0.7564625850340136, 0.03125, 'squared_error = 0.0\\nsamples = 1\\nvalue = -0.729'),\n",
       " Text(0.7673469387755102, 0.03125, 'squared_error = 0.0\\nsamples = 1\\nvalue = -0.925'),\n",
       " Text(0.7918367346938775, 0.21875, 'Close <= 336.005\\nsquared_error = 0.715\\nsamples = 13\\nvalue = -0.085'),\n",
       " Text(0.7782312925170068, 0.15625, 'Low <= 334.595\\nsquared_error = 0.193\\nsamples = 2\\nvalue = -1.117'),\n",
       " Text(0.7727891156462585, 0.09375, 'squared_error = 0.0\\nsamples = 1\\nvalue = -1.557'),\n",
       " Text(0.7836734693877551, 0.09375, 'squared_error = 0.0\\nsamples = 1\\nvalue = -0.677'),\n",
       " Text(0.8054421768707483, 0.15625, 'High <= 342.465\\nsquared_error = 0.581\\nsamples = 11\\nvalue = 0.102'),\n",
       " Text(0.7945578231292517, 0.09375, 'High <= 341.16\\nsquared_error = 0.362\\nsamples = 8\\nvalue = 0.429'),\n",
       " Text(0.7891156462585034, 0.03125, 'squared_error = 0.075\\nsamples = 4\\nvalue = -0.06'),\n",
       " Text(0.8, 0.03125, 'squared_error = 0.171\\nsamples = 4\\nvalue = 0.918'),\n",
       " Text(0.8163265306122449, 0.09375, 'Volume <= 27492500.0\\nsquared_error = 0.12\\nsamples = 3\\nvalue = -0.769'),\n",
       " Text(0.8108843537414966, 0.03125, 'squared_error = 0.041\\nsamples = 2\\nvalue = -0.553'),\n",
       " Text(0.8217687074829932, 0.03125, 'squared_error = 0.0\\nsamples = 1\\nvalue = -1.201'),\n",
       " Text(0.8721088435374149, 0.28125, 'Close <= 339.615\\nsquared_error = 1.195\\nsamples = 13\\nvalue = -1.121'),\n",
       " Text(0.8462585034013606, 0.21875, 'Volume <= 18130750.0\\nsquared_error = 1.08\\nsamples = 7\\nvalue = -1.698'),\n",
       " Text(0.8326530612244898, 0.15625, 'High <= 342.015\\nsquared_error = 0.221\\nsamples = 2\\nvalue = -0.422'),\n",
       " Text(0.8272108843537415, 0.09375, 'squared_error = 0.0\\nsamples = 1\\nvalue = 0.047'),\n",
       " Text(0.8380952380952381, 0.09375, 'squared_error = 0.0\\nsamples = 1\\nvalue = -0.892'),\n",
       " Text(0.8598639455782313, 0.15625, 'Close <= 338.375\\nsquared_error = 0.513\\nsamples = 5\\nvalue = -2.208'),\n",
       " Text(0.8489795918367347, 0.09375, 'Open <= 340.38\\nsquared_error = 0.106\\nsamples = 3\\nvalue = -1.701'),\n",
       " Text(0.8435374149659864, 0.03125, 'squared_error = 0.019\\nsamples = 2\\nvalue = -1.485'),\n",
       " Text(0.854421768707483, 0.03125, 'squared_error = 0.0\\nsamples = 1\\nvalue = -2.132'),\n",
       " Text(0.8707482993197279, 0.09375, 'Close <= 339.05\\nsquared_error = 0.16\\nsamples = 2\\nvalue = -2.968'),\n",
       " Text(0.8653061224489796, 0.03125, 'squared_error = 0.0\\nsamples = 1\\nvalue = -2.568'),\n",
       " Text(0.8761904761904762, 0.03125, 'squared_error = -0.0\\nsamples = 1\\nvalue = -3.368'),\n",
       " Text(0.8979591836734694, 0.21875, 'High <= 344.055\\nsquared_error = 0.489\\nsamples = 6\\nvalue = -0.449'),\n",
       " Text(0.8870748299319728, 0.15625, 'Open <= 341.355\\nsquared_error = 0.074\\nsamples = 2\\nvalue = 0.476'),\n",
       " Text(0.8816326530612245, 0.09375, 'squared_error = 0.0\\nsamples = 1\\nvalue = 0.747'),\n",
       " Text(0.8925170068027211, 0.09375, 'squared_error = -0.0\\nsamples = 1\\nvalue = 0.205'),\n",
       " Text(0.908843537414966, 0.15625, 'Open <= 347.97\\nsquared_error = 0.056\\nsamples = 4\\nvalue = -0.911'),\n",
       " Text(0.9034013605442177, 0.09375, 'Low <= 340.94\\nsquared_error = 0.018\\nsamples = 3\\nvalue = -0.792'),\n",
       " Text(0.8979591836734694, 0.03125, 'squared_error = 0.005\\nsamples = 2\\nvalue = -0.706'),\n",
       " Text(0.908843537414966, 0.03125, 'squared_error = -0.0\\nsamples = 1\\nvalue = -0.965'),\n",
       " Text(0.9142857142857143, 0.09375, 'squared_error = 0.0\\nsamples = 1\\nvalue = -1.266'),\n",
       " Text(0.8829931972789116, 0.46875, 'Volume <= 27490150.0\\nsquared_error = 2.634\\nsamples = 5\\nvalue = 1.026'),\n",
       " Text(0.8721088435374149, 0.40625, 'Volume <= 23521000.0\\nsquared_error = 1.161\\nsamples = 2\\nvalue = 2.75'),\n",
       " Text(0.8666666666666667, 0.34375, 'squared_error = 0.0\\nsamples = 1\\nvalue = 3.828'),\n",
       " Text(0.8775510204081632, 0.34375, 'squared_error = 0.0\\nsamples = 1\\nvalue = 1.672'),\n",
       " Text(0.8938775510204081, 0.40625, 'Close <= 346.055\\nsquared_error = 0.313\\nsamples = 3\\nvalue = -0.124'),\n",
       " Text(0.8884353741496599, 0.34375, 'Open <= 348.37\\nsquared_error = 0.015\\nsamples = 2\\nvalue = 0.265'),\n",
       " Text(0.8829931972789116, 0.28125, 'squared_error = 0.0\\nsamples = 1\\nvalue = 0.142'),\n",
       " Text(0.8938775510204081, 0.28125, 'squared_error = 0.0\\nsamples = 1\\nvalue = 0.388'),\n",
       " Text(0.8993197278911564, 0.34375, 'squared_error = 0.0\\nsamples = 1\\nvalue = -0.902'),\n",
       " Text(0.9210884353741496, 0.53125, 'Open <= 346.47\\nsquared_error = 1.024\\nsamples = 4\\nvalue = -2.301'),\n",
       " Text(0.9102040816326531, 0.46875, 'Volume <= 51885900.0\\nsquared_error = 0.049\\nsamples = 2\\nvalue = -1.464'),\n",
       " Text(0.9047619047619048, 0.40625, 'squared_error = 0.0\\nsamples = 1\\nvalue = -1.686'),\n",
       " Text(0.9156462585034013, 0.40625, 'squared_error = 0.0\\nsamples = 1\\nvalue = -1.242'),\n",
       " Text(0.9319727891156463, 0.46875, 'Open <= 354.43\\nsquared_error = 0.596\\nsamples = 2\\nvalue = -3.139'),\n",
       " Text(0.926530612244898, 0.40625, 'squared_error = 0.0\\nsamples = 1\\nvalue = -3.911'),\n",
       " Text(0.9374149659863945, 0.40625, 'squared_error = -0.0\\nsamples = 1\\nvalue = -2.367'),\n",
       " Text(0.7073979591836734, 0.65625, 'squared_error = 0.0\\nsamples = 1\\nvalue = 8.332'),\n",
       " Text(0.9510204081632653, 0.71875, 'High <= 146.55\\nsquared_error = 2.792\\nsamples = 9\\nvalue = -1.854'),\n",
       " Text(0.9455782312925171, 0.65625, 'squared_error = 0.0\\nsamples = 1\\nvalue = 1.619'),\n",
       " Text(0.9564625850340136, 0.65625, 'Open <= 143.26\\nsquared_error = 1.445\\nsamples = 8\\nvalue = -2.288'),\n",
       " Text(0.9428571428571428, 0.59375, 'Close <= 144.64\\nsquared_error = 0.061\\nsamples = 2\\nvalue = -4.149'),\n",
       " Text(0.9374149659863945, 0.53125, 'squared_error = 0.0\\nsamples = 1\\nvalue = -3.902'),\n",
       " Text(0.9482993197278912, 0.53125, 'squared_error = -0.0\\nsamples = 1\\nvalue = -4.395'),\n",
       " Text(0.9700680272108844, 0.59375, 'Open <= 221.345\\nsquared_error = 0.368\\nsamples = 6\\nvalue = -1.668'),\n",
       " Text(0.9591836734693877, 0.53125, 'Low <= 175.855\\nsquared_error = 0.064\\nsamples = 3\\nvalue = -1.166'),\n",
       " Text(0.9537414965986395, 0.46875, 'Open <= 144.875\\nsquared_error = 0.0\\nsamples = 2\\nvalue = -0.987'),\n",
       " Text(0.9482993197278912, 0.40625, 'squared_error = 0.0\\nsamples = 1\\nvalue = -0.967'),\n",
       " Text(0.9591836734693877, 0.40625, 'squared_error = 0.0\\nsamples = 1\\nvalue = -1.008'),\n",
       " Text(0.964625850340136, 0.46875, 'squared_error = 0.0\\nsamples = 1\\nvalue = -1.524'),\n",
       " Text(0.9809523809523809, 0.53125, 'Low <= 259.78\\nsquared_error = 0.168\\nsamples = 3\\nvalue = -2.17'),\n",
       " Text(0.9755102040816327, 0.46875, 'Open <= 239.86\\nsquared_error = 0.016\\nsamples = 2\\nvalue = -1.889'),\n",
       " Text(0.9700680272108844, 0.40625, 'squared_error = 0.0\\nsamples = 1\\nvalue = -2.015'),\n",
       " Text(0.9809523809523809, 0.40625, 'squared_error = 0.0\\nsamples = 1\\nvalue = -1.763'),\n",
       " Text(0.9863945578231292, 0.46875, 'squared_error = 0.0\\nsamples = 1\\nvalue = -2.731'),\n",
       " Text(0.9673469387755103, 0.78125, 'Volume <= 89167400.0\\nsquared_error = 10.77\\nsamples = 2\\nvalue = 4.326'),\n",
       " Text(0.9619047619047619, 0.71875, 'squared_error = 0.0\\nsamples = 1\\nvalue = 7.607'),\n",
       " Text(0.9727891156462585, 0.71875, 'squared_error = -0.0\\nsamples = 1\\nvalue = 1.044'),\n",
       " Text(0.9078018707482993, 0.84375, 'squared_error = 0.0\\nsamples = 1\\nvalue = -17.287'),\n",
       " Text(0.9782312925170068, 0.90625, 'High <= 128.235\\nsquared_error = 37.185\\nsamples = 4\\nvalue = 4.174'),\n",
       " Text(0.9727891156462585, 0.84375, 'squared_error = 0.0\\nsamples = 1\\nvalue = -4.356'),\n",
       " Text(0.9836734693877551, 0.84375, 'High <= 158.59\\nsquared_error = 17.248\\nsamples = 3\\nvalue = 7.017'),\n",
       " Text(0.9782312925170068, 0.78125, 'squared_error = 0.0\\nsamples = 1\\nvalue = 12.447'),\n",
       " Text(0.9891156462585035, 0.78125, 'Open <= 157.865\\nsquared_error = 3.753\\nsamples = 2\\nvalue = 4.301'),\n",
       " Text(0.9836734693877551, 0.71875, 'squared_error = 0.0\\nsamples = 1\\nvalue = 6.239'),\n",
       " Text(0.9945578231292517, 0.71875, 'squared_error = -0.0\\nsamples = 1\\nvalue = 2.364')]"
      ]
     },
     "execution_count": 36,
     "metadata": {},
     "output_type": "execute_result"
    },
    {
     "data": {
      "image/png": "[encoded data removed]",
      "text/plain": [
       "<Figure size 640x480 with 1 Axes>"
      ]
     },
     "metadata": {},
     "output_type": "display_data"
    }
   ],
   "source": [
    "from sklearn.tree import plot_tree\n",
    "\n",
    "plot_tree(decision_tree=model_dt, feature_names=model_dt.feature_names_in_)"
   ]
  },
  {
   "cell_type": "markdown",
   "metadata": {},
   "source": [
    "### Calculate the predictions"
   ]
  },
  {
   "cell_type": "code",
   "execution_count": 37,
   "metadata": {},
   "outputs": [],
   "source": [
    "y_pred = model_dt.predict(X=explanatory)"
   ]
  },
  {
   "cell_type": "code",
   "execution_count": 38,
   "metadata": {},
   "outputs": [
    {
     "data": {
      "text/html": [
       "<div>\n",
       "<style scoped>\n",
       "    .dataframe tbody tr th:only-of-type {\n",
       "        vertical-align: middle;\n",
       "    }\n",
       "\n",
       "    .dataframe tbody tr th {\n",
       "        vertical-align: top;\n",
       "    }\n",
       "\n",
       "    .dataframe thead th {\n",
       "        text-align: right;\n",
       "    }\n",
       "</style>\n",
       "<table border=\"1\" class=\"dataframe\">\n",
       "  <thead>\n",
       "    <tr style=\"text-align: right;\">\n",
       "      <th></th>\n",
       "      <th>change_tomorrow</th>\n",
       "      <th>prediction</th>\n",
       "    </tr>\n",
       "    <tr>\n",
       "      <th>Date</th>\n",
       "      <th></th>\n",
       "      <th></th>\n",
       "    </tr>\n",
       "  </thead>\n",
       "  <tbody>\n",
       "    <tr>\n",
       "      <th>2016-12-08</th>\n",
       "      <td>1.549141</td>\n",
       "      <td>0.111448</td>\n",
       "    </tr>\n",
       "    <tr>\n",
       "      <th>2016-12-09</th>\n",
       "      <td>0.321694</td>\n",
       "      <td>0.271971</td>\n",
       "    </tr>\n",
       "    <tr>\n",
       "      <th>2016-12-12</th>\n",
       "      <td>1.286125</td>\n",
       "      <td>0.111448</td>\n",
       "    </tr>\n",
       "    <tr>\n",
       "      <th>2016-12-13</th>\n",
       "      <td>-0.478620</td>\n",
       "      <td>0.164264</td>\n",
       "    </tr>\n",
       "    <tr>\n",
       "      <th>2016-12-14</th>\n",
       "      <td>-0.159793</td>\n",
       "      <td>0.164264</td>\n",
       "    </tr>\n",
       "    <tr>\n",
       "      <th>...</th>\n",
       "      <td>...</td>\n",
       "      <td>...</td>\n",
       "    </tr>\n",
       "    <tr>\n",
       "      <th>2023-10-09</th>\n",
       "      <td>-0.435456</td>\n",
       "      <td>0.307557</td>\n",
       "    </tr>\n",
       "    <tr>\n",
       "      <th>2023-10-10</th>\n",
       "      <td>1.212321</td>\n",
       "      <td>0.307557</td>\n",
       "    </tr>\n",
       "    <tr>\n",
       "      <th>2023-10-11</th>\n",
       "      <td>-0.380484</td>\n",
       "      <td>0.307557</td>\n",
       "    </tr>\n",
       "    <tr>\n",
       "      <th>2023-10-12</th>\n",
       "      <td>-1.046591</td>\n",
       "      <td>0.307557</td>\n",
       "    </tr>\n",
       "    <tr>\n",
       "      <th>2023-10-13</th>\n",
       "      <td>1.476071</td>\n",
       "      <td>0.307557</td>\n",
       "    </tr>\n",
       "  </tbody>\n",
       "</table>\n",
       "<p>1723 rows × 2 columns</p>\n",
       "</div>"
      ],
      "text/plain": [
       "            change_tomorrow  prediction\n",
       "Date                                   \n",
       "2016-12-08         1.549141    0.111448\n",
       "2016-12-09         0.321694    0.271971\n",
       "2016-12-12         1.286125    0.111448\n",
       "2016-12-13        -0.478620    0.164264\n",
       "2016-12-14        -0.159793    0.164264\n",
       "...                     ...         ...\n",
       "2023-10-09        -0.435456    0.307557\n",
       "2023-10-10         1.212321    0.307557\n",
       "2023-10-11        -0.380484    0.307557\n",
       "2023-10-12        -1.046591    0.307557\n",
       "2023-10-13         1.476071    0.307557\n",
       "\n",
       "[1723 rows x 2 columns]"
      ]
     },
     "execution_count": 38,
     "metadata": {},
     "output_type": "execute_result"
    }
   ],
   "source": [
    "df_predictions = df[[\"change_tomorrow\"]].copy()\n",
    "\n",
    "df_predictions[\"prediction\"] =y_pred\n",
    "df_predictions"
   ]
  },
  {
   "cell_type": "markdown",
   "metadata": {},
   "source": [
    "### Evaluate the model: compare predictions with the reality"
   ]
  },
  {
   "cell_type": "code",
   "execution_count": 40,
   "metadata": {},
   "outputs": [
    {
     "data": {
      "text/plain": [
       "0.35938563266355095"
      ]
     },
     "execution_count": 40,
     "metadata": {},
     "output_type": "execute_result"
    }
   ],
   "source": [
    "model_dt.score(X=explanatory, y=target)"
   ]
  },
  {
   "cell_type": "markdown",
   "metadata": {},
   "source": [
    "### How to interpret the error"
   ]
  },
  {
   "cell_type": "code",
   "execution_count": 42,
   "metadata": {},
   "outputs": [
    {
     "data": {
      "text/html": [
       "<div>\n",
       "<style scoped>\n",
       "    .dataframe tbody tr th:only-of-type {\n",
       "        vertical-align: middle;\n",
       "    }\n",
       "\n",
       "    .dataframe tbody tr th {\n",
       "        vertical-align: top;\n",
       "    }\n",
       "\n",
       "    .dataframe thead th {\n",
       "        text-align: right;\n",
       "    }\n",
       "</style>\n",
       "<table border=\"1\" class=\"dataframe\">\n",
       "  <thead>\n",
       "    <tr style=\"text-align: right;\">\n",
       "      <th></th>\n",
       "      <th>change_tomorrow</th>\n",
       "      <th>prediction</th>\n",
       "    </tr>\n",
       "    <tr>\n",
       "      <th>Date</th>\n",
       "      <th></th>\n",
       "      <th></th>\n",
       "    </tr>\n",
       "  </thead>\n",
       "  <tbody>\n",
       "    <tr>\n",
       "      <th>2016-12-08</th>\n",
       "      <td>1.549141</td>\n",
       "      <td>0.111448</td>\n",
       "    </tr>\n",
       "    <tr>\n",
       "      <th>2016-12-09</th>\n",
       "      <td>0.321694</td>\n",
       "      <td>0.271971</td>\n",
       "    </tr>\n",
       "    <tr>\n",
       "      <th>2016-12-12</th>\n",
       "      <td>1.286125</td>\n",
       "      <td>0.111448</td>\n",
       "    </tr>\n",
       "    <tr>\n",
       "      <th>2016-12-13</th>\n",
       "      <td>-0.478620</td>\n",
       "      <td>0.164264</td>\n",
       "    </tr>\n",
       "    <tr>\n",
       "      <th>2016-12-14</th>\n",
       "      <td>-0.159793</td>\n",
       "      <td>0.164264</td>\n",
       "    </tr>\n",
       "    <tr>\n",
       "      <th>...</th>\n",
       "      <td>...</td>\n",
       "      <td>...</td>\n",
       "    </tr>\n",
       "    <tr>\n",
       "      <th>2023-10-09</th>\n",
       "      <td>-0.435456</td>\n",
       "      <td>0.307557</td>\n",
       "    </tr>\n",
       "    <tr>\n",
       "      <th>2023-10-10</th>\n",
       "      <td>1.212321</td>\n",
       "      <td>0.307557</td>\n",
       "    </tr>\n",
       "    <tr>\n",
       "      <th>2023-10-11</th>\n",
       "      <td>-0.380484</td>\n",
       "      <td>0.307557</td>\n",
       "    </tr>\n",
       "    <tr>\n",
       "      <th>2023-10-12</th>\n",
       "      <td>-1.046591</td>\n",
       "      <td>0.307557</td>\n",
       "    </tr>\n",
       "    <tr>\n",
       "      <th>2023-10-13</th>\n",
       "      <td>1.476071</td>\n",
       "      <td>0.307557</td>\n",
       "    </tr>\n",
       "  </tbody>\n",
       "</table>\n",
       "<p>1723 rows × 2 columns</p>\n",
       "</div>"
      ],
      "text/plain": [
       "            change_tomorrow  prediction\n",
       "Date                                   \n",
       "2016-12-08         1.549141    0.111448\n",
       "2016-12-09         0.321694    0.271971\n",
       "2016-12-12         1.286125    0.111448\n",
       "2016-12-13        -0.478620    0.164264\n",
       "2016-12-14        -0.159793    0.164264\n",
       "...                     ...         ...\n",
       "2023-10-09        -0.435456    0.307557\n",
       "2023-10-10         1.212321    0.307557\n",
       "2023-10-11        -0.380484    0.307557\n",
       "2023-10-12        -1.046591    0.307557\n",
       "2023-10-13         1.476071    0.307557\n",
       "\n",
       "[1723 rows x 2 columns]"
      ]
     },
     "execution_count": 42,
     "metadata": {},
     "output_type": "execute_result"
    }
   ],
   "source": [
    "df_predictions = df[[\"change_tomorrow\"]].copy()\n",
    "\n",
    "df_predictions[\"prediction\"] = y_pred\n",
    "df_predictions"
   ]
  },
  {
   "cell_type": "code",
   "execution_count": 44,
   "metadata": {},
   "outputs": [],
   "source": [
    "df_predictions[\"error\"] = df_predictions.prediction - df_predictions.change_tomorrow"
   ]
  },
  {
   "cell_type": "code",
   "execution_count": 47,
   "metadata": {},
   "outputs": [
    {
     "data": {
      "text/plain": [
       "0.0"
      ]
     },
     "execution_count": 47,
     "metadata": {},
     "output_type": "execute_result"
    }
   ],
   "source": [
    "df_predictions.error.sum().round(2)"
   ]
  },
  {
   "cell_type": "code",
   "execution_count": 49,
   "metadata": {},
   "outputs": [],
   "source": [
    "df_predictions[\"error2\"] = df_predictions.error**2"
   ]
  },
  {
   "cell_type": "code",
   "execution_count": 51,
   "metadata": {},
   "outputs": [],
   "source": [
    "sse = df_predictions.error2.sum()"
   ]
  },
  {
   "cell_type": "code",
   "execution_count": 53,
   "metadata": {},
   "outputs": [],
   "source": [
    "mse = df_predictions.error2.mean()"
   ]
  },
  {
   "cell_type": "code",
   "execution_count": 54,
   "metadata": {},
   "outputs": [],
   "source": [
    "import numpy as np"
   ]
  },
  {
   "cell_type": "code",
   "execution_count": 56,
   "metadata": {},
   "outputs": [],
   "source": [
    "rmse = np.sqrt(mse)"
   ]
  },
  {
   "cell_type": "code",
   "execution_count": 57,
   "metadata": {},
   "outputs": [
    {
     "data": {
      "text/plain": [
       "<Axes: >"
      ]
     },
     "execution_count": 57,
     "metadata": {},
     "output_type": "execute_result"
    },
    {
     "data": {
      "image/png": "[encoded data removed]",
      "text/plain": [
       "<Figure size 640x480 with 1 Axes>"
      ]
     },
     "metadata": {},
     "output_type": "display_data"
    }
   ],
   "source": [
    "df_predictions.error.hist(bins=30)"
   ]
  },
  {
   "cell_type": "code",
   "execution_count": 58,
   "metadata": {},
   "outputs": [
    {
     "data": {
      "text/plain": [
       "1.4435513744163069"
      ]
     },
     "execution_count": 58,
     "metadata": {},
     "output_type": "execute_result"
    }
   ],
   "source": [
    "rmse"
   ]
  },
  {
   "cell_type": "code",
   "execution_count": null,
   "metadata": {},
   "outputs": [],
   "source": []
  }
 ],
 "metadata": {
  "kernelspec": {
   "display_name": "tradingenv",
   "language": "python",
   "name": "python3"
  },
  "language_info": {
   "codemirror_mode": {
    "name": "ipython",
    "version": 3
   },
   "file_extension": ".py",
   "mimetype": "text/x-python",
   "name": "python",
   "nbconvert_exporter": "python",
   "pygments_lexer": "ipython3",
   "version": "3.11.6"
  }
 },
 "nbformat": 4,
 "nbformat_minor": 2
}
