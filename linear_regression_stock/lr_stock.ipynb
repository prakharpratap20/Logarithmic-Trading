{
 "cells": [
  {
   "cell_type": "code",
   "execution_count": 48,
   "metadata": {},
   "outputs": [],
   "source": [
    "from sklearn.model_selection import train_test_split\n",
    "from sklearn.linear_model import LinearRegression\n",
    "from sklearn import metrics \n",
    "from sklearn.metrics import mean_absolute_error\n",
    "import math"
   ]
  },
  {
   "cell_type": "code",
   "execution_count": 49,
   "metadata": {},
   "outputs": [],
   "source": [
    "import pandas as pd\n",
    "import matplotlib.pyplot as plt\n",
    "%matplotlib inline"
   ]
  },
  {
   "cell_type": "code",
   "execution_count": 50,
   "metadata": {},
   "outputs": [],
   "source": [
    "dataset = pd.read_csv(\"TSLA.csv\")"
   ]
  },
  {
   "cell_type": "code",
   "execution_count": 51,
   "metadata": {},
   "outputs": [
    {
     "data": {
      "text/html": [
       "<div>\n",
       "<style scoped>\n",
       "    .dataframe tbody tr th:only-of-type {\n",
       "        vertical-align: middle;\n",
       "    }\n",
       "\n",
       "    .dataframe tbody tr th {\n",
       "        vertical-align: top;\n",
       "    }\n",
       "\n",
       "    .dataframe thead th {\n",
       "        text-align: right;\n",
       "    }\n",
       "</style>\n",
       "<table border=\"1\" class=\"dataframe\">\n",
       "  <thead>\n",
       "    <tr style=\"text-align: right;\">\n",
       "      <th></th>\n",
       "      <th>Open</th>\n",
       "      <th>High</th>\n",
       "      <th>Low</th>\n",
       "      <th>Close</th>\n",
       "      <th>Adj Close</th>\n",
       "      <th>Volume</th>\n",
       "    </tr>\n",
       "  </thead>\n",
       "  <tbody>\n",
       "    <tr>\n",
       "      <th>count</th>\n",
       "      <td>3364.000000</td>\n",
       "      <td>3364.000000</td>\n",
       "      <td>3364.000000</td>\n",
       "      <td>3364.000000</td>\n",
       "      <td>3364.000000</td>\n",
       "      <td>3.364000e+03</td>\n",
       "    </tr>\n",
       "    <tr>\n",
       "      <th>mean</th>\n",
       "      <td>68.672148</td>\n",
       "      <td>70.197523</td>\n",
       "      <td>67.028231</td>\n",
       "      <td>68.649700</td>\n",
       "      <td>68.649700</td>\n",
       "      <td>9.655631e+07</td>\n",
       "    </tr>\n",
       "    <tr>\n",
       "      <th>std</th>\n",
       "      <td>100.546257</td>\n",
       "      <td>102.810294</td>\n",
       "      <td>98.052484</td>\n",
       "      <td>100.462713</td>\n",
       "      <td>100.462713</td>\n",
       "      <td>8.040867e+07</td>\n",
       "    </tr>\n",
       "    <tr>\n",
       "      <th>min</th>\n",
       "      <td>1.076000</td>\n",
       "      <td>1.108667</td>\n",
       "      <td>0.998667</td>\n",
       "      <td>1.053333</td>\n",
       "      <td>1.053333</td>\n",
       "      <td>1.777500e+06</td>\n",
       "    </tr>\n",
       "    <tr>\n",
       "      <th>25%</th>\n",
       "      <td>10.313000</td>\n",
       "      <td>10.577333</td>\n",
       "      <td>10.020000</td>\n",
       "      <td>10.191000</td>\n",
       "      <td>10.191000</td>\n",
       "      <td>4.554832e+07</td>\n",
       "    </tr>\n",
       "    <tr>\n",
       "      <th>50%</th>\n",
       "      <td>16.812666</td>\n",
       "      <td>17.063667</td>\n",
       "      <td>16.584001</td>\n",
       "      <td>16.829000</td>\n",
       "      <td>16.829000</td>\n",
       "      <td>8.062950e+07</td>\n",
       "    </tr>\n",
       "    <tr>\n",
       "      <th>75%</th>\n",
       "      <td>93.066666</td>\n",
       "      <td>94.049000</td>\n",
       "      <td>87.845501</td>\n",
       "      <td>91.485500</td>\n",
       "      <td>91.485500</td>\n",
       "      <td>1.231110e+08</td>\n",
       "    </tr>\n",
       "    <tr>\n",
       "      <th>max</th>\n",
       "      <td>411.470001</td>\n",
       "      <td>414.496674</td>\n",
       "      <td>405.666656</td>\n",
       "      <td>409.970001</td>\n",
       "      <td>409.970001</td>\n",
       "      <td>9.140820e+08</td>\n",
       "    </tr>\n",
       "  </tbody>\n",
       "</table>\n",
       "</div>"
      ],
      "text/plain": [
       "              Open         High          Low        Close    Adj Close  \\\n",
       "count  3364.000000  3364.000000  3364.000000  3364.000000  3364.000000   \n",
       "mean     68.672148    70.197523    67.028231    68.649700    68.649700   \n",
       "std     100.546257   102.810294    98.052484   100.462713   100.462713   \n",
       "min       1.076000     1.108667     0.998667     1.053333     1.053333   \n",
       "25%      10.313000    10.577333    10.020000    10.191000    10.191000   \n",
       "50%      16.812666    17.063667    16.584001    16.829000    16.829000   \n",
       "75%      93.066666    94.049000    87.845501    91.485500    91.485500   \n",
       "max     411.470001   414.496674   405.666656   409.970001   409.970001   \n",
       "\n",
       "             Volume  \n",
       "count  3.364000e+03  \n",
       "mean   9.655631e+07  \n",
       "std    8.040867e+07  \n",
       "min    1.777500e+06  \n",
       "25%    4.554832e+07  \n",
       "50%    8.062950e+07  \n",
       "75%    1.231110e+08  \n",
       "max    9.140820e+08  "
      ]
     },
     "execution_count": 51,
     "metadata": {},
     "output_type": "execute_result"
    }
   ],
   "source": [
    "dataset.describe()"
   ]
  },
  {
   "cell_type": "code",
   "execution_count": 52,
   "metadata": {},
   "outputs": [],
   "source": [
    "x = dataset[[\"High\", \"Low\", \"Open\", \"Volume\"]].values\n",
    "y = dataset[\"Close\"].values\n"
   ]
  },
  {
   "cell_type": "code",
   "execution_count": 53,
   "metadata": {},
   "outputs": [],
   "source": [
    "x_train, x_test, y_train, y_test = train_test_split(x, y, test_size=0.2, random_state=0)"
   ]
  },
  {
   "cell_type": "code",
   "execution_count": 54,
   "metadata": {},
   "outputs": [],
   "source": [
    "regressor = LinearRegression()"
   ]
  },
  {
   "cell_type": "code",
   "execution_count": 55,
   "metadata": {},
   "outputs": [
    {
     "data": {
      "text/html": [
       "<style>#sk-container-id-4 {color: black;}#sk-container-id-4 pre{padding: 0;}#sk-container-id-4 div.sk-toggleable {background-color: white;}#sk-container-id-4 label.sk-toggleable__label {cursor: pointer;display: block;width: 100%;margin-bottom: 0;padding: 0.3em;box-sizing: border-box;text-align: center;}#sk-container-id-4 label.sk-toggleable__label-arrow:before {content: \"▸\";float: left;margin-right: 0.25em;color: #696969;}#sk-container-id-4 label.sk-toggleable__label-arrow:hover:before {color: black;}#sk-container-id-4 div.sk-estimator:hover label.sk-toggleable__label-arrow:before {color: black;}#sk-container-id-4 div.sk-toggleable__content {max-height: 0;max-width: 0;overflow: hidden;text-align: left;background-color: #f0f8ff;}#sk-container-id-4 div.sk-toggleable__content pre {margin: 0.2em;color: black;border-radius: 0.25em;background-color: #f0f8ff;}#sk-container-id-4 input.sk-toggleable__control:checked~div.sk-toggleable__content {max-height: 200px;max-width: 100%;overflow: auto;}#sk-container-id-4 input.sk-toggleable__control:checked~label.sk-toggleable__label-arrow:before {content: \"▾\";}#sk-container-id-4 div.sk-estimator input.sk-toggleable__control:checked~label.sk-toggleable__label {background-color: #d4ebff;}#sk-container-id-4 div.sk-label input.sk-toggleable__control:checked~label.sk-toggleable__label {background-color: #d4ebff;}#sk-container-id-4 input.sk-hidden--visually {border: 0;clip: rect(1px 1px 1px 1px);clip: rect(1px, 1px, 1px, 1px);height: 1px;margin: -1px;overflow: hidden;padding: 0;position: absolute;width: 1px;}#sk-container-id-4 div.sk-estimator {font-family: monospace;background-color: #f0f8ff;border: 1px dotted black;border-radius: 0.25em;box-sizing: border-box;margin-bottom: 0.5em;}#sk-container-id-4 div.sk-estimator:hover {background-color: #d4ebff;}#sk-container-id-4 div.sk-parallel-item::after {content: \"\";width: 100%;border-bottom: 1px solid gray;flex-grow: 1;}#sk-container-id-4 div.sk-label:hover label.sk-toggleable__label {background-color: #d4ebff;}#sk-container-id-4 div.sk-serial::before {content: \"\";position: absolute;border-left: 1px solid gray;box-sizing: border-box;top: 0;bottom: 0;left: 50%;z-index: 0;}#sk-container-id-4 div.sk-serial {display: flex;flex-direction: column;align-items: center;background-color: white;padding-right: 0.2em;padding-left: 0.2em;position: relative;}#sk-container-id-4 div.sk-item {position: relative;z-index: 1;}#sk-container-id-4 div.sk-parallel {display: flex;align-items: stretch;justify-content: center;background-color: white;position: relative;}#sk-container-id-4 div.sk-item::before, #sk-container-id-4 div.sk-parallel-item::before {content: \"\";position: absolute;border-left: 1px solid gray;box-sizing: border-box;top: 0;bottom: 0;left: 50%;z-index: -1;}#sk-container-id-4 div.sk-parallel-item {display: flex;flex-direction: column;z-index: 1;position: relative;background-color: white;}#sk-container-id-4 div.sk-parallel-item:first-child::after {align-self: flex-end;width: 50%;}#sk-container-id-4 div.sk-parallel-item:last-child::after {align-self: flex-start;width: 50%;}#sk-container-id-4 div.sk-parallel-item:only-child::after {width: 0;}#sk-container-id-4 div.sk-dashed-wrapped {border: 1px dashed gray;margin: 0 0.4em 0.5em 0.4em;box-sizing: border-box;padding-bottom: 0.4em;background-color: white;}#sk-container-id-4 div.sk-label label {font-family: monospace;font-weight: bold;display: inline-block;line-height: 1.2em;}#sk-container-id-4 div.sk-label-container {text-align: center;}#sk-container-id-4 div.sk-container {/* jupyter's `normalize.less` sets `[hidden] { display: none; }` but bootstrap.min.css set `[hidden] { display: none !important; }` so we also need the `!important` here to be able to override the default hidden behavior on the sphinx rendered scikit-learn.org. See: https://github.com/scikit-learn/scikit-learn/issues/21755 */display: inline-block !important;position: relative;}#sk-container-id-4 div.sk-text-repr-fallback {display: none;}</style><div id=\"sk-container-id-4\" class=\"sk-top-container\"><div class=\"sk-text-repr-fallback\"><pre>LinearRegression()</pre><b>In a Jupyter environment, please rerun this cell to show the HTML representation or trust the notebook. <br />On GitHub, the HTML representation is unable to render, please try loading this page with nbviewer.org.</b></div><div class=\"sk-container\" hidden><div class=\"sk-item\"><div class=\"sk-estimator sk-toggleable\"><input class=\"sk-toggleable__control sk-hidden--visually\" id=\"sk-estimator-id-4\" type=\"checkbox\" checked><label for=\"sk-estimator-id-4\" class=\"sk-toggleable__label sk-toggleable__label-arrow\">LinearRegression</label><div class=\"sk-toggleable__content\"><pre>LinearRegression()</pre></div></div></div></div></div>"
      ],
      "text/plain": [
       "LinearRegression()"
      ]
     },
     "execution_count": 55,
     "metadata": {},
     "output_type": "execute_result"
    }
   ],
   "source": [
    "regressor.fit(x_train, y_train)"
   ]
  },
  {
   "cell_type": "code",
   "execution_count": 56,
   "metadata": {},
   "outputs": [
    {
     "name": "stdout",
     "output_type": "stream",
     "text": [
      "[ 8.50613520e-01  7.99755343e-01 -6.50778525e-01  6.46882454e-10]\n"
     ]
    }
   ],
   "source": [
    "print(regressor.coef_)"
   ]
  },
  {
   "cell_type": "code",
   "execution_count": 57,
   "metadata": {},
   "outputs": [
    {
     "name": "stdout",
     "output_type": "stream",
     "text": [
      "-0.03960155328570636\n"
     ]
    }
   ],
   "source": [
    "print(regressor.intercept_)"
   ]
  },
  {
   "cell_type": "code",
   "execution_count": 58,
   "metadata": {},
   "outputs": [],
   "source": [
    "predicted = regressor.predict(x_test)"
   ]
  },
  {
   "cell_type": "code",
   "execution_count": 59,
   "metadata": {},
   "outputs": [
    {
     "name": "stdout",
     "output_type": "stream",
     "text": [
      "[251.16029428  24.07745926   3.268764    16.75910321  16.90664454\n",
      " 306.47968112  79.98314223  19.89407489  15.96628214  14.64659677\n",
      "   1.60130176  11.050653    15.54126675  15.78733668  14.31073617\n",
      " 229.29281405   1.86681681   2.34837573 100.821302     1.94441299\n",
      "  12.63492123   2.06510209 230.42688656 221.01814048 243.81518666\n",
      "  17.9159778  292.89169742  16.05565526  13.71406591   1.94057901\n",
      "   1.20432519  16.19291089   2.19004929  14.88951114  15.91442657\n",
      " 271.11486902 106.23632925   1.28960927  20.48435307 303.72375193\n",
      "   9.16382549   1.83414251 169.93503546  13.76606881 248.3359979\n",
      "   2.54843337   2.18992464  10.48920953  15.32429643   1.74265096\n",
      "   9.87702402  25.38433218  18.11397157 246.14375667   2.08517423\n",
      "  14.80508728   7.97677654 227.04857446  17.26280422  21.7272153\n",
      "  16.62263665  16.53771339   2.07515676  16.57734976  17.10258293\n",
      " 142.71586874  23.75791956 206.64448589  36.91188785  16.74415415\n",
      "  20.4838147   94.65111363  11.80538809   2.24224756  22.37092899\n",
      " 246.26894158   2.23319534   1.50854939  19.054673     1.86612629\n",
      " 181.24474813  21.24078842  35.58482887 187.65809986 221.85521976\n",
      " 252.07939345  24.65172997  15.52245462  24.73214906  23.63310075\n",
      " 272.50588585  12.70509591  15.73596906 107.0210395   20.37302999\n",
      "  14.019028    23.6513689    2.23540258  20.89313328   1.67012075\n",
      " 196.0924534    1.33227549   1.85054083  24.21000525   1.87985902\n",
      " 191.98972306 235.80988065   3.12983015  21.82604098   1.47618464\n",
      "   8.87034264 226.59293594  14.40930715   2.58659037 129.05544436\n",
      "  14.63611905 230.42946021   1.93467464  16.1707167   19.62485079\n",
      " 180.77945631 277.13092353  14.58312991 236.94919097 247.37793956\n",
      "  38.02694584 227.57831521 270.18418151  17.83672164   6.05908052\n",
      " 225.31709988 298.1681806   10.84129126  15.60641503   1.93728491\n",
      "  12.57701989  14.30881244  23.62582486 202.15102844   1.93864313\n",
      "  25.08341797   1.84052642  13.99984297   1.47288692  12.98107165\n",
      "   1.8276473  130.28937687 240.31596862 194.49976332   1.81192411\n",
      "   1.97647511   2.44833868   1.59339566  14.80269056  14.80307596\n",
      "   1.31234192   3.80210947   1.91068325 187.53220357 256.75594024\n",
      "   2.29695651  23.89119894  14.29457459   1.81741858  17.78223544\n",
      "  14.16752955   1.69611151   1.81518307 140.10201439  13.51758642\n",
      "  17.36272679  21.1938741    1.69682215   1.17961574   2.24643012\n",
      "   2.06837012 183.77889451 299.26351145   1.93606495 261.53721447\n",
      " 218.32891276  15.25906279   1.99268814   1.60726137 186.40324444\n",
      "   2.45850884 262.21025637  10.5757178   16.69725804  54.65328349\n",
      "  10.41792626  13.54010466  14.6708902  175.18004408   9.48112657\n",
      "  13.12970048 262.86430722  16.71313324   1.78773123  16.02993186\n",
      "  23.36843088  19.68340282  22.51386483  20.10945351 295.33763262\n",
      " 145.14542831  22.27943693  16.53175479   2.48824206 214.81705562\n",
      " 348.16190828   1.13748442  20.32607695 133.32365428   1.30108274\n",
      "   2.41895522   2.07922934  20.16918869  51.74744885   2.21603817\n",
      " 142.13524592   1.85890709  15.72198584 196.4684086   14.88587617\n",
      "  14.49860121 237.01806448  52.0708258  362.34933382  23.87923295\n",
      "  54.32635475  16.5757616   16.74598127   1.88017277 248.85522047\n",
      "  21.38114096 235.92599358 257.77038826   3.46055944 269.8319617\n",
      "  20.15496732  15.55777383 207.50274179   1.9107524    1.90144145\n",
      "   2.33496823 234.64541168  20.90573329  15.83083334  16.54234713\n",
      "  16.9026325  281.34144493  11.04309859  23.21329875   2.48508279\n",
      " 242.32351131 239.20183177  15.73724095  13.71957183 213.57684473\n",
      "   2.01988962  16.9999677  120.99151024  22.14510934  18.77910151\n",
      "   1.58014265  14.36544693   1.86629985  14.57195877  19.68477651\n",
      " 245.49705222  10.32500589  22.85890621  11.87232982 186.53332616\n",
      "   1.56831006  16.84954838 383.88283822  18.37672197  18.90237539\n",
      " 171.43519997  14.21427708  15.30219895  23.69335039 191.97749503\n",
      " 277.38859861  14.80083654 178.52219766   1.82900437  15.7827359\n",
      "   2.08513483  12.87991238 230.68194799  17.02950156  15.6846149\n",
      "   1.95954006   2.23906874 134.91909274 218.53197146  13.50890905\n",
      " 237.37722816 249.4309829   51.5650179  196.42920787  20.26057396\n",
      "   2.17363902  15.27285842   2.14355585 232.98542912  49.70165402\n",
      "  18.2178145    2.36451133 142.85162827 224.51677715   2.1278785\n",
      "  22.54793417  14.65758026   1.64895194 355.24698069  51.00296257\n",
      "   1.91535679  20.65409586  28.97429368   2.14982089 281.91164699\n",
      "   2.96962364   2.24563429 347.20273371   1.52537002   1.70918282\n",
      "  13.80381543   2.05634836 164.71483317   1.91614246  21.67961983\n",
      " 138.2114034   24.34464055   2.22538716  13.84397371   2.35821003\n",
      "  15.90084078   1.9612561    2.31417346 254.78867992  20.87951204\n",
      "   6.75742801   1.5461847  212.5257174  351.78094596   8.95814857\n",
      "  12.73846181  17.10224772   1.91719571   1.34272086  14.64063082\n",
      "  11.94128948   5.8581057   10.26381121  67.07123075  35.44828594\n",
      "  11.3168756    2.18990642   9.24507449 305.67847928  16.98428457\n",
      "   1.85082806  11.06227292 310.88766751   1.90953582   1.57046068\n",
      " 259.58537081 296.34539907  18.56582378  19.09981632  17.21619144\n",
      "   2.29120206   2.20710404  15.22855065 220.81861279  23.51320315\n",
      "  35.65730072   1.25982764  22.29471123   1.35839694  12.77328113\n",
      "  15.84029634  14.84777692   1.87675584   2.51873087  20.42826643\n",
      "  21.85016992  22.56507825  12.67650858  19.59222963 289.73102685\n",
      "  53.83030882   1.80849855  16.11294054  17.69571666  62.28858417\n",
      "   1.59006695  15.79920522  12.06151784 162.56848355   1.77600202\n",
      "   9.3811498   15.1107917   17.58090225  15.17981495 250.56705502\n",
      "   2.08191055   1.97559464  17.08846334 272.41042519  20.36641851\n",
      "  23.34954154  38.97539347  14.81422712   1.88433486   1.93082078\n",
      "   2.27707129  15.94070716  13.50911683   1.98001012   1.72193036\n",
      "  21.7088262    1.54876882  15.933341    21.35858019  12.58401645\n",
      "   1.55532197  21.48468065 311.18178448 290.94750069 147.53086178\n",
      " 282.67009465  16.90803163  18.70936687 178.30495326  18.35842113\n",
      " 261.25694943  23.52777415  23.81063222  15.45565392 262.70953298\n",
      " 222.8222649   22.92529859  20.33431497 251.02811479  35.67449033\n",
      "  14.92802635  14.71779177  53.36187318   1.82197565  14.20765615\n",
      " 275.10395039   1.39287852  12.74961734   2.26727095   1.75604037\n",
      "  21.51009118  20.21946394 181.65140771   1.9260384    1.35321232\n",
      " 219.06626983  16.59325321   3.59827573  13.49766082 196.33851111\n",
      "   3.65127245  14.47592114   1.52301526  31.11249169  21.02345324\n",
      " 274.32325829  14.26113978 290.52981337  66.63512263   1.48500382\n",
      " 170.31269232 239.36005392  14.44622758 161.71826426  13.70395718\n",
      "   1.95299893 133.10940543 205.17137736 220.82074004  19.6779266\n",
      "  16.32596274  22.65267991 269.89651605   1.87567053  21.95713392\n",
      " 209.49646023  65.85416514   9.29568729  47.91273851  32.16731946\n",
      "  96.14086638  16.0013887    1.84062143  22.72911605  16.39622655\n",
      "  16.63114781 187.94359273   8.63270943   2.98737911 261.28111746\n",
      "  14.57235897 364.03884577  24.36654838   1.35106127 219.26631886\n",
      "  22.99694242  14.76620878 286.45192352  19.8929722   20.92993247\n",
      "  16.66514977   1.81726343  17.03849596  14.98120094 228.92911066\n",
      " 280.63416853   1.80310279  14.42852843  23.71086926  11.0752392\n",
      "  16.58345349  14.58940622 128.1547656   21.74693299  58.13309273\n",
      "   2.23575152  67.35816498  16.27440445 261.92716741  26.28705259\n",
      "  12.29707995 364.78353214   1.77389694   2.23935666 219.09957518\n",
      "  20.44762764  13.14025805  21.74370125 107.46101576  22.77738597\n",
      "  12.83762354  54.24976829   2.46351567  14.55607097   1.93029819\n",
      "   2.24578673 140.85238915  18.60464377  13.70615046  16.34274069\n",
      "  17.11849074  23.61448004 150.52929962   1.32424498  46.14438884\n",
      "   1.825184     1.47435969  15.46220526  17.9613902   23.32386594\n",
      " 299.78449894  64.52754571  14.23805691 218.73318656  15.2360486\n",
      "  15.02458473  14.78460578  18.02466356   1.57335521 308.29846221\n",
      "  98.5728846  127.24132172  12.45081435 169.42180965 215.80352304\n",
      "   2.41103861   1.85879322  14.11739315  14.14132324  19.71221054\n",
      "  18.10501224  16.45651028 199.209264    14.79553205 229.41250698\n",
      "  14.53943653  16.97404131   1.8763547   15.37043812  17.50457258\n",
      " 253.62554011   9.14552711 157.08342016  16.92195429 326.94343428\n",
      " 209.07800544 169.36601371  14.0821759  209.91895077  23.22107327\n",
      "   2.00720642 160.42215047  24.7956161  305.97037616  17.41515364\n",
      " 194.35386317  22.66693716  17.25290071   1.19002237  12.91420119\n",
      "  23.39696008  99.79968779   2.32495167  20.47170444   1.33875111\n",
      " 200.70373661   1.23804171  15.46333816 133.57776199 217.32584051\n",
      "  15.99028812  11.93613628 279.54673532  22.831367    23.25091806\n",
      "   1.89497457  15.37299548 281.45265906  24.12562545  13.91147306\n",
      "  14.14188854  16.70323396  13.68428173  19.27842263  18.29992533\n",
      " 235.2607399   15.21714769   9.93082398  13.67209521  17.26954124\n",
      " 358.85759737  15.11355923   1.90081435 115.45159718   1.77177488\n",
      "   1.22471593  16.10811343  11.47989904  61.65334177   2.08485037\n",
      "   2.32864377   2.08040056  28.74078578  14.80558457  13.53324489\n",
      " 219.54813281  19.05746381 219.89067383  13.78506175   1.76567586\n",
      " 321.43857388 269.83004408   2.33580869]\n"
     ]
    }
   ],
   "source": [
    "print(predicted)"
   ]
  },
  {
   "cell_type": "code",
   "execution_count": 60,
   "metadata": {},
   "outputs": [],
   "source": [
    "dframe = pd.DataFrame({\"Actual\": y_test.flatten(), \"Predicted\": predicted.flatten()})"
   ]
  },
  {
   "cell_type": "code",
   "execution_count": 61,
   "metadata": {},
   "outputs": [
    {
     "data": {
      "text/html": [
       "<div>\n",
       "<style scoped>\n",
       "    .dataframe tbody tr th:only-of-type {\n",
       "        vertical-align: middle;\n",
       "    }\n",
       "\n",
       "    .dataframe tbody tr th {\n",
       "        vertical-align: top;\n",
       "    }\n",
       "\n",
       "    .dataframe thead th {\n",
       "        text-align: right;\n",
       "    }\n",
       "</style>\n",
       "<table border=\"1\" class=\"dataframe\">\n",
       "  <thead>\n",
       "    <tr style=\"text-align: right;\">\n",
       "      <th></th>\n",
       "      <th>Actual</th>\n",
       "      <th>Predicted</th>\n",
       "    </tr>\n",
       "  </thead>\n",
       "  <tbody>\n",
       "    <tr>\n",
       "      <th>0</th>\n",
       "      <td>252.330002</td>\n",
       "      <td>251.160294</td>\n",
       "    </tr>\n",
       "    <tr>\n",
       "      <th>1</th>\n",
       "      <td>24.246000</td>\n",
       "      <td>24.077459</td>\n",
       "    </tr>\n",
       "    <tr>\n",
       "      <th>2</th>\n",
       "      <td>3.188667</td>\n",
       "      <td>3.268764</td>\n",
       "    </tr>\n",
       "    <tr>\n",
       "      <th>3</th>\n",
       "      <td>16.698668</td>\n",
       "      <td>16.759103</td>\n",
       "    </tr>\n",
       "    <tr>\n",
       "      <th>4</th>\n",
       "      <td>17.000668</td>\n",
       "      <td>16.906645</td>\n",
       "    </tr>\n",
       "    <tr>\n",
       "      <th>5</th>\n",
       "      <td>312.239990</td>\n",
       "      <td>306.479681</td>\n",
       "    </tr>\n",
       "    <tr>\n",
       "      <th>6</th>\n",
       "      <td>80.577332</td>\n",
       "      <td>79.983142</td>\n",
       "    </tr>\n",
       "    <tr>\n",
       "      <th>7</th>\n",
       "      <td>19.828667</td>\n",
       "      <td>19.894075</td>\n",
       "    </tr>\n",
       "    <tr>\n",
       "      <th>8</th>\n",
       "      <td>16.002666</td>\n",
       "      <td>15.966282</td>\n",
       "    </tr>\n",
       "    <tr>\n",
       "      <th>9</th>\n",
       "      <td>14.599333</td>\n",
       "      <td>14.646597</td>\n",
       "    </tr>\n",
       "  </tbody>\n",
       "</table>\n",
       "</div>"
      ],
      "text/plain": [
       "       Actual   Predicted\n",
       "0  252.330002  251.160294\n",
       "1   24.246000   24.077459\n",
       "2    3.188667    3.268764\n",
       "3   16.698668   16.759103\n",
       "4   17.000668   16.906645\n",
       "5  312.239990  306.479681\n",
       "6   80.577332   79.983142\n",
       "7   19.828667   19.894075\n",
       "8   16.002666   15.966282\n",
       "9   14.599333   14.646597"
      ]
     },
     "execution_count": 61,
     "metadata": {},
     "output_type": "execute_result"
    }
   ],
   "source": [
    "dframe.head(10)"
   ]
  },
  {
   "cell_type": "code",
   "execution_count": 64,
   "metadata": {},
   "outputs": [
    {
     "name": "stdout",
     "output_type": "stream",
     "text": [
      "Mean Absolute Error: 0.6918556878081252\n",
      "Mean Squared Error: 2.313964015536315\n",
      "Root Mean Squared Errors: 1.5211719217551694\n"
     ]
    }
   ],
   "source": [
    "print(\"Mean Absolute Error:\", metrics.mean_absolute_error(y_test, predicted))\n",
    "print(\"Mean Squared Error:\", metrics.mean_squared_error(y_test, predicted))\n",
    "print(\"Root Mean Squared Errors:\", math.sqrt(metrics.mean_squared_error(y_test, predicted)))"
   ]
  },
  {
   "cell_type": "code",
   "execution_count": 65,
   "metadata": {},
   "outputs": [],
   "source": [
    "graph = dframe.head(20)"
   ]
  },
  {
   "cell_type": "code",
   "execution_count": null,
   "metadata": {},
   "outputs": [],
   "source": [
    "graph.plot(kind=\"bar\")"
   ]
  },
  {
   "cell_type": "code",
   "execution_count": null,
   "metadata": {},
   "outputs": [],
   "source": []
  }
 ],
 "metadata": {
  "kernelspec": {
   "display_name": "penv",
   "language": "python",
   "name": "python3"
  },
  "language_info": {
   "codemirror_mode": {
    "name": "ipython",
    "version": 3
   },
   "file_extension": ".py",
   "mimetype": "text/x-python",
   "name": "python",
   "nbconvert_exporter": "python",
   "pygments_lexer": "ipython3",
   "version": "3.11.6"
  }
 },
 "nbformat": 4,
 "nbformat_minor": 2
}
