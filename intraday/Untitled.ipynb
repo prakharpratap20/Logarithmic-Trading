{
 "cells": [
  {
   "cell_type": "code",
   "execution_count": 21,
   "id": "6c8572db-0b95-4f47-bb39-33dfe04a047e",
   "metadata": {},
   "outputs": [],
   "source": [
    "import yfinance as yf\n",
    "import pandas as pd\n",
    "import datetime as dt"
   ]
  },
  {
   "cell_type": "code",
   "execution_count": 22,
   "id": "063a6364-f534-427d-84ea-48a2637da96c",
   "metadata": {},
   "outputs": [],
   "source": [
    "asset = \"TSLA\""
   ]
  },
  {
   "cell_type": "code",
   "execution_count": 23,
   "id": "07679d5a-74ab-481e-b4f2-b8fe1c503891",
   "metadata": {},
   "outputs": [
    {
     "name": "stdout",
     "output_type": "stream",
     "text": [
      "[*********************100%%**********************]  1 of 1 completed\n"
     ]
    }
   ],
   "source": [
    "intraday = yf.download(asset, start=\"2023-12-01\", end=\"2023-12-08\", interval=\"1m\")"
   ]
  },
  {
   "cell_type": "code",
   "execution_count": 24,
   "id": "539851da-ecec-452c-ab8c-7591252317f7",
   "metadata": {},
   "outputs": [
    {
     "data": {
      "text/html": [
       "<div>\n",
       "<style scoped>\n",
       "    .dataframe tbody tr th:only-of-type {\n",
       "        vertical-align: middle;\n",
       "    }\n",
       "\n",
       "    .dataframe tbody tr th {\n",
       "        vertical-align: top;\n",
       "    }\n",
       "\n",
       "    .dataframe thead th {\n",
       "        text-align: right;\n",
       "    }\n",
       "</style>\n",
       "<table border=\"1\" class=\"dataframe\">\n",
       "  <thead>\n",
       "    <tr style=\"text-align: right;\">\n",
       "      <th></th>\n",
       "      <th>Open</th>\n",
       "      <th>High</th>\n",
       "      <th>Low</th>\n",
       "      <th>Close</th>\n",
       "      <th>Adj Close</th>\n",
       "      <th>Volume</th>\n",
       "    </tr>\n",
       "    <tr>\n",
       "      <th>Datetime</th>\n",
       "      <th></th>\n",
       "      <th></th>\n",
       "      <th></th>\n",
       "      <th></th>\n",
       "      <th></th>\n",
       "      <th></th>\n",
       "    </tr>\n",
       "  </thead>\n",
       "  <tbody>\n",
       "    <tr>\n",
       "      <th>2023-12-01 09:30:00-05:00</th>\n",
       "      <td>234.100006</td>\n",
       "      <td>234.160004</td>\n",
       "      <td>234.100006</td>\n",
       "      <td>234.160004</td>\n",
       "      <td>234.160004</td>\n",
       "      <td>4292380</td>\n",
       "    </tr>\n",
       "    <tr>\n",
       "      <th>2023-12-01 09:31:00-05:00</th>\n",
       "      <td>234.160004</td>\n",
       "      <td>235.759995</td>\n",
       "      <td>234.060104</td>\n",
       "      <td>235.059998</td>\n",
       "      <td>235.059998</td>\n",
       "      <td>1093234</td>\n",
       "    </tr>\n",
       "    <tr>\n",
       "      <th>2023-12-01 09:32:00-05:00</th>\n",
       "      <td>235.050507</td>\n",
       "      <td>235.100006</td>\n",
       "      <td>233.500000</td>\n",
       "      <td>233.990005</td>\n",
       "      <td>233.990005</td>\n",
       "      <td>931086</td>\n",
       "    </tr>\n",
       "    <tr>\n",
       "      <th>2023-12-01 09:33:00-05:00</th>\n",
       "      <td>233.981598</td>\n",
       "      <td>234.199997</td>\n",
       "      <td>232.289993</td>\n",
       "      <td>233.250000</td>\n",
       "      <td>233.250000</td>\n",
       "      <td>1321894</td>\n",
       "    </tr>\n",
       "    <tr>\n",
       "      <th>2023-12-01 09:34:00-05:00</th>\n",
       "      <td>233.210007</td>\n",
       "      <td>233.210007</td>\n",
       "      <td>231.910004</td>\n",
       "      <td>232.970001</td>\n",
       "      <td>232.970001</td>\n",
       "      <td>1170471</td>\n",
       "    </tr>\n",
       "    <tr>\n",
       "      <th>...</th>\n",
       "      <td>...</td>\n",
       "      <td>...</td>\n",
       "      <td>...</td>\n",
       "      <td>...</td>\n",
       "      <td>...</td>\n",
       "      <td>...</td>\n",
       "    </tr>\n",
       "    <tr>\n",
       "      <th>2023-12-07 15:55:00-05:00</th>\n",
       "      <td>242.729996</td>\n",
       "      <td>242.858597</td>\n",
       "      <td>242.520004</td>\n",
       "      <td>242.534195</td>\n",
       "      <td>242.534195</td>\n",
       "      <td>321565</td>\n",
       "    </tr>\n",
       "    <tr>\n",
       "      <th>2023-12-07 15:56:00-05:00</th>\n",
       "      <td>242.550003</td>\n",
       "      <td>242.649994</td>\n",
       "      <td>242.440002</td>\n",
       "      <td>242.557007</td>\n",
       "      <td>242.557007</td>\n",
       "      <td>258690</td>\n",
       "    </tr>\n",
       "    <tr>\n",
       "      <th>2023-12-07 15:57:00-05:00</th>\n",
       "      <td>242.539993</td>\n",
       "      <td>242.589996</td>\n",
       "      <td>242.300003</td>\n",
       "      <td>242.470093</td>\n",
       "      <td>242.470093</td>\n",
       "      <td>284621</td>\n",
       "    </tr>\n",
       "    <tr>\n",
       "      <th>2023-12-07 15:58:00-05:00</th>\n",
       "      <td>242.479996</td>\n",
       "      <td>242.630005</td>\n",
       "      <td>242.449997</td>\n",
       "      <td>242.559998</td>\n",
       "      <td>242.559998</td>\n",
       "      <td>286183</td>\n",
       "    </tr>\n",
       "    <tr>\n",
       "      <th>2023-12-07 15:59:00-05:00</th>\n",
       "      <td>242.550003</td>\n",
       "      <td>242.720001</td>\n",
       "      <td>242.460007</td>\n",
       "      <td>242.639999</td>\n",
       "      <td>242.639999</td>\n",
       "      <td>483564</td>\n",
       "    </tr>\n",
       "  </tbody>\n",
       "</table>\n",
       "<p>1950 rows × 6 columns</p>\n",
       "</div>"
      ],
      "text/plain": [
       "                                 Open        High         Low       Close  \\\n",
       "Datetime                                                                    \n",
       "2023-12-01 09:30:00-05:00  234.100006  234.160004  234.100006  234.160004   \n",
       "2023-12-01 09:31:00-05:00  234.160004  235.759995  234.060104  235.059998   \n",
       "2023-12-01 09:32:00-05:00  235.050507  235.100006  233.500000  233.990005   \n",
       "2023-12-01 09:33:00-05:00  233.981598  234.199997  232.289993  233.250000   \n",
       "2023-12-01 09:34:00-05:00  233.210007  233.210007  231.910004  232.970001   \n",
       "...                               ...         ...         ...         ...   \n",
       "2023-12-07 15:55:00-05:00  242.729996  242.858597  242.520004  242.534195   \n",
       "2023-12-07 15:56:00-05:00  242.550003  242.649994  242.440002  242.557007   \n",
       "2023-12-07 15:57:00-05:00  242.539993  242.589996  242.300003  242.470093   \n",
       "2023-12-07 15:58:00-05:00  242.479996  242.630005  242.449997  242.559998   \n",
       "2023-12-07 15:59:00-05:00  242.550003  242.720001  242.460007  242.639999   \n",
       "\n",
       "                            Adj Close   Volume  \n",
       "Datetime                                        \n",
       "2023-12-01 09:30:00-05:00  234.160004  4292380  \n",
       "2023-12-01 09:31:00-05:00  235.059998  1093234  \n",
       "2023-12-01 09:32:00-05:00  233.990005   931086  \n",
       "2023-12-01 09:33:00-05:00  233.250000  1321894  \n",
       "2023-12-01 09:34:00-05:00  232.970001  1170471  \n",
       "...                               ...      ...  \n",
       "2023-12-07 15:55:00-05:00  242.534195   321565  \n",
       "2023-12-07 15:56:00-05:00  242.557007   258690  \n",
       "2023-12-07 15:57:00-05:00  242.470093   284621  \n",
       "2023-12-07 15:58:00-05:00  242.559998   286183  \n",
       "2023-12-07 15:59:00-05:00  242.639999   483564  \n",
       "\n",
       "[1950 rows x 6 columns]"
      ]
     },
     "execution_count": 24,
     "metadata": {},
     "output_type": "execute_result"
    }
   ],
   "source": [
    "intraday"
   ]
  },
  {
   "cell_type": "code",
   "execution_count": 30,
   "id": "a785114e-c31d-4649-a20d-efe700abea99",
   "metadata": {},
   "outputs": [],
   "source": [
    "def intraday_trend(df, entry, exit):\n",
    "    ret_120min = df.iloc[120].Open/df.iloc[0].Open - 1\n",
    "    tick_ret = df.Open.pct_change()\n",
    "    if ret_120min > entry:\n",
    "        buy_price = df.iloc[121].Open\n",
    "        buy_time = df.iloc[121].name\n",
    "        cumulated = (tick_ret.loc[buy_time:] + 1).cumprod() - 1\n",
    "        exit_time = cumulated[(cumulated < -exit) | (cumulated > exit)].first_valid_index()\n",
    "        if exit_time == None:\n",
    "            exit_price = df.iloc[-1].Open\n",
    "        else:\n",
    "            exit_price = df.loc[exit_time + dt.timedelta(minutes=1)].Open\n",
    "        profit = exit_price - buy_price\n",
    "        profit_rel = profit/buy_price\n",
    "        return profit_rel\n",
    "    else:\n",
    "        return None\n",
    "        "
   ]
  },
  {
   "cell_type": "code",
   "execution_count": 31,
   "id": "424885fa-3f48-481e-a6db-242cd40ddd35",
   "metadata": {},
   "outputs": [
    {
     "data": {
      "text/plain": [
       "0.013257305580109348"
      ]
     },
     "execution_count": 31,
     "metadata": {},
     "output_type": "execute_result"
    }
   ],
   "source": [
    "intraday_trend(intraday, 0.01, 0.01)"
   ]
  },
  {
   "cell_type": "code",
   "execution_count": 44,
   "id": "fa018bac-a154-4826-9680-cb131c48bb87",
   "metadata": {},
   "outputs": [
    {
     "name": "stdout",
     "output_type": "stream",
     "text": [
      "[*********************100%%**********************]  1 of 1 completed\n"
     ]
    }
   ],
   "source": [
    "datesframe = yf.download(asset, start=\"2023-11-10\", end=\"2023-12-08\")"
   ]
  },
  {
   "cell_type": "code",
   "execution_count": 45,
   "id": "b59aa202-f50e-4241-a2b7-135138b9e476",
   "metadata": {},
   "outputs": [
    {
     "data": {
      "text/plain": [
       "DatetimeIndex(['2023-11-10', '2023-11-13', '2023-11-14', '2023-11-15',\n",
       "               '2023-11-16', '2023-11-17', '2023-11-20', '2023-11-21',\n",
       "               '2023-11-22', '2023-11-24', '2023-11-27', '2023-11-28',\n",
       "               '2023-11-29', '2023-11-30', '2023-12-01', '2023-12-04',\n",
       "               '2023-12-05', '2023-12-06', '2023-12-07'],\n",
       "              dtype='datetime64[ns]', name='Date', freq=None)"
      ]
     },
     "execution_count": 45,
     "metadata": {},
     "output_type": "execute_result"
    }
   ],
   "source": [
    "datesframe.index"
   ]
  },
  {
   "cell_type": "code",
   "execution_count": 55,
   "id": "cf868167-69cc-4003-8299-7ad63d522e8e",
   "metadata": {},
   "outputs": [
    {
     "name": "stdout",
     "output_type": "stream",
     "text": [
      "[*********************100%%**********************]  1 of 1 completed\n",
      "[*********************100%%**********************]  1 of 1 completed\n",
      "[*********************100%%**********************]  1 of 1 completed\n",
      "[*********************100%%**********************]  1 of 1 completed\n",
      "[*********************100%%**********************]  1 of 1 completed\n",
      "[*********************100%%**********************]  1 of 1 completed\n",
      "[*********************100%%**********************]  1 of 1 completed\n",
      "[*********************100%%**********************]  1 of 1 completed\n",
      "[*********************100%%**********************]  1 of 1 completed\n",
      "[*********************100%%**********************]  1 of 1 completed\n",
      "[*********************100%%**********************]  1 of 1 completed\n",
      "[*********************100%%**********************]  1 of 1 completed\n",
      "[*********************100%%**********************]  1 of 1 completed\n",
      "[*********************100%%**********************]  1 of 1 completed\n",
      "[*********************100%%**********************]  1 of 1 completed\n",
      "[*********************100%%**********************]  1 of 1 completed\n",
      "[*********************100%%**********************]  1 of 1 completed\n",
      "[*********************100%%**********************]  1 of 1 completed\n",
      "[*********************100%%**********************]  1 of 1 completed\n"
     ]
    }
   ],
   "source": [
    "frames = []\n",
    "\n",
    "for i in datesframe.index:\n",
    "    frames.append(yf.download(asset, start=i, end=i + dt.timedelta(days=1), interval = \"1m\"))"
   ]
  },
  {
   "cell_type": "code",
   "execution_count": 58,
   "id": "82b5b9a0-c33f-472d-bceb-6f0a584181a6",
   "metadata": {},
   "outputs": [
    {
     "data": {
      "text/plain": [
       "[None,\n",
       " 0.0019473869439003916,\n",
       " None,\n",
       " -0.02120268909307613,\n",
       " None,\n",
       " -0.006130322566791961,\n",
       " None,\n",
       " -0.002468811059122972,\n",
       " None,\n",
       " -0.006761113210003916,\n",
       " None,\n",
       " 0.02085203143244704,\n",
       " None,\n",
       " None,\n",
       " 0.009517713006828916,\n",
       " None,\n",
       " -0.018664081677675304,\n",
       " None,\n",
       " None]"
      ]
     },
     "execution_count": 58,
     "metadata": {},
     "output_type": "execute_result"
    }
   ],
   "source": [
    "returns = []\n",
    "\n",
    "for i in frames: \n",
    "    returns.append(intraday_trend(i, 0.01, 0.02))\n",
    "\n",
    "returns"
   ]
  },
  {
   "cell_type": "code",
   "execution_count": 59,
   "id": "31d0a97d-bbab-413f-bcfd-6c4792406e66",
   "metadata": {},
   "outputs": [
    {
     "data": {
      "text/plain": [
       "0   -0.002864\n",
       "dtype: float64"
      ]
     },
     "execution_count": 59,
     "metadata": {},
     "output_type": "execute_result"
    }
   ],
   "source": [
    "pd.DataFrame(returns).mean()"
   ]
  },
  {
   "cell_type": "code",
   "execution_count": null,
   "id": "21db5b5b-dc92-45f5-a984-27077fe1ad1e",
   "metadata": {},
   "outputs": [],
   "source": []
  },
  {
   "cell_type": "code",
   "execution_count": null,
   "id": "4020de41-9ea0-4313-a3f1-7cb68735e6e5",
   "metadata": {},
   "outputs": [],
   "source": []
  }
 ],
 "metadata": {
  "kernelspec": {
   "display_name": "Python 3 (ipykernel)",
   "language": "python",
   "name": "python3"
  },
  "language_info": {
   "codemirror_mode": {
    "name": "ipython",
    "version": 3
   },
   "file_extension": ".py",
   "mimetype": "text/x-python",
   "name": "python",
   "nbconvert_exporter": "python",
   "pygments_lexer": "ipython3",
   "version": "3.12.0"
  }
 },
 "nbformat": 4,
 "nbformat_minor": 5
}
