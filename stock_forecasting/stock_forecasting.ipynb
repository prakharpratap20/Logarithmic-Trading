{
 "cells": [
  {
   "cell_type": "code",
   "execution_count": 165,
   "metadata": {},
   "outputs": [
    {
     "data": {
      "text/html": [
       "<div>\n",
       "<style scoped>\n",
       "    .dataframe tbody tr th:only-of-type {\n",
       "        vertical-align: middle;\n",
       "    }\n",
       "\n",
       "    .dataframe tbody tr th {\n",
       "        vertical-align: top;\n",
       "    }\n",
       "\n",
       "    .dataframe thead th {\n",
       "        text-align: right;\n",
       "    }\n",
       "</style>\n",
       "<table border=\"1\" class=\"dataframe\">\n",
       "  <thead>\n",
       "    <tr style=\"text-align: right;\">\n",
       "      <th></th>\n",
       "      <th>Date</th>\n",
       "      <th>Open</th>\n",
       "      <th>High</th>\n",
       "      <th>Low</th>\n",
       "      <th>Close</th>\n",
       "      <th>Adj Close</th>\n",
       "      <th>Volume</th>\n",
       "    </tr>\n",
       "  </thead>\n",
       "  <tbody>\n",
       "    <tr>\n",
       "      <th>0</th>\n",
       "      <td>2000-01-03</td>\n",
       "      <td>0.936384</td>\n",
       "      <td>1.004464</td>\n",
       "      <td>0.907924</td>\n",
       "      <td>0.999442</td>\n",
       "      <td>0.848323</td>\n",
       "      <td>535796800</td>\n",
       "    </tr>\n",
       "    <tr>\n",
       "      <th>1</th>\n",
       "      <td>2000-01-04</td>\n",
       "      <td>0.966518</td>\n",
       "      <td>0.987723</td>\n",
       "      <td>0.903460</td>\n",
       "      <td>0.915179</td>\n",
       "      <td>0.776801</td>\n",
       "      <td>512377600</td>\n",
       "    </tr>\n",
       "    <tr>\n",
       "      <th>2</th>\n",
       "      <td>2000-01-05</td>\n",
       "      <td>0.926339</td>\n",
       "      <td>0.987165</td>\n",
       "      <td>0.919643</td>\n",
       "      <td>0.928571</td>\n",
       "      <td>0.788168</td>\n",
       "      <td>778321600</td>\n",
       "    </tr>\n",
       "    <tr>\n",
       "      <th>3</th>\n",
       "      <td>2000-01-06</td>\n",
       "      <td>0.947545</td>\n",
       "      <td>0.955357</td>\n",
       "      <td>0.848214</td>\n",
       "      <td>0.848214</td>\n",
       "      <td>0.719961</td>\n",
       "      <td>767972800</td>\n",
       "    </tr>\n",
       "    <tr>\n",
       "      <th>4</th>\n",
       "      <td>2000-01-07</td>\n",
       "      <td>0.861607</td>\n",
       "      <td>0.901786</td>\n",
       "      <td>0.852679</td>\n",
       "      <td>0.888393</td>\n",
       "      <td>0.754065</td>\n",
       "      <td>460734400</td>\n",
       "    </tr>\n",
       "    <tr>\n",
       "      <th>...</th>\n",
       "      <td>...</td>\n",
       "      <td>...</td>\n",
       "      <td>...</td>\n",
       "      <td>...</td>\n",
       "      <td>...</td>\n",
       "      <td>...</td>\n",
       "      <td>...</td>\n",
       "    </tr>\n",
       "    <tr>\n",
       "      <th>5996</th>\n",
       "      <td>2023-11-01</td>\n",
       "      <td>171.000000</td>\n",
       "      <td>174.229996</td>\n",
       "      <td>170.119995</td>\n",
       "      <td>173.970001</td>\n",
       "      <td>173.970001</td>\n",
       "      <td>56934900</td>\n",
       "    </tr>\n",
       "    <tr>\n",
       "      <th>5997</th>\n",
       "      <td>2023-11-02</td>\n",
       "      <td>175.520004</td>\n",
       "      <td>177.779999</td>\n",
       "      <td>175.460007</td>\n",
       "      <td>177.570007</td>\n",
       "      <td>177.570007</td>\n",
       "      <td>77334800</td>\n",
       "    </tr>\n",
       "    <tr>\n",
       "      <th>5998</th>\n",
       "      <td>2023-11-03</td>\n",
       "      <td>174.240005</td>\n",
       "      <td>176.820007</td>\n",
       "      <td>173.350006</td>\n",
       "      <td>176.649994</td>\n",
       "      <td>176.649994</td>\n",
       "      <td>79763700</td>\n",
       "    </tr>\n",
       "    <tr>\n",
       "      <th>5999</th>\n",
       "      <td>2023-11-06</td>\n",
       "      <td>176.380005</td>\n",
       "      <td>179.429993</td>\n",
       "      <td>176.210007</td>\n",
       "      <td>179.229996</td>\n",
       "      <td>179.229996</td>\n",
       "      <td>63841300</td>\n",
       "    </tr>\n",
       "    <tr>\n",
       "      <th>6000</th>\n",
       "      <td>2023-11-07</td>\n",
       "      <td>179.179993</td>\n",
       "      <td>182.440002</td>\n",
       "      <td>178.970001</td>\n",
       "      <td>181.820007</td>\n",
       "      <td>181.820007</td>\n",
       "      <td>70530000</td>\n",
       "    </tr>\n",
       "  </tbody>\n",
       "</table>\n",
       "<p>6001 rows × 7 columns</p>\n",
       "</div>"
      ],
      "text/plain": [
       "            Date        Open        High         Low       Close   Adj Close  \\\n",
       "0     2000-01-03    0.936384    1.004464    0.907924    0.999442    0.848323   \n",
       "1     2000-01-04    0.966518    0.987723    0.903460    0.915179    0.776801   \n",
       "2     2000-01-05    0.926339    0.987165    0.919643    0.928571    0.788168   \n",
       "3     2000-01-06    0.947545    0.955357    0.848214    0.848214    0.719961   \n",
       "4     2000-01-07    0.861607    0.901786    0.852679    0.888393    0.754065   \n",
       "...          ...         ...         ...         ...         ...         ...   \n",
       "5996  2023-11-01  171.000000  174.229996  170.119995  173.970001  173.970001   \n",
       "5997  2023-11-02  175.520004  177.779999  175.460007  177.570007  177.570007   \n",
       "5998  2023-11-03  174.240005  176.820007  173.350006  176.649994  176.649994   \n",
       "5999  2023-11-06  176.380005  179.429993  176.210007  179.229996  179.229996   \n",
       "6000  2023-11-07  179.179993  182.440002  178.970001  181.820007  181.820007   \n",
       "\n",
       "         Volume  \n",
       "0     535796800  \n",
       "1     512377600  \n",
       "2     778321600  \n",
       "3     767972800  \n",
       "4     460734400  \n",
       "...         ...  \n",
       "5996   56934900  \n",
       "5997   77334800  \n",
       "5998   79763700  \n",
       "5999   63841300  \n",
       "6000   70530000  \n",
       "\n",
       "[6001 rows x 7 columns]"
      ]
     },
     "execution_count": 165,
     "metadata": {},
     "output_type": "execute_result"
    }
   ],
   "source": [
    "import pandas as pd\n",
    "import numpy as np\n",
    "import matplotlib.pyplot as plt\n",
    "\n",
    "import torch\n",
    "import torch.nn as nn \n",
    "\n",
    "data = pd.read_csv(\"AAPL.csv\")\n",
    "data"
   ]
  },
  {
   "cell_type": "code",
   "execution_count": 166,
   "metadata": {},
   "outputs": [
    {
     "data": {
      "text/html": [
       "<div>\n",
       "<style scoped>\n",
       "    .dataframe tbody tr th:only-of-type {\n",
       "        vertical-align: middle;\n",
       "    }\n",
       "\n",
       "    .dataframe tbody tr th {\n",
       "        vertical-align: top;\n",
       "    }\n",
       "\n",
       "    .dataframe thead th {\n",
       "        text-align: right;\n",
       "    }\n",
       "</style>\n",
       "<table border=\"1\" class=\"dataframe\">\n",
       "  <thead>\n",
       "    <tr style=\"text-align: right;\">\n",
       "      <th></th>\n",
       "      <th>Date</th>\n",
       "      <th>Close</th>\n",
       "    </tr>\n",
       "  </thead>\n",
       "  <tbody>\n",
       "    <tr>\n",
       "      <th>0</th>\n",
       "      <td>2000-01-03</td>\n",
       "      <td>0.999442</td>\n",
       "    </tr>\n",
       "    <tr>\n",
       "      <th>1</th>\n",
       "      <td>2000-01-04</td>\n",
       "      <td>0.915179</td>\n",
       "    </tr>\n",
       "    <tr>\n",
       "      <th>2</th>\n",
       "      <td>2000-01-05</td>\n",
       "      <td>0.928571</td>\n",
       "    </tr>\n",
       "    <tr>\n",
       "      <th>3</th>\n",
       "      <td>2000-01-06</td>\n",
       "      <td>0.848214</td>\n",
       "    </tr>\n",
       "    <tr>\n",
       "      <th>4</th>\n",
       "      <td>2000-01-07</td>\n",
       "      <td>0.888393</td>\n",
       "    </tr>\n",
       "    <tr>\n",
       "      <th>...</th>\n",
       "      <td>...</td>\n",
       "      <td>...</td>\n",
       "    </tr>\n",
       "    <tr>\n",
       "      <th>5996</th>\n",
       "      <td>2023-11-01</td>\n",
       "      <td>173.970001</td>\n",
       "    </tr>\n",
       "    <tr>\n",
       "      <th>5997</th>\n",
       "      <td>2023-11-02</td>\n",
       "      <td>177.570007</td>\n",
       "    </tr>\n",
       "    <tr>\n",
       "      <th>5998</th>\n",
       "      <td>2023-11-03</td>\n",
       "      <td>176.649994</td>\n",
       "    </tr>\n",
       "    <tr>\n",
       "      <th>5999</th>\n",
       "      <td>2023-11-06</td>\n",
       "      <td>179.229996</td>\n",
       "    </tr>\n",
       "    <tr>\n",
       "      <th>6000</th>\n",
       "      <td>2023-11-07</td>\n",
       "      <td>181.820007</td>\n",
       "    </tr>\n",
       "  </tbody>\n",
       "</table>\n",
       "<p>6001 rows × 2 columns</p>\n",
       "</div>"
      ],
      "text/plain": [
       "            Date       Close\n",
       "0     2000-01-03    0.999442\n",
       "1     2000-01-04    0.915179\n",
       "2     2000-01-05    0.928571\n",
       "3     2000-01-06    0.848214\n",
       "4     2000-01-07    0.888393\n",
       "...          ...         ...\n",
       "5996  2023-11-01  173.970001\n",
       "5997  2023-11-02  177.570007\n",
       "5998  2023-11-03  176.649994\n",
       "5999  2023-11-06  179.229996\n",
       "6000  2023-11-07  181.820007\n",
       "\n",
       "[6001 rows x 2 columns]"
      ]
     },
     "execution_count": 166,
     "metadata": {},
     "output_type": "execute_result"
    }
   ],
   "source": [
    "data = data[[\"Date\", \"Close\"]]\n",
    "data"
   ]
  },
  {
   "cell_type": "code",
   "execution_count": 167,
   "metadata": {},
   "outputs": [
    {
     "data": {
      "text/plain": [
       "'cpu'"
      ]
     },
     "execution_count": 167,
     "metadata": {},
     "output_type": "execute_result"
    }
   ],
   "source": [
    "# this allows us to enable gpu if we have gpu\n",
    "device = \"cuda:0\" if torch.cuda.is_available() else \"cpu\"\n",
    "device"
   ]
  },
  {
   "cell_type": "code",
   "execution_count": 168,
   "metadata": {},
   "outputs": [
    {
     "name": "stderr",
     "output_type": "stream",
     "text": [
      "/var/folders/98/6x2vtmsd3mq4_ylswvznj38r0000gn/T/ipykernel_1444/1781244370.py:1: SettingWithCopyWarning: \n",
      "A value is trying to be set on a copy of a slice from a DataFrame.\n",
      "Try using .loc[row_indexer,col_indexer] = value instead\n",
      "\n",
      "See the caveats in the documentation: https://pandas.pydata.org/pandas-docs/stable/user_guide/indexing.html#returning-a-view-versus-a-copy\n",
      "  data[\"Date\"] = pd.to_datetime(data[\"Date\"])\n"
     ]
    },
    {
     "data": {
      "text/plain": [
       "[<matplotlib.lines.Line2D at 0x28a8edcd0>]"
      ]
     },
     "execution_count": 168,
     "metadata": {},
     "output_type": "execute_result"
    },
    {
     "data": {
      "image/png": "[encoded data removed]",
      "text/plain": [
       "<Figure size 640x480 with 1 Axes>"
      ]
     },
     "metadata": {},
     "output_type": "display_data"
    }
   ],
   "source": [
    "data[\"Date\"] = pd.to_datetime(data[\"Date\"])\n",
    "plt.plot(data[\"Date\"], data[\"Close\"])"
   ]
  },
  {
   "cell_type": "code",
   "execution_count": 169,
   "metadata": {},
   "outputs": [
    {
     "data": {
      "text/html": [
       "<div>\n",
       "<style scoped>\n",
       "    .dataframe tbody tr th:only-of-type {\n",
       "        vertical-align: middle;\n",
       "    }\n",
       "\n",
       "    .dataframe tbody tr th {\n",
       "        vertical-align: top;\n",
       "    }\n",
       "\n",
       "    .dataframe thead th {\n",
       "        text-align: right;\n",
       "    }\n",
       "</style>\n",
       "<table border=\"1\" class=\"dataframe\">\n",
       "  <thead>\n",
       "    <tr style=\"text-align: right;\">\n",
       "      <th></th>\n",
       "      <th>Close</th>\n",
       "      <th>Close(t-1)</th>\n",
       "      <th>Close(t-2)</th>\n",
       "      <th>Close(t-3)</th>\n",
       "      <th>Close(t-4)</th>\n",
       "      <th>Close(t-5)</th>\n",
       "      <th>Close(t-6)</th>\n",
       "      <th>Close(t-7)</th>\n",
       "    </tr>\n",
       "    <tr>\n",
       "      <th>Date</th>\n",
       "      <th></th>\n",
       "      <th></th>\n",
       "      <th></th>\n",
       "      <th></th>\n",
       "      <th></th>\n",
       "      <th></th>\n",
       "      <th></th>\n",
       "      <th></th>\n",
       "    </tr>\n",
       "  </thead>\n",
       "  <tbody>\n",
       "    <tr>\n",
       "      <th>2000-01-12</th>\n",
       "      <td>0.778460</td>\n",
       "      <td>0.828125</td>\n",
       "      <td>0.872768</td>\n",
       "      <td>0.888393</td>\n",
       "      <td>0.848214</td>\n",
       "      <td>0.928571</td>\n",
       "      <td>0.915179</td>\n",
       "      <td>0.999442</td>\n",
       "    </tr>\n",
       "    <tr>\n",
       "      <th>2000-01-13</th>\n",
       "      <td>0.863839</td>\n",
       "      <td>0.778460</td>\n",
       "      <td>0.828125</td>\n",
       "      <td>0.872768</td>\n",
       "      <td>0.888393</td>\n",
       "      <td>0.848214</td>\n",
       "      <td>0.928571</td>\n",
       "      <td>0.915179</td>\n",
       "    </tr>\n",
       "    <tr>\n",
       "      <th>2000-01-14</th>\n",
       "      <td>0.896763</td>\n",
       "      <td>0.863839</td>\n",
       "      <td>0.778460</td>\n",
       "      <td>0.828125</td>\n",
       "      <td>0.872768</td>\n",
       "      <td>0.888393</td>\n",
       "      <td>0.848214</td>\n",
       "      <td>0.928571</td>\n",
       "    </tr>\n",
       "    <tr>\n",
       "      <th>2000-01-18</th>\n",
       "      <td>0.928013</td>\n",
       "      <td>0.896763</td>\n",
       "      <td>0.863839</td>\n",
       "      <td>0.778460</td>\n",
       "      <td>0.828125</td>\n",
       "      <td>0.872768</td>\n",
       "      <td>0.888393</td>\n",
       "      <td>0.848214</td>\n",
       "    </tr>\n",
       "    <tr>\n",
       "      <th>2000-01-19</th>\n",
       "      <td>0.951451</td>\n",
       "      <td>0.928013</td>\n",
       "      <td>0.896763</td>\n",
       "      <td>0.863839</td>\n",
       "      <td>0.778460</td>\n",
       "      <td>0.828125</td>\n",
       "      <td>0.872768</td>\n",
       "      <td>0.888393</td>\n",
       "    </tr>\n",
       "    <tr>\n",
       "      <th>...</th>\n",
       "      <td>...</td>\n",
       "      <td>...</td>\n",
       "      <td>...</td>\n",
       "      <td>...</td>\n",
       "      <td>...</td>\n",
       "      <td>...</td>\n",
       "      <td>...</td>\n",
       "      <td>...</td>\n",
       "    </tr>\n",
       "    <tr>\n",
       "      <th>2023-11-01</th>\n",
       "      <td>173.970001</td>\n",
       "      <td>170.770004</td>\n",
       "      <td>170.289993</td>\n",
       "      <td>168.220001</td>\n",
       "      <td>166.889999</td>\n",
       "      <td>171.100006</td>\n",
       "      <td>173.440002</td>\n",
       "      <td>173.000000</td>\n",
       "    </tr>\n",
       "    <tr>\n",
       "      <th>2023-11-02</th>\n",
       "      <td>177.570007</td>\n",
       "      <td>173.970001</td>\n",
       "      <td>170.770004</td>\n",
       "      <td>170.289993</td>\n",
       "      <td>168.220001</td>\n",
       "      <td>166.889999</td>\n",
       "      <td>171.100006</td>\n",
       "      <td>173.440002</td>\n",
       "    </tr>\n",
       "    <tr>\n",
       "      <th>2023-11-03</th>\n",
       "      <td>176.649994</td>\n",
       "      <td>177.570007</td>\n",
       "      <td>173.970001</td>\n",
       "      <td>170.770004</td>\n",
       "      <td>170.289993</td>\n",
       "      <td>168.220001</td>\n",
       "      <td>166.889999</td>\n",
       "      <td>171.100006</td>\n",
       "    </tr>\n",
       "    <tr>\n",
       "      <th>2023-11-06</th>\n",
       "      <td>179.229996</td>\n",
       "      <td>176.649994</td>\n",
       "      <td>177.570007</td>\n",
       "      <td>173.970001</td>\n",
       "      <td>170.770004</td>\n",
       "      <td>170.289993</td>\n",
       "      <td>168.220001</td>\n",
       "      <td>166.889999</td>\n",
       "    </tr>\n",
       "    <tr>\n",
       "      <th>2023-11-07</th>\n",
       "      <td>181.820007</td>\n",
       "      <td>179.229996</td>\n",
       "      <td>176.649994</td>\n",
       "      <td>177.570007</td>\n",
       "      <td>173.970001</td>\n",
       "      <td>170.770004</td>\n",
       "      <td>170.289993</td>\n",
       "      <td>168.220001</td>\n",
       "    </tr>\n",
       "  </tbody>\n",
       "</table>\n",
       "<p>5994 rows × 8 columns</p>\n",
       "</div>"
      ],
      "text/plain": [
       "                 Close  Close(t-1)  Close(t-2)  Close(t-3)  Close(t-4)  \\\n",
       "Date                                                                     \n",
       "2000-01-12    0.778460    0.828125    0.872768    0.888393    0.848214   \n",
       "2000-01-13    0.863839    0.778460    0.828125    0.872768    0.888393   \n",
       "2000-01-14    0.896763    0.863839    0.778460    0.828125    0.872768   \n",
       "2000-01-18    0.928013    0.896763    0.863839    0.778460    0.828125   \n",
       "2000-01-19    0.951451    0.928013    0.896763    0.863839    0.778460   \n",
       "...                ...         ...         ...         ...         ...   \n",
       "2023-11-01  173.970001  170.770004  170.289993  168.220001  166.889999   \n",
       "2023-11-02  177.570007  173.970001  170.770004  170.289993  168.220001   \n",
       "2023-11-03  176.649994  177.570007  173.970001  170.770004  170.289993   \n",
       "2023-11-06  179.229996  176.649994  177.570007  173.970001  170.770004   \n",
       "2023-11-07  181.820007  179.229996  176.649994  177.570007  173.970001   \n",
       "\n",
       "            Close(t-5)  Close(t-6)  Close(t-7)  \n",
       "Date                                            \n",
       "2000-01-12    0.928571    0.915179    0.999442  \n",
       "2000-01-13    0.848214    0.928571    0.915179  \n",
       "2000-01-14    0.888393    0.848214    0.928571  \n",
       "2000-01-18    0.872768    0.888393    0.848214  \n",
       "2000-01-19    0.828125    0.872768    0.888393  \n",
       "...                ...         ...         ...  \n",
       "2023-11-01  171.100006  173.440002  173.000000  \n",
       "2023-11-02  166.889999  171.100006  173.440002  \n",
       "2023-11-03  168.220001  166.889999  171.100006  \n",
       "2023-11-06  170.289993  168.220001  166.889999  \n",
       "2023-11-07  170.770004  170.289993  168.220001  \n",
       "\n",
       "[5994 rows x 8 columns]"
      ]
     },
     "execution_count": 169,
     "metadata": {},
     "output_type": "execute_result"
    }
   ],
   "source": [
    "from copy import deepcopy as dc \n",
    "\n",
    "def prepare_dataframe_for_lstm(df, n_steps):\n",
    "    df = dc(df)\n",
    "\n",
    "    df.set_index(\"Date\", inplace=True)\n",
    "\n",
    "    for i in range(1, n_steps+1):\n",
    "        df[f\"Close(t-{i})\"] = df[\"Close\"].shift(i)\n",
    "\n",
    "    df.dropna(inplace=True)\n",
    "\n",
    "    return df\n",
    "\n",
    "lookback = 7\n",
    "shifted_df = prepare_dataframe_for_lstm(data, lookback)\n",
    "shifted_df"
   ]
  },
  {
   "cell_type": "code",
   "execution_count": 170,
   "metadata": {},
   "outputs": [
    {
     "data": {
      "text/plain": [
       "array([[  0.77846003,   0.828125  ,   0.87276798, ...,   0.92857099,\n",
       "          0.91517901,   0.99944198],\n",
       "       [  0.86383897,   0.77846003,   0.828125  , ...,   0.84821397,\n",
       "          0.92857099,   0.91517901],\n",
       "       [  0.89676303,   0.86383897,   0.77846003, ...,   0.88839298,\n",
       "          0.84821397,   0.92857099],\n",
       "       ...,\n",
       "       [176.6499939 , 177.57000732, 173.97000122, ..., 168.22000122,\n",
       "        166.88999939, 171.1000061 ],\n",
       "       [179.22999573, 176.6499939 , 177.57000732, ..., 170.28999329,\n",
       "        168.22000122, 166.88999939],\n",
       "       [181.82000732, 179.22999573, 176.6499939 , ..., 170.77000427,\n",
       "        170.28999329, 168.22000122]])"
      ]
     },
     "execution_count": 170,
     "metadata": {},
     "output_type": "execute_result"
    }
   ],
   "source": [
    "shifted_df_as_np = shifted_df.to_numpy()\n",
    "shifted_df_as_np"
   ]
  },
  {
   "cell_type": "code",
   "execution_count": 171,
   "metadata": {},
   "outputs": [
    {
     "data": {
      "text/plain": [
       "array([[-0.99445331, -0.99394708, -0.99349204, ..., -0.99292325,\n",
       "        -0.99305975, -0.99220087],\n",
       "       [-0.99358305, -0.99445331, -0.99394708, ..., -0.99374232,\n",
       "        -0.99292325, -0.99305975],\n",
       "       [-0.99324746, -0.99358305, -0.99445331, ..., -0.99333278,\n",
       "        -0.99374232, -0.99292325],\n",
       "       ...,\n",
       "       [ 0.79818127,  0.80755884,  0.77086447, ...,  0.7122555 ,\n",
       "         0.69869897,  0.741611  ],\n",
       "       [ 0.82447887,  0.79818127,  0.80755884, ...,  0.73335465,\n",
       "         0.7122555 ,  0.69869897],\n",
       "       [ 0.85087851,  0.82447887,  0.79818127, ...,  0.73824733,\n",
       "         0.73335465,  0.7122555 ]])"
      ]
     },
     "execution_count": 171,
     "metadata": {},
     "output_type": "execute_result"
    }
   ],
   "source": [
    "from sklearn.preprocessing import MinMaxScaler\n",
    "\n",
    "scaler = MinMaxScaler(feature_range=(-1, 1))\n",
    "shifted_df_as_np = scaler.fit_transform(shifted_df_as_np)\n",
    "\n",
    "shifted_df_as_np"
   ]
  },
  {
   "cell_type": "code",
   "execution_count": 172,
   "metadata": {},
   "outputs": [
    {
     "data": {
      "text/plain": [
       "((5994, 7), (5994,))"
      ]
     },
     "execution_count": 172,
     "metadata": {},
     "output_type": "execute_result"
    }
   ],
   "source": [
    "X = shifted_df_as_np[:, 1:]\n",
    "y = shifted_df_as_np[:, 0]\n",
    "\n",
    "X.shape, y.shape"
   ]
  },
  {
   "cell_type": "code",
   "execution_count": 173,
   "metadata": {},
   "outputs": [
    {
     "data": {
      "text/plain": [
       "array([[-0.99220087, -0.99305975, -0.99292325, ..., -0.99333278,\n",
       "        -0.99349204, -0.99394708],\n",
       "       [-0.99305975, -0.99292325, -0.99374232, ..., -0.99349204,\n",
       "        -0.99394708, -0.99445331],\n",
       "       [-0.99292325, -0.99374232, -0.99333278, ..., -0.99394708,\n",
       "        -0.99445331, -0.99358305],\n",
       "       ...,\n",
       "       [ 0.741611  ,  0.69869897,  0.7122555 , ...,  0.73824733,\n",
       "         0.77086447,  0.80755884],\n",
       "       [ 0.69869897,  0.7122555 ,  0.73335465, ...,  0.77086447,\n",
       "         0.80755884,  0.79818127],\n",
       "       [ 0.7122555 ,  0.73335465,  0.73824733, ...,  0.80755884,\n",
       "         0.79818127,  0.82447887]])"
      ]
     },
     "execution_count": 173,
     "metadata": {},
     "output_type": "execute_result"
    }
   ],
   "source": [
    "X = dc(np.flip(X, axis=1))\n",
    "X"
   ]
  },
  {
   "cell_type": "code",
   "execution_count": 174,
   "metadata": {},
   "outputs": [
    {
     "data": {
      "text/plain": [
       "5694"
      ]
     },
     "execution_count": 174,
     "metadata": {},
     "output_type": "execute_result"
    }
   ],
   "source": [
    "split_index = int(len(X)*0.95)\n",
    "split_index"
   ]
  },
  {
   "cell_type": "code",
   "execution_count": 175,
   "metadata": {},
   "outputs": [
    {
     "data": {
      "text/plain": [
       "((5694, 7), (300, 7), (5694,), (300,))"
      ]
     },
     "execution_count": 175,
     "metadata": {},
     "output_type": "execute_result"
    }
   ],
   "source": [
    "X_train = X[:split_index]\n",
    "X_test = X[split_index:]\n",
    "\n",
    "y_train = y[:split_index]\n",
    "y_test = y[split_index:]\n",
    "\n",
    "X_train.shape, X_test.shape, y_train.shape, y_test.shape"
   ]
  },
  {
   "cell_type": "code",
   "execution_count": 176,
   "metadata": {},
   "outputs": [
    {
     "data": {
      "text/plain": [
       "((5694, 7, 1), (300, 7, 1), (5694, 1), (300, 1))"
      ]
     },
     "execution_count": 176,
     "metadata": {},
     "output_type": "execute_result"
    }
   ],
   "source": [
    "X_train = X_train.reshape((-1, lookback, 1))\n",
    "X_test = X_test.reshape((-1, lookback, 1))\n",
    "\n",
    "y_train = y_train.reshape((-1, 1))\n",
    "y_test = y_test.reshape((-1, 1))\n",
    "\n",
    "X_train.shape, X_test.shape, y_train.shape, y_test.shape"
   ]
  },
  {
   "cell_type": "code",
   "execution_count": 177,
   "metadata": {},
   "outputs": [
    {
     "data": {
      "text/plain": [
       "(torch.Size([5694, 7, 1]),\n",
       " torch.Size([300, 7, 1]),\n",
       " torch.Size([5694, 1]),\n",
       " torch.Size([300, 1]))"
      ]
     },
     "execution_count": 177,
     "metadata": {},
     "output_type": "execute_result"
    }
   ],
   "source": [
    "X_train = torch.tensor(X_train).float()\n",
    "X_test = torch.tensor(X_test).float()\n",
    "y_train = torch.tensor(y_train).float()\n",
    "y_test = torch.tensor(y_test).float()\n",
    "\n",
    "X_train.shape, X_test.shape, y_train.shape, y_test.shape"
   ]
  },
  {
   "cell_type": "code",
   "execution_count": 178,
   "metadata": {},
   "outputs": [],
   "source": [
    "from torch.utils.data import Dataset\n",
    "\n",
    "class TimeSeriesDataset(Dataset):\n",
    "    def __init__(self, X, y):\n",
    "        self.X = X\n",
    "        self.y = y\n",
    "\n",
    "    def __len__(self):\n",
    "        return len(self.X)\n",
    "    \n",
    "    def __getitem__(self, i):\n",
    "        return self.X[i], self.y[i]\n",
    "    \n",
    "train_dataset = TimeSeriesDataset(X_train, y_train)\n",
    "test_dataset = TimeSeriesDataset(X_test, y_test)"
   ]
  },
  {
   "cell_type": "code",
   "execution_count": 179,
   "metadata": {},
   "outputs": [
    {
     "data": {
      "text/plain": [
       "<__main__.TimeSeriesDataset at 0x28a906e50>"
      ]
     },
     "execution_count": 179,
     "metadata": {},
     "output_type": "execute_result"
    }
   ],
   "source": [
    "train_dataset"
   ]
  },
  {
   "cell_type": "code",
   "execution_count": 180,
   "metadata": {},
   "outputs": [],
   "source": [
    "from torch.utils.data import DataLoader\n",
    "\n",
    "batch_size = 16\n",
    "\n",
    "train_loader = DataLoader(train_dataset, batch_size=batch_size, shuffle=True)\n",
    "test_loader = DataLoader(test_dataset, batch_size=batch_size, shuffle=False)"
   ]
  },
  {
   "cell_type": "code",
   "execution_count": 181,
   "metadata": {},
   "outputs": [
    {
     "name": "stdout",
     "output_type": "stream",
     "text": [
      "torch.Size([16, 7, 1]) torch.Size([16, 1])\n"
     ]
    }
   ],
   "source": [
    "for _, batch in enumerate(train_loader):\n",
    "    x_batch, y_batch = batch[0].to(device), batch[1].to(device)\n",
    "    print(x_batch.shape, y_batch.shape)\n",
    "    break"
   ]
  },
  {
   "cell_type": "code",
   "execution_count": 182,
   "metadata": {},
   "outputs": [
    {
     "data": {
      "text/plain": [
       "LSTM(\n",
       "  (lstm): LSTM(1, 4, batch_first=True)\n",
       "  (fc): Linear(in_features=4, out_features=1, bias=True)\n",
       ")"
      ]
     },
     "execution_count": 182,
     "metadata": {},
     "output_type": "execute_result"
    }
   ],
   "source": [
    "class LSTM(nn.Module):\n",
    "    def __init__(self, input_size, hidden_size, num_stacked_layers):\n",
    "        super().__init__()\n",
    "        self.hidden_size = hidden_size\n",
    "        self.num_stacked_layers = num_stacked_layers\n",
    "        \n",
    "        self.lstm = nn.LSTM(input_size, hidden_size, num_stacked_layers,\n",
    "                            batch_first=True)\n",
    "        self.fc = nn.Linear(hidden_size, 1)\n",
    "\n",
    "    def forward(self, x):\n",
    "        batch_size = x.size(0)\n",
    "        h0 = torch.zeros(self.num_stacked_layers, batch_size, self.hidden_size).to(device)\n",
    "        c0 = torch.zeros(self.num_stacked_layers, batch_size, self.hidden_size).to(device)\n",
    "        out, _ = self.lstm(x, (h0, c0))\n",
    "        out = self.fc(out[:, -1, :])\n",
    "        return out \n",
    "    \n",
    "model = LSTM(1, 4, 1)\n",
    "model.to(device)\n",
    "model\n"
   ]
  },
  {
   "cell_type": "code",
   "execution_count": 183,
   "metadata": {},
   "outputs": [],
   "source": [
    "def train_one_epoch():\n",
    "    model.train(True)\n",
    "    print(f'Epoch: {epoch + 1}')\n",
    "    running_loss = 0.0\n",
    "    \n",
    "    for batch_index, batch in enumerate(train_loader):\n",
    "        x_batch, y_batch = batch[0].to(device), batch[1].to(device)\n",
    "        \n",
    "        output = model(x_batch)\n",
    "        loss = loss_function(output, y_batch)\n",
    "        running_loss += loss.item()\n",
    "        \n",
    "        optimizer.zero_grad()\n",
    "        loss.backward()\n",
    "        optimizer.step()\n",
    "\n",
    "        if batch_index % 100 == 99:  # print every 100 batches\n",
    "            avg_loss_across_batches = running_loss / 100\n",
    "            print('Batch {0}, Loss: {1:.3f}'.format(batch_index+1,\n",
    "                                                    avg_loss_across_batches))\n",
    "            running_loss = 0.0\n",
    "    print()"
   ]
  },
  {
   "cell_type": "code",
   "execution_count": 184,
   "metadata": {},
   "outputs": [],
   "source": [
    "def validate_one_epoch():\n",
    "    model.train(False)\n",
    "    running_loss = 0.0\n",
    "    \n",
    "    for batch_index, batch in enumerate(test_loader):\n",
    "        x_batch, y_batch = batch[0].to(device), batch[1].to(device)\n",
    "        \n",
    "        with torch.no_grad():\n",
    "            output = model(x_batch)\n",
    "            loss = loss_function(output, y_batch)\n",
    "            running_loss += loss.item()\n",
    "\n",
    "    avg_loss_across_batches = running_loss / len(test_loader)\n",
    "    \n",
    "    print('Val Loss: {0:.3f}'.format(avg_loss_across_batches))\n",
    "    print('***************************************************')\n",
    "    print()"
   ]
  },
  {
   "cell_type": "code",
   "execution_count": 185,
   "metadata": {},
   "outputs": [
    {
     "name": "stdout",
     "output_type": "stream",
     "text": [
      "Epoch: 1\n",
      "Batch 100, Loss: 0.527\n",
      "Batch 200, Loss: 0.229\n",
      "Batch 300, Loss: 0.150\n",
      "\n",
      "Val Loss: 0.707\n",
      "***************************************************\n",
      "\n",
      "Epoch: 2\n",
      "Batch 100, Loss: 0.034\n",
      "Batch 200, Loss: 0.017\n",
      "Batch 300, Loss: 0.012\n",
      "\n",
      "Val Loss: 0.139\n",
      "***************************************************\n",
      "\n",
      "Epoch: 3\n",
      "Batch 100, Loss: 0.007\n",
      "Batch 200, Loss: 0.006\n",
      "Batch 300, Loss: 0.003\n",
      "\n",
      "Val Loss: 0.051\n",
      "***************************************************\n",
      "\n",
      "Epoch: 4\n",
      "Batch 100, Loss: 0.003\n",
      "Batch 200, Loss: 0.003\n",
      "Batch 300, Loss: 0.002\n",
      "\n",
      "Val Loss: 0.032\n",
      "***************************************************\n",
      "\n",
      "Epoch: 5\n",
      "Batch 100, Loss: 0.002\n",
      "Batch 200, Loss: 0.001\n",
      "Batch 300, Loss: 0.001\n",
      "\n",
      "Val Loss: 0.018\n",
      "***************************************************\n",
      "\n",
      "Epoch: 6\n",
      "Batch 100, Loss: 0.001\n",
      "Batch 200, Loss: 0.001\n",
      "Batch 300, Loss: 0.001\n",
      "\n",
      "Val Loss: 0.015\n",
      "***************************************************\n",
      "\n",
      "Epoch: 7\n",
      "Batch 100, Loss: 0.001\n",
      "Batch 200, Loss: 0.001\n",
      "Batch 300, Loss: 0.000\n",
      "\n",
      "Val Loss: 0.009\n",
      "***************************************************\n",
      "\n",
      "Epoch: 8\n",
      "Batch 100, Loss: 0.000\n",
      "Batch 200, Loss: 0.000\n",
      "Batch 300, Loss: 0.000\n",
      "\n",
      "Val Loss: 0.006\n",
      "***************************************************\n",
      "\n",
      "Epoch: 9\n",
      "Batch 100, Loss: 0.000\n",
      "Batch 200, Loss: 0.000\n",
      "Batch 300, Loss: 0.000\n",
      "\n",
      "Val Loss: 0.005\n",
      "***************************************************\n",
      "\n",
      "Epoch: 10\n",
      "Batch 100, Loss: 0.000\n",
      "Batch 200, Loss: 0.000\n",
      "Batch 300, Loss: 0.000\n",
      "\n",
      "Val Loss: 0.003\n",
      "***************************************************\n",
      "\n"
     ]
    }
   ],
   "source": [
    "learning_rate = 0.001\n",
    "num_epochs = 10\n",
    "loss_function = nn.MSELoss()\n",
    "optimizer = torch.optim.Adam(model.parameters(), lr=learning_rate)\n",
    "\n",
    "for epoch in range(num_epochs):\n",
    "    train_one_epoch()\n",
    "    validate_one_epoch()"
   ]
  },
  {
   "cell_type": "code",
   "execution_count": 186,
   "metadata": {},
   "outputs": [
    {
     "data": {
      "image/png": "[encoded data removed]",
      "text/plain": [
       "<Figure size 640x480 with 1 Axes>"
      ]
     },
     "metadata": {},
     "output_type": "display_data"
    }
   ],
   "source": [
    "with torch.no_grad():\n",
    "    predicted = model(X_train.to(device)).to('cpu').numpy()\n",
    "\n",
    "plt.plot(y_train, label='Actual Close')\n",
    "plt.plot(predicted, label='Predicted Close')\n",
    "plt.xlabel('Day')\n",
    "plt.ylabel('Close')\n",
    "plt.legend()\n",
    "plt.show()\n"
   ]
  },
  {
   "cell_type": "code",
   "execution_count": 187,
   "metadata": {},
   "outputs": [
    {
     "data": {
      "text/plain": [
       "array([  1.14865908,   1.12183576,   1.11574832, ..., 169.01390976,\n",
       "       168.87933117, 167.60753009])"
      ]
     },
     "execution_count": 187,
     "metadata": {},
     "output_type": "execute_result"
    }
   ],
   "source": [
    "train_predictions = predicted.flatten()\n",
    "\n",
    "dummies = np.zeros((X_train.shape[0], lookback+1))\n",
    "dummies[:, 0] = train_predictions\n",
    "dummies = scaler.inverse_transform(dummies)\n",
    "\n",
    "train_predictions = dc(dummies[:, 0])\n",
    "train_predictions"
   ]
  },
  {
   "cell_type": "code",
   "execution_count": 188,
   "metadata": {},
   "outputs": [
    {
     "data": {
      "text/plain": [
       "array([  0.77845976,   0.86384179,   0.89676425, ..., 170.02999746,\n",
       "       163.61999446, 161.38000407])"
      ]
     },
     "execution_count": 188,
     "metadata": {},
     "output_type": "execute_result"
    }
   ],
   "source": [
    "dummies = np.zeros((X_train.shape[0], lookback+1))\n",
    "dummies[:, 0] = y_train.flatten()\n",
    "dummies = scaler.inverse_transform(dummies)\n",
    "\n",
    "new_y_train = dc(dummies[:, 0])\n",
    "new_y_train"
   ]
  },
  {
   "cell_type": "code",
   "execution_count": 189,
   "metadata": {},
   "outputs": [
    {
     "data": {
      "image/png": "[encoded data removed]",
      "text/plain": [
       "<Figure size 640x480 with 1 Axes>"
      ]
     },
     "metadata": {},
     "output_type": "display_data"
    }
   ],
   "source": [
    "plt.plot(new_y_train, label='Actual Close')\n",
    "plt.plot(train_predictions, label='Predicted Close')\n",
    "plt.xlabel('Day')\n",
    "plt.ylabel('Close')\n",
    "plt.legend()\n",
    "plt.show()"
   ]
  },
  {
   "cell_type": "code",
   "execution_count": 190,
   "metadata": {},
   "outputs": [
    {
     "data": {
      "text/plain": [
       "array([166.22158223, 164.77564883, 163.4476983 , 162.42504365,\n",
       "       161.07226385, 159.52845192, 158.85042467, 158.10752321,\n",
       "       158.17785916, 159.41623487, 158.62811327, 158.47197426,\n",
       "       157.86723604, 156.95942405, 156.97747   , 157.16572449,\n",
       "       156.33526566, 156.09117164, 155.37107031, 155.04741855,\n",
       "       155.04330178, 154.36557861, 152.1518794 , 149.61806628,\n",
       "       148.40835007, 148.20319578, 147.97725882, 147.49451497,\n",
       "       146.14826119, 145.69846904, 145.3123991 , 144.48994575,\n",
       "       144.47651362, 143.39062212, 143.45410458, 144.17198379,\n",
       "       144.78600814, 145.33946218, 146.67336566, 147.91256004,\n",
       "       149.88169157, 150.65005384, 150.33744835, 152.31892434,\n",
       "       153.46897663, 153.65277518, 152.55910041, 150.21680479,\n",
       "       148.35981429, 147.1052522 , 145.27977487, 142.81909874,\n",
       "       143.51913667, 145.04785573, 146.51509809, 148.21150534,\n",
       "       149.39563793, 150.82527384, 152.45101182, 152.29621193,\n",
       "       152.43723468, 152.81221156, 152.4152123 , 151.3893882 ,\n",
       "       149.76263857, 149.76011822, 149.95164156, 149.82406849,\n",
       "       149.42689965, 148.57457048, 147.77369509, 147.65144341,\n",
       "       146.8883733 , 146.67949403, 146.71124695, 146.36012277,\n",
       "       144.94375526, 143.49806162, 141.65208231, 140.05016194,\n",
       "       139.13487077, 137.48526839, 136.19388927, 135.20684117,\n",
       "       133.62753964, 133.29353748, 133.01373165, 131.38416928,\n",
       "       130.58162145, 129.59885093, 129.98644711, 130.69345256,\n",
       "       131.11992414, 132.10845756, 133.32948904, 134.6069916 ,\n",
       "       136.0713569 , 136.7928266 , 137.40590362, 138.46316487,\n",
       "       139.84130022, 141.30948406, 142.31440268, 143.56729234,\n",
       "       145.12464751, 145.83065008, 146.53362355, 147.12209937,\n",
       "       148.62599502, 150.64638149, 151.63902583, 152.98663627,\n",
       "       153.82176155, 154.27927264, 154.61222807, 155.05123124,\n",
       "       155.02927903, 155.59619444, 155.57448784, 155.54857675,\n",
       "       154.82489079, 154.29970445, 153.73343229, 152.71222786,\n",
       "       151.93528119, 151.25430671, 150.33276436, 149.9626586 ,\n",
       "       150.63641119, 151.69619863, 152.32863734, 153.07554446,\n",
       "       153.33126367, 153.32153898, 153.6592895 , 153.96496548,\n",
       "       154.09028135, 154.89210991, 155.32519523, 156.34197296,\n",
       "       157.6902208 , 158.42558459, 159.14145805, 159.95777133,\n",
       "       160.11538395, 160.20302904, 160.69221118, 161.25247778,\n",
       "       162.24159011, 163.21198986, 163.88061988, 164.27893487,\n",
       "       164.829775  , 164.66407502, 164.22984941, 163.58789068,\n",
       "       163.89775944, 164.0739677 , 164.32726013, 164.72621836,\n",
       "       165.42046124, 165.9209762 , 166.10977452, 166.04440911,\n",
       "       165.74657487, 165.49176205, 165.96315554, 166.45643107,\n",
       "       166.90694833, 167.22505648, 167.3417821 , 167.28098373,\n",
       "       168.46417485, 169.11640796, 169.32876076, 169.83056221,\n",
       "       170.34652674, 170.67203807, 170.9386866 , 170.79664052,\n",
       "       170.77807412, 171.17898548, 171.41898612, 171.47650979,\n",
       "       171.21130563, 171.09122929, 171.15746015, 171.51159004,\n",
       "       171.93535415, 172.26494131, 173.01504711, 173.86985569,\n",
       "       174.38002517, 174.72664664, 174.73473983, 175.05924535,\n",
       "       175.3424136 , 175.82216343, 176.10332592, 176.49136068,\n",
       "       177.10851938, 177.51557081, 177.77775172, 177.85078344,\n",
       "       178.20607117, 178.44490228, 178.4373997 , 178.72734541,\n",
       "       179.12694688, 179.48305329, 180.31306184, 180.68489267,\n",
       "       180.90090611, 181.20595639, 181.24680831, 181.02029243,\n",
       "       180.7709121 , 180.62763215, 180.61379653, 180.62994783,\n",
       "       181.00152136, 181.28913385, 181.74911266, 181.92185324,\n",
       "       181.91332732, 182.0009841 , 182.14708263, 182.24752245,\n",
       "       182.17815723, 182.38484946, 182.65945669, 182.81871252,\n",
       "       182.6157511 , 182.31402231, 181.01074901, 179.65885806,\n",
       "       178.55799648, 177.30543429, 176.18047441, 175.26016007,\n",
       "       174.76286134, 174.41731001, 174.14746279, 173.53262561,\n",
       "       173.17610402, 173.06217944, 173.13194816, 173.64353278,\n",
       "       173.46192711, 173.7336222 , 174.29073104, 175.24285678,\n",
       "       176.38637721, 177.2554132 , 178.05185605, 178.91864654,\n",
       "       178.73385973, 177.9247508 , 177.24870591, 176.66795488,\n",
       "       175.67594209, 174.46171732, 173.65201777, 173.12446897,\n",
       "       173.31761797, 173.56210963, 173.20650028, 172.87387232,\n",
       "       172.83610798, 172.91023907, 172.36424083, 171.56617817,\n",
       "       170.89975273, 170.56508978, 170.70861533, 170.53924301,\n",
       "       170.55180384, 170.95272689, 171.73571422, 172.57241253,\n",
       "       173.14657321, 173.73794364, 174.41644455, 174.66867855,\n",
       "       174.82799285, 174.64181429, 174.25730568, 173.90698264,\n",
       "       173.16684713, 172.53229157, 172.12165551, 171.41024383,\n",
       "       170.24406363, 169.55086164, 169.27797362, 169.19746856,\n",
       "       169.59256147, 170.4256576 , 171.09960317, 172.26511674])"
      ]
     },
     "execution_count": 190,
     "metadata": {},
     "output_type": "execute_result"
    }
   ],
   "source": [
    "test_predictions = model(X_test.to(device)).detach().cpu().numpy().flatten()\n",
    "\n",
    "dummies = np.zeros((X_test.shape[0], lookback+1))\n",
    "dummies[:, 0] = test_predictions\n",
    "dummies = scaler.inverse_transform(dummies)\n",
    "\n",
    "test_predictions = dc(dummies[:, 0])\n",
    "test_predictions"
   ]
  },
  {
   "cell_type": "code",
   "execution_count": 191,
   "metadata": {},
   "outputs": [
    {
     "data": {
      "text/plain": [
       "array([158.91000087, 157.22000269, 157.96000954, 155.80999746,\n",
       "       154.52999794, 155.96000809, 154.46000701, 157.36999578,\n",
       "       163.42999152, 153.83999463, 155.3099971 , 152.36999801,\n",
       "       150.6999989 , 154.47999439, 156.89999404, 153.72000016,\n",
       "       152.74000436, 150.4299938 , 150.77000153, 151.75999686,\n",
       "       149.83999758, 142.47999447, 138.1999957 , 142.44999585,\n",
       "       146.1000061 , 146.39999521, 145.4299931 , 140.08999637,\n",
       "       140.41999871, 138.97999486, 138.3399951 , 142.99000607,\n",
       "       138.38000495, 142.41000354, 143.7500003 , 143.86000109,\n",
       "       143.38999934, 147.27000484, 149.449998  , 152.33999354,\n",
       "       149.35000845, 144.80000165, 155.74000653, 153.33999427,\n",
       "       150.64999536, 145.02999983, 138.88000531, 138.38000495,\n",
       "       138.91999762, 139.50000015, 134.86999411, 146.86999403,\n",
       "       149.69999818, 148.27999926, 150.03999422, 148.78999331,\n",
       "       150.72000383, 151.28999512, 148.00999415, 150.17999362,\n",
       "       151.07000525, 148.11000124, 144.22000205, 141.16999925,\n",
       "       148.02999908, 148.30999788, 147.80999751, 146.63000508,\n",
       "       142.91000391, 140.94000108, 142.64999249, 142.16000336,\n",
       "       144.49000423, 145.47000003, 143.21000763, 136.5000009 ,\n",
       "       134.50999314, 132.36999522, 132.30000429, 135.44999663,\n",
       "       132.22999582, 131.86000117, 130.02999774, 126.04000023,\n",
       "       129.60999954, 129.92999357, 125.07000104, 126.36000011,\n",
       "       125.0199975 , 129.61999615, 130.14999513, 130.72999473,\n",
       "       133.49000504, 133.41000287, 134.75999333, 135.9400033 ,\n",
       "       135.21000769, 135.27000492, 137.86999628, 141.11000202,\n",
       "       142.52999802, 141.85999964, 143.96000817, 145.92999346,\n",
       "       142.99999976, 144.28999298, 145.4299931 , 150.82000507,\n",
       "       154.49999932, 151.72999825, 154.64999241, 151.91999534,\n",
       "       150.86999692, 151.00999632, 153.85000586, 153.19999487,\n",
       "       155.33000202, 153.71000646, 152.55000141, 148.47999589,\n",
       "       148.91000533, 149.39999445, 146.71000724, 147.91999829,\n",
       "       147.41000424, 145.30999863, 145.91000315, 151.03000125,\n",
       "       153.83000094, 151.60000423, 152.86999252, 150.58999812,\n",
       "       148.50000082, 150.47000365, 152.58999372, 152.99000454,\n",
       "       155.85000731, 154.99999968, 157.3999944 , 159.28000137,\n",
       "       157.83000383, 158.9299941 , 160.24999763, 158.28000065,\n",
       "       157.64999458, 160.77000292, 162.35999986, 164.89999398,\n",
       "       166.16999981, 165.63000714, 163.75999386, 164.66000504,\n",
       "       162.02999752, 160.80000154, 160.10000454, 165.55999867,\n",
       "       165.21000894, 165.22999633, 166.47000354, 167.63000274,\n",
       "       166.64999525, 165.020006  , 165.33000342, 163.77000509,\n",
       "       163.75999386, 168.4100019 , 169.67999019, 169.58999434,\n",
       "       168.53999592, 167.44999934, 165.78999393, 173.57000985,\n",
       "       173.50000138, 171.77000504, 173.55999862, 173.75000156,\n",
       "       172.57000913, 172.07000877, 172.07000877, 172.6900036 ,\n",
       "       175.05000016, 175.16000095, 174.19999838, 171.55999717,\n",
       "       171.83999597, 172.99000733, 175.42999436, 177.30000179,\n",
       "       177.24999825, 180.08999609, 180.94999742, 179.58000204,\n",
       "       179.21000739, 177.82000708, 180.57000907, 180.96000865,\n",
       "       183.78999527, 183.30999983, 183.94999959, 186.00999243,\n",
       "       184.91999585, 185.0099917 , 183.96000498, 186.99999946,\n",
       "       186.67999081, 185.27000312, 188.05999742, 189.25000109,\n",
       "       189.58999713, 193.97000006, 192.46000529, 191.3300047 ,\n",
       "       191.81000014, 190.67999371, 188.61000133, 188.08000235,\n",
       "       189.77000638, 190.53999431, 190.69000494, 193.99000499,\n",
       "       193.72999358, 195.1000065 , 193.13000367, 191.94      ,\n",
       "       192.74999778, 193.61999279, 194.49999904, 193.21999952,\n",
       "       195.83000211, 196.44999695, 195.61000055, 192.57999976,\n",
       "       191.17000038, 181.990008  , 178.85000642, 179.8000036 ,\n",
       "       178.19000174, 177.97000017, 177.78999092, 179.46000757,\n",
       "       177.44999488, 176.57000618, 174.00000174, 174.49000841,\n",
       "       175.83999886, 177.22999332, 181.11999544, 176.38000323,\n",
       "       178.60999994, 180.19000318, 184.11999761, 187.64999291,\n",
       "       187.86999448, 189.46000896, 189.69999791, 182.91000656,\n",
       "       177.55999567, 178.1799905 , 179.36000048, 176.30000107,\n",
       "       174.21000961, 175.74000347, 175.00999616, 177.97000017,\n",
       "       179.07000799, 175.49000329, 173.92999327, 174.7899946 ,\n",
       "       176.07999951, 171.96000798, 170.42999074, 170.69000215,\n",
       "       171.21000744, 173.75000156, 172.39999357, 173.66000571,\n",
       "       174.91000076, 177.49000474, 178.99000582, 178.38999837,\n",
       "       179.8000036 , 180.71000847, 178.85000642, 178.72000072,\n",
       "       177.14999116, 175.83999886, 175.46000467, 172.88000655,\n",
       "       173.00000102, 173.44000414, 171.10000666, 166.89000174,\n",
       "       168.21999896, 170.28999134, 170.77000432, 173.97000312,\n",
       "       177.5700069 , 176.64999664, 179.22999477, 181.82000998])"
      ]
     },
     "execution_count": 191,
     "metadata": {},
     "output_type": "execute_result"
    }
   ],
   "source": [
    "dummies = np.zeros((X_test.shape[0], lookback+1))\n",
    "dummies[:, 0] = y_test.flatten()\n",
    "dummies = scaler.inverse_transform(dummies)\n",
    "\n",
    "new_y_test = dc(dummies[:, 0])\n",
    "new_y_test"
   ]
  },
  {
   "cell_type": "code",
   "execution_count": 192,
   "metadata": {},
   "outputs": [
    {
     "data": {
      "image/png": "[encoded data removed]",
      "text/plain": [
       "<Figure size 640x480 with 1 Axes>"
      ]
     },
     "metadata": {},
     "output_type": "display_data"
    }
   ],
   "source": [
    "plt.plot(new_y_test, label='Actual Close')\n",
    "plt.plot(test_predictions, label='Predicted Close')\n",
    "plt.xlabel('Day')\n",
    "plt.ylabel('Close')\n",
    "plt.legend()\n",
    "plt.show()"
   ]
  },
  {
   "cell_type": "code",
   "execution_count": null,
   "metadata": {},
   "outputs": [],
   "source": []
  }
 ],
 "metadata": {
  "kernelspec": {
   "display_name": "penv",
   "language": "python",
   "name": "python3"
  },
  "language_info": {
   "codemirror_mode": {
    "name": "ipython",
    "version": 3
   },
   "file_extension": ".py",
   "mimetype": "text/x-python",
   "name": "python",
   "nbconvert_exporter": "python",
   "pygments_lexer": "ipython3",
   "version": "3.11.6"
  }
 },
 "nbformat": 4,
 "nbformat_minor": 2
}
