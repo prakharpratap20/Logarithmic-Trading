{
 "cells": [
  {
   "cell_type": "code",
   "execution_count": 1,
   "metadata": {},
   "outputs": [
    {
     "data": {
      "text/html": [
       "<div>\n",
       "<style scoped>\n",
       "    .dataframe tbody tr th:only-of-type {\n",
       "        vertical-align: middle;\n",
       "    }\n",
       "\n",
       "    .dataframe tbody tr th {\n",
       "        vertical-align: top;\n",
       "    }\n",
       "\n",
       "    .dataframe thead th {\n",
       "        text-align: right;\n",
       "    }\n",
       "</style>\n",
       "<table border=\"1\" class=\"dataframe\">\n",
       "  <thead>\n",
       "    <tr style=\"text-align: right;\">\n",
       "      <th></th>\n",
       "      <th>Date</th>\n",
       "      <th>Open</th>\n",
       "      <th>High</th>\n",
       "      <th>Low</th>\n",
       "      <th>Close</th>\n",
       "      <th>Adj Close</th>\n",
       "      <th>Volume</th>\n",
       "    </tr>\n",
       "  </thead>\n",
       "  <tbody>\n",
       "    <tr>\n",
       "      <th>0</th>\n",
       "      <td>2010-06-29</td>\n",
       "      <td>1.266667</td>\n",
       "      <td>1.666667</td>\n",
       "      <td>1.169333</td>\n",
       "      <td>1.592667</td>\n",
       "      <td>1.592667</td>\n",
       "      <td>281494500</td>\n",
       "    </tr>\n",
       "    <tr>\n",
       "      <th>1</th>\n",
       "      <td>2010-06-30</td>\n",
       "      <td>1.719333</td>\n",
       "      <td>2.028000</td>\n",
       "      <td>1.553333</td>\n",
       "      <td>1.588667</td>\n",
       "      <td>1.588667</td>\n",
       "      <td>257806500</td>\n",
       "    </tr>\n",
       "    <tr>\n",
       "      <th>2</th>\n",
       "      <td>2010-07-01</td>\n",
       "      <td>1.666667</td>\n",
       "      <td>1.728000</td>\n",
       "      <td>1.351333</td>\n",
       "      <td>1.464000</td>\n",
       "      <td>1.464000</td>\n",
       "      <td>123282000</td>\n",
       "    </tr>\n",
       "    <tr>\n",
       "      <th>3</th>\n",
       "      <td>2010-07-02</td>\n",
       "      <td>1.533333</td>\n",
       "      <td>1.540000</td>\n",
       "      <td>1.247333</td>\n",
       "      <td>1.280000</td>\n",
       "      <td>1.280000</td>\n",
       "      <td>77097000</td>\n",
       "    </tr>\n",
       "    <tr>\n",
       "      <th>4</th>\n",
       "      <td>2010-07-06</td>\n",
       "      <td>1.333333</td>\n",
       "      <td>1.333333</td>\n",
       "      <td>1.055333</td>\n",
       "      <td>1.074000</td>\n",
       "      <td>1.074000</td>\n",
       "      <td>103003500</td>\n",
       "    </tr>\n",
       "    <tr>\n",
       "      <th>...</th>\n",
       "      <td>...</td>\n",
       "      <td>...</td>\n",
       "      <td>...</td>\n",
       "      <td>...</td>\n",
       "      <td>...</td>\n",
       "      <td>...</td>\n",
       "      <td>...</td>\n",
       "    </tr>\n",
       "    <tr>\n",
       "      <th>3359</th>\n",
       "      <td>2023-11-01</td>\n",
       "      <td>204.039993</td>\n",
       "      <td>205.990005</td>\n",
       "      <td>197.850006</td>\n",
       "      <td>205.660004</td>\n",
       "      <td>205.660004</td>\n",
       "      <td>121661700</td>\n",
       "    </tr>\n",
       "    <tr>\n",
       "      <th>3360</th>\n",
       "      <td>2023-11-02</td>\n",
       "      <td>212.970001</td>\n",
       "      <td>219.199997</td>\n",
       "      <td>211.449997</td>\n",
       "      <td>218.509995</td>\n",
       "      <td>218.509995</td>\n",
       "      <td>125987600</td>\n",
       "    </tr>\n",
       "    <tr>\n",
       "      <th>3361</th>\n",
       "      <td>2023-11-03</td>\n",
       "      <td>221.149994</td>\n",
       "      <td>226.369995</td>\n",
       "      <td>218.399994</td>\n",
       "      <td>219.960007</td>\n",
       "      <td>219.960007</td>\n",
       "      <td>119281000</td>\n",
       "    </tr>\n",
       "    <tr>\n",
       "      <th>3362</th>\n",
       "      <td>2023-11-06</td>\n",
       "      <td>223.979996</td>\n",
       "      <td>226.320007</td>\n",
       "      <td>215.000000</td>\n",
       "      <td>219.270004</td>\n",
       "      <td>219.270004</td>\n",
       "      <td>117335800</td>\n",
       "    </tr>\n",
       "    <tr>\n",
       "      <th>3363</th>\n",
       "      <td>2023-11-07</td>\n",
       "      <td>219.979996</td>\n",
       "      <td>223.119995</td>\n",
       "      <td>215.720001</td>\n",
       "      <td>222.179993</td>\n",
       "      <td>222.179993</td>\n",
       "      <td>116900100</td>\n",
       "    </tr>\n",
       "  </tbody>\n",
       "</table>\n",
       "<p>3364 rows × 7 columns</p>\n",
       "</div>"
      ],
      "text/plain": [
       "            Date        Open        High         Low       Close   Adj Close  \\\n",
       "0     2010-06-29    1.266667    1.666667    1.169333    1.592667    1.592667   \n",
       "1     2010-06-30    1.719333    2.028000    1.553333    1.588667    1.588667   \n",
       "2     2010-07-01    1.666667    1.728000    1.351333    1.464000    1.464000   \n",
       "3     2010-07-02    1.533333    1.540000    1.247333    1.280000    1.280000   \n",
       "4     2010-07-06    1.333333    1.333333    1.055333    1.074000    1.074000   \n",
       "...          ...         ...         ...         ...         ...         ...   \n",
       "3359  2023-11-01  204.039993  205.990005  197.850006  205.660004  205.660004   \n",
       "3360  2023-11-02  212.970001  219.199997  211.449997  218.509995  218.509995   \n",
       "3361  2023-11-03  221.149994  226.369995  218.399994  219.960007  219.960007   \n",
       "3362  2023-11-06  223.979996  226.320007  215.000000  219.270004  219.270004   \n",
       "3363  2023-11-07  219.979996  223.119995  215.720001  222.179993  222.179993   \n",
       "\n",
       "         Volume  \n",
       "0     281494500  \n",
       "1     257806500  \n",
       "2     123282000  \n",
       "3      77097000  \n",
       "4     103003500  \n",
       "...         ...  \n",
       "3359  121661700  \n",
       "3360  125987600  \n",
       "3361  119281000  \n",
       "3362  117335800  \n",
       "3363  116900100  \n",
       "\n",
       "[3364 rows x 7 columns]"
      ]
     },
     "execution_count": 1,
     "metadata": {},
     "output_type": "execute_result"
    }
   ],
   "source": [
    "import pandas as pd\n",
    "import numpy as np\n",
    "import matplotlib.pyplot as plt\n",
    "\n",
    "import torch\n",
    "import torch.nn as nn \n",
    "\n",
    "data = pd.read_csv(\"TSLA.csv\")\n",
    "data"
   ]
  },
  {
   "cell_type": "code",
   "execution_count": 2,
   "metadata": {},
   "outputs": [
    {
     "data": {
      "text/html": [
       "<div>\n",
       "<style scoped>\n",
       "    .dataframe tbody tr th:only-of-type {\n",
       "        vertical-align: middle;\n",
       "    }\n",
       "\n",
       "    .dataframe tbody tr th {\n",
       "        vertical-align: top;\n",
       "    }\n",
       "\n",
       "    .dataframe thead th {\n",
       "        text-align: right;\n",
       "    }\n",
       "</style>\n",
       "<table border=\"1\" class=\"dataframe\">\n",
       "  <thead>\n",
       "    <tr style=\"text-align: right;\">\n",
       "      <th></th>\n",
       "      <th>Date</th>\n",
       "      <th>Close</th>\n",
       "    </tr>\n",
       "  </thead>\n",
       "  <tbody>\n",
       "    <tr>\n",
       "      <th>0</th>\n",
       "      <td>2010-06-29</td>\n",
       "      <td>1.592667</td>\n",
       "    </tr>\n",
       "    <tr>\n",
       "      <th>1</th>\n",
       "      <td>2010-06-30</td>\n",
       "      <td>1.588667</td>\n",
       "    </tr>\n",
       "    <tr>\n",
       "      <th>2</th>\n",
       "      <td>2010-07-01</td>\n",
       "      <td>1.464000</td>\n",
       "    </tr>\n",
       "    <tr>\n",
       "      <th>3</th>\n",
       "      <td>2010-07-02</td>\n",
       "      <td>1.280000</td>\n",
       "    </tr>\n",
       "    <tr>\n",
       "      <th>4</th>\n",
       "      <td>2010-07-06</td>\n",
       "      <td>1.074000</td>\n",
       "    </tr>\n",
       "    <tr>\n",
       "      <th>...</th>\n",
       "      <td>...</td>\n",
       "      <td>...</td>\n",
       "    </tr>\n",
       "    <tr>\n",
       "      <th>3359</th>\n",
       "      <td>2023-11-01</td>\n",
       "      <td>205.660004</td>\n",
       "    </tr>\n",
       "    <tr>\n",
       "      <th>3360</th>\n",
       "      <td>2023-11-02</td>\n",
       "      <td>218.509995</td>\n",
       "    </tr>\n",
       "    <tr>\n",
       "      <th>3361</th>\n",
       "      <td>2023-11-03</td>\n",
       "      <td>219.960007</td>\n",
       "    </tr>\n",
       "    <tr>\n",
       "      <th>3362</th>\n",
       "      <td>2023-11-06</td>\n",
       "      <td>219.270004</td>\n",
       "    </tr>\n",
       "    <tr>\n",
       "      <th>3363</th>\n",
       "      <td>2023-11-07</td>\n",
       "      <td>222.179993</td>\n",
       "    </tr>\n",
       "  </tbody>\n",
       "</table>\n",
       "<p>3364 rows × 2 columns</p>\n",
       "</div>"
      ],
      "text/plain": [
       "            Date       Close\n",
       "0     2010-06-29    1.592667\n",
       "1     2010-06-30    1.588667\n",
       "2     2010-07-01    1.464000\n",
       "3     2010-07-02    1.280000\n",
       "4     2010-07-06    1.074000\n",
       "...          ...         ...\n",
       "3359  2023-11-01  205.660004\n",
       "3360  2023-11-02  218.509995\n",
       "3361  2023-11-03  219.960007\n",
       "3362  2023-11-06  219.270004\n",
       "3363  2023-11-07  222.179993\n",
       "\n",
       "[3364 rows x 2 columns]"
      ]
     },
     "execution_count": 2,
     "metadata": {},
     "output_type": "execute_result"
    }
   ],
   "source": [
    "data = data[[\"Date\", \"Close\"]]\n",
    "data"
   ]
  },
  {
   "cell_type": "code",
   "execution_count": 3,
   "metadata": {},
   "outputs": [
    {
     "data": {
      "text/plain": [
       "'cpu'"
      ]
     },
     "execution_count": 3,
     "metadata": {},
     "output_type": "execute_result"
    }
   ],
   "source": [
    "# this allows us to enable gpu if we have gpu\n",
    "device = \"cuda:0\" if torch.cuda.is_available() else \"cpu\"\n",
    "device"
   ]
  },
  {
   "cell_type": "code",
   "execution_count": 4,
   "metadata": {},
   "outputs": [
    {
     "name": "stderr",
     "output_type": "stream",
     "text": [
      "/var/folders/98/6x2vtmsd3mq4_ylswvznj38r0000gn/T/ipykernel_13246/1781244370.py:1: SettingWithCopyWarning: \n",
      "A value is trying to be set on a copy of a slice from a DataFrame.\n",
      "Try using .loc[row_indexer,col_indexer] = value instead\n",
      "\n",
      "See the caveats in the documentation: https://pandas.pydata.org/pandas-docs/stable/user_guide/indexing.html#returning-a-view-versus-a-copy\n",
      "  data[\"Date\"] = pd.to_datetime(data[\"Date\"])\n"
     ]
    },
    {
     "data": {
      "text/plain": [
       "[<matplotlib.lines.Line2D at 0x12ee08d10>]"
      ]
     },
     "execution_count": 4,
     "metadata": {},
     "output_type": "execute_result"
    },
    {
     "data": {
      "image/png": "[encoded data removed]",
      "text/plain": [
       "<Figure size 640x480 with 1 Axes>"
      ]
     },
     "metadata": {},
     "output_type": "display_data"
    }
   ],
   "source": [
    "data[\"Date\"] = pd.to_datetime(data[\"Date\"])\n",
    "plt.plot(data[\"Date\"], data[\"Close\"])"
   ]
  },
  {
   "cell_type": "code",
   "execution_count": 5,
   "metadata": {},
   "outputs": [
    {
     "data": {
      "text/html": [
       "<div>\n",
       "<style scoped>\n",
       "    .dataframe tbody tr th:only-of-type {\n",
       "        vertical-align: middle;\n",
       "    }\n",
       "\n",
       "    .dataframe tbody tr th {\n",
       "        vertical-align: top;\n",
       "    }\n",
       "\n",
       "    .dataframe thead th {\n",
       "        text-align: right;\n",
       "    }\n",
       "</style>\n",
       "<table border=\"1\" class=\"dataframe\">\n",
       "  <thead>\n",
       "    <tr style=\"text-align: right;\">\n",
       "      <th></th>\n",
       "      <th>Close</th>\n",
       "      <th>Close(t-1)</th>\n",
       "      <th>Close(t-2)</th>\n",
       "      <th>Close(t-3)</th>\n",
       "      <th>Close(t-4)</th>\n",
       "      <th>Close(t-5)</th>\n",
       "      <th>Close(t-6)</th>\n",
       "      <th>Close(t-7)</th>\n",
       "    </tr>\n",
       "    <tr>\n",
       "      <th>Date</th>\n",
       "      <th></th>\n",
       "      <th></th>\n",
       "      <th></th>\n",
       "      <th></th>\n",
       "      <th></th>\n",
       "      <th></th>\n",
       "      <th></th>\n",
       "      <th></th>\n",
       "    </tr>\n",
       "  </thead>\n",
       "  <tbody>\n",
       "    <tr>\n",
       "      <th>2010-07-09</th>\n",
       "      <td>1.160000</td>\n",
       "      <td>1.164000</td>\n",
       "      <td>1.053333</td>\n",
       "      <td>1.074000</td>\n",
       "      <td>1.280000</td>\n",
       "      <td>1.464000</td>\n",
       "      <td>1.588667</td>\n",
       "      <td>1.592667</td>\n",
       "    </tr>\n",
       "    <tr>\n",
       "      <th>2010-07-12</th>\n",
       "      <td>1.136667</td>\n",
       "      <td>1.160000</td>\n",
       "      <td>1.164000</td>\n",
       "      <td>1.053333</td>\n",
       "      <td>1.074000</td>\n",
       "      <td>1.280000</td>\n",
       "      <td>1.464000</td>\n",
       "      <td>1.588667</td>\n",
       "    </tr>\n",
       "    <tr>\n",
       "      <th>2010-07-13</th>\n",
       "      <td>1.209333</td>\n",
       "      <td>1.136667</td>\n",
       "      <td>1.160000</td>\n",
       "      <td>1.164000</td>\n",
       "      <td>1.053333</td>\n",
       "      <td>1.074000</td>\n",
       "      <td>1.280000</td>\n",
       "      <td>1.464000</td>\n",
       "    </tr>\n",
       "    <tr>\n",
       "      <th>2010-07-14</th>\n",
       "      <td>1.322667</td>\n",
       "      <td>1.209333</td>\n",
       "      <td>1.136667</td>\n",
       "      <td>1.160000</td>\n",
       "      <td>1.164000</td>\n",
       "      <td>1.053333</td>\n",
       "      <td>1.074000</td>\n",
       "      <td>1.280000</td>\n",
       "    </tr>\n",
       "    <tr>\n",
       "      <th>2010-07-15</th>\n",
       "      <td>1.326000</td>\n",
       "      <td>1.322667</td>\n",
       "      <td>1.209333</td>\n",
       "      <td>1.136667</td>\n",
       "      <td>1.160000</td>\n",
       "      <td>1.164000</td>\n",
       "      <td>1.053333</td>\n",
       "      <td>1.074000</td>\n",
       "    </tr>\n",
       "    <tr>\n",
       "      <th>...</th>\n",
       "      <td>...</td>\n",
       "      <td>...</td>\n",
       "      <td>...</td>\n",
       "      <td>...</td>\n",
       "      <td>...</td>\n",
       "      <td>...</td>\n",
       "      <td>...</td>\n",
       "      <td>...</td>\n",
       "    </tr>\n",
       "    <tr>\n",
       "      <th>2023-11-01</th>\n",
       "      <td>205.660004</td>\n",
       "      <td>200.839996</td>\n",
       "      <td>197.360001</td>\n",
       "      <td>207.300003</td>\n",
       "      <td>205.759995</td>\n",
       "      <td>212.419998</td>\n",
       "      <td>216.520004</td>\n",
       "      <td>212.080002</td>\n",
       "    </tr>\n",
       "    <tr>\n",
       "      <th>2023-11-02</th>\n",
       "      <td>218.509995</td>\n",
       "      <td>205.660004</td>\n",
       "      <td>200.839996</td>\n",
       "      <td>197.360001</td>\n",
       "      <td>207.300003</td>\n",
       "      <td>205.759995</td>\n",
       "      <td>212.419998</td>\n",
       "      <td>216.520004</td>\n",
       "    </tr>\n",
       "    <tr>\n",
       "      <th>2023-11-03</th>\n",
       "      <td>219.960007</td>\n",
       "      <td>218.509995</td>\n",
       "      <td>205.660004</td>\n",
       "      <td>200.839996</td>\n",
       "      <td>197.360001</td>\n",
       "      <td>207.300003</td>\n",
       "      <td>205.759995</td>\n",
       "      <td>212.419998</td>\n",
       "    </tr>\n",
       "    <tr>\n",
       "      <th>2023-11-06</th>\n",
       "      <td>219.270004</td>\n",
       "      <td>219.960007</td>\n",
       "      <td>218.509995</td>\n",
       "      <td>205.660004</td>\n",
       "      <td>200.839996</td>\n",
       "      <td>197.360001</td>\n",
       "      <td>207.300003</td>\n",
       "      <td>205.759995</td>\n",
       "    </tr>\n",
       "    <tr>\n",
       "      <th>2023-11-07</th>\n",
       "      <td>222.179993</td>\n",
       "      <td>219.270004</td>\n",
       "      <td>219.960007</td>\n",
       "      <td>218.509995</td>\n",
       "      <td>205.660004</td>\n",
       "      <td>200.839996</td>\n",
       "      <td>197.360001</td>\n",
       "      <td>207.300003</td>\n",
       "    </tr>\n",
       "  </tbody>\n",
       "</table>\n",
       "<p>3357 rows × 8 columns</p>\n",
       "</div>"
      ],
      "text/plain": [
       "                 Close  Close(t-1)  Close(t-2)  Close(t-3)  Close(t-4)  \\\n",
       "Date                                                                     \n",
       "2010-07-09    1.160000    1.164000    1.053333    1.074000    1.280000   \n",
       "2010-07-12    1.136667    1.160000    1.164000    1.053333    1.074000   \n",
       "2010-07-13    1.209333    1.136667    1.160000    1.164000    1.053333   \n",
       "2010-07-14    1.322667    1.209333    1.136667    1.160000    1.164000   \n",
       "2010-07-15    1.326000    1.322667    1.209333    1.136667    1.160000   \n",
       "...                ...         ...         ...         ...         ...   \n",
       "2023-11-01  205.660004  200.839996  197.360001  207.300003  205.759995   \n",
       "2023-11-02  218.509995  205.660004  200.839996  197.360001  207.300003   \n",
       "2023-11-03  219.960007  218.509995  205.660004  200.839996  197.360001   \n",
       "2023-11-06  219.270004  219.960007  218.509995  205.660004  200.839996   \n",
       "2023-11-07  222.179993  219.270004  219.960007  218.509995  205.660004   \n",
       "\n",
       "            Close(t-5)  Close(t-6)  Close(t-7)  \n",
       "Date                                            \n",
       "2010-07-09    1.464000    1.588667    1.592667  \n",
       "2010-07-12    1.280000    1.464000    1.588667  \n",
       "2010-07-13    1.074000    1.280000    1.464000  \n",
       "2010-07-14    1.053333    1.074000    1.280000  \n",
       "2010-07-15    1.164000    1.053333    1.074000  \n",
       "...                ...         ...         ...  \n",
       "2023-11-01  212.419998  216.520004  212.080002  \n",
       "2023-11-02  205.759995  212.419998  216.520004  \n",
       "2023-11-03  207.300003  205.759995  212.419998  \n",
       "2023-11-06  197.360001  207.300003  205.759995  \n",
       "2023-11-07  200.839996  197.360001  207.300003  \n",
       "\n",
       "[3357 rows x 8 columns]"
      ]
     },
     "execution_count": 5,
     "metadata": {},
     "output_type": "execute_result"
    }
   ],
   "source": [
    "from copy import deepcopy as dc \n",
    "\n",
    "def prepare_dataframe_for_lstm(df, n_steps):\n",
    "    df = dc(df)\n",
    "\n",
    "    df.set_index(\"Date\", inplace=True)\n",
    "\n",
    "    for i in range(1, n_steps+1):\n",
    "        df[f\"Close(t-{i})\"] = df[\"Close\"].shift(i)\n",
    "\n",
    "    df.dropna(inplace=True)\n",
    "\n",
    "    return df\n",
    "\n",
    "lookback = 7\n",
    "shifted_df = prepare_dataframe_for_lstm(data, lookback)\n",
    "shifted_df"
   ]
  },
  {
   "cell_type": "code",
   "execution_count": 6,
   "metadata": {},
   "outputs": [
    {
     "data": {
      "text/plain": [
       "array([[  1.15999997,   1.16400003,   1.05333304, ...,   1.46399999,\n",
       "          1.58866704,   1.59266698],\n",
       "       [  1.13666701,   1.15999997,   1.16400003, ...,   1.27999997,\n",
       "          1.46399999,   1.58866704],\n",
       "       [  1.20933294,   1.13666701,   1.15999997, ...,   1.074     ,\n",
       "          1.27999997,   1.46399999],\n",
       "       ...,\n",
       "       [219.96000671, 218.50999451, 205.66000366, ..., 207.30000305,\n",
       "        205.75999451, 212.41999817],\n",
       "       [219.27000427, 219.96000671, 218.50999451, ..., 197.36000061,\n",
       "        207.30000305, 205.75999451],\n",
       "       [222.17999268, 219.27000427, 219.96000671, ..., 200.83999634,\n",
       "        197.36000061, 207.30000305]])"
      ]
     },
     "execution_count": 6,
     "metadata": {},
     "output_type": "execute_result"
    }
   ],
   "source": [
    "shifted_df_as_np = shifted_df.to_numpy()\n",
    "shifted_df_as_np"
   ]
  },
  {
   "cell_type": "code",
   "execution_count": 7,
   "metadata": {},
   "outputs": [
    {
     "data": {
      "text/plain": [
       "array([[-9.99885856e-01, -9.99866288e-01, -1.00000000e+00, ...,\n",
       "        -9.97991439e-01, -9.97381696e-01, -9.97362133e-01],\n",
       "       [-1.00000000e+00, -9.99885856e-01, -9.99458731e-01, ...,\n",
       "        -9.98891378e-01, -9.97991439e-01, -9.97381696e-01],\n",
       "       [-9.99644521e-01, -1.00000000e+00, -9.99478295e-01, ...,\n",
       "        -9.99898918e-01, -9.98891378e-01, -9.97991439e-01],\n",
       "       ...,\n",
       "       [ 7.04769958e-02,  6.33835811e-02,  7.25509823e-04, ...,\n",
       "         8.74670102e-03,  1.21456225e-03,  3.37884541e-02],\n",
       "       [ 6.71015253e-02,  7.04769958e-02,  6.35744560e-02, ...,\n",
       "        -3.98695732e-02,  8.74670102e-03,  1.21456225e-03],\n",
       "       [ 8.13370984e-02,  6.71015253e-02,  7.06664252e-02, ...,\n",
       "        -2.28490113e-02, -3.98695732e-02,  8.74670102e-03]])"
      ]
     },
     "execution_count": 7,
     "metadata": {},
     "output_type": "execute_result"
    }
   ],
   "source": [
    "from sklearn.preprocessing import MinMaxScaler\n",
    "\n",
    "scaler = MinMaxScaler(feature_range=(-1, 1))\n",
    "shifted_df_as_np = scaler.fit_transform(shifted_df_as_np)\n",
    "\n",
    "shifted_df_as_np"
   ]
  },
  {
   "cell_type": "code",
   "execution_count": 8,
   "metadata": {},
   "outputs": [
    {
     "data": {
      "text/plain": [
       "((3357, 7), (3357,))"
      ]
     },
     "execution_count": 8,
     "metadata": {},
     "output_type": "execute_result"
    }
   ],
   "source": [
    "X = shifted_df_as_np[:, 1:]\n",
    "y = shifted_df_as_np[:, 0]\n",
    "\n",
    "X.shape, y.shape"
   ]
  },
  {
   "cell_type": "code",
   "execution_count": 9,
   "metadata": {},
   "outputs": [
    {
     "data": {
      "text/plain": [
       "array([[-9.97362133e-01, -9.97381696e-01, -9.97991439e-01, ...,\n",
       "        -9.99898918e-01, -1.00000000e+00, -9.99866288e-01],\n",
       "       [-9.97381696e-01, -9.97991439e-01, -9.98891378e-01, ...,\n",
       "        -1.00000000e+00, -9.99458731e-01, -9.99885856e-01],\n",
       "       [-9.97991439e-01, -9.98891378e-01, -9.99898918e-01, ...,\n",
       "        -9.99458731e-01, -9.99478295e-01, -1.00000000e+00],\n",
       "       ...,\n",
       "       [ 3.37884541e-02,  1.21456225e-03,  8.74670102e-03, ...,\n",
       "        -2.28490113e-02,  7.25509823e-04,  6.33835811e-02],\n",
       "       [ 1.21456225e-03,  8.74670102e-03, -3.98695732e-02, ...,\n",
       "         7.25509823e-04,  6.35744560e-02,  7.04769958e-02],\n",
       "       [ 8.74670102e-03, -3.98695732e-02, -2.28490113e-02, ...,\n",
       "         6.35744560e-02,  7.06664252e-02,  6.71015253e-02]])"
      ]
     },
     "execution_count": 9,
     "metadata": {},
     "output_type": "execute_result"
    }
   ],
   "source": [
    "X = dc(np.flip(X, axis=1))\n",
    "X"
   ]
  },
  {
   "cell_type": "code",
   "execution_count": 10,
   "metadata": {},
   "outputs": [
    {
     "data": {
      "text/plain": [
       "3189"
      ]
     },
     "execution_count": 10,
     "metadata": {},
     "output_type": "execute_result"
    }
   ],
   "source": [
    "split_index = int(len(X)*0.95)\n",
    "split_index"
   ]
  },
  {
   "cell_type": "code",
   "execution_count": 11,
   "metadata": {},
   "outputs": [
    {
     "data": {
      "text/plain": [
       "((3189, 7), (168, 7), (3189,), (168,))"
      ]
     },
     "execution_count": 11,
     "metadata": {},
     "output_type": "execute_result"
    }
   ],
   "source": [
    "X_train = X[:split_index]\n",
    "X_test = X[split_index:]\n",
    "\n",
    "y_train = y[:split_index]\n",
    "y_test = y[split_index:]\n",
    "\n",
    "X_train.shape, X_test.shape, y_train.shape, y_test.shape"
   ]
  },
  {
   "cell_type": "code",
   "execution_count": 12,
   "metadata": {},
   "outputs": [
    {
     "data": {
      "text/plain": [
       "((3189, 7, 1), (168, 7, 1), (3189, 1), (168, 1))"
      ]
     },
     "execution_count": 12,
     "metadata": {},
     "output_type": "execute_result"
    }
   ],
   "source": [
    "X_train = X_train.reshape((-1, lookback, 1))\n",
    "X_test = X_test.reshape((-1, lookback, 1))\n",
    "\n",
    "y_train = y_train.reshape((-1, 1))\n",
    "y_test = y_test.reshape((-1, 1))\n",
    "\n",
    "X_train.shape, X_test.shape, y_train.shape, y_test.shape"
   ]
  },
  {
   "cell_type": "code",
   "execution_count": 13,
   "metadata": {},
   "outputs": [
    {
     "data": {
      "text/plain": [
       "(torch.Size([3189, 7, 1]),\n",
       " torch.Size([168, 7, 1]),\n",
       " torch.Size([3189, 1]),\n",
       " torch.Size([168, 1]))"
      ]
     },
     "execution_count": 13,
     "metadata": {},
     "output_type": "execute_result"
    }
   ],
   "source": [
    "X_train = torch.tensor(X_train).float()\n",
    "X_test = torch.tensor(X_test).float()\n",
    "y_train = torch.tensor(y_train).float()\n",
    "y_test = torch.tensor(y_test).float()\n",
    "\n",
    "X_train.shape, X_test.shape, y_train.shape, y_test.shape"
   ]
  },
  {
   "cell_type": "code",
   "execution_count": 14,
   "metadata": {},
   "outputs": [],
   "source": [
    "from torch.utils.data import Dataset\n",
    "\n",
    "class TimeSeriesDataset(Dataset):\n",
    "    def __init__(self, X, y):\n",
    "        self.X = X\n",
    "        self.y = y\n",
    "\n",
    "    def __len__(self):\n",
    "        return len(self.X)\n",
    "    \n",
    "    def __getitem__(self, i):\n",
    "        return self.X[i], self.y[i]\n",
    "    \n",
    "train_dataset = TimeSeriesDataset(X_train, y_train)\n",
    "test_dataset = TimeSeriesDataset(X_test, y_test)"
   ]
  },
  {
   "cell_type": "code",
   "execution_count": 15,
   "metadata": {},
   "outputs": [
    {
     "data": {
      "text/plain": [
       "<__main__.TimeSeriesDataset at 0x13af76290>"
      ]
     },
     "execution_count": 15,
     "metadata": {},
     "output_type": "execute_result"
    }
   ],
   "source": [
    "train_dataset"
   ]
  },
  {
   "cell_type": "code",
   "execution_count": 16,
   "metadata": {},
   "outputs": [],
   "source": [
    "from torch.utils.data import DataLoader\n",
    "\n",
    "batch_size = 16\n",
    "\n",
    "train_loader = DataLoader(train_dataset, batch_size=batch_size, shuffle=True)\n",
    "test_loader = DataLoader(test_dataset, batch_size=batch_size, shuffle=False)"
   ]
  },
  {
   "cell_type": "code",
   "execution_count": 17,
   "metadata": {},
   "outputs": [
    {
     "name": "stdout",
     "output_type": "stream",
     "text": [
      "torch.Size([16, 7, 1]) torch.Size([16, 1])\n"
     ]
    }
   ],
   "source": [
    "for _, batch in enumerate(train_loader):\n",
    "    x_batch, y_batch = batch[0].to(device), batch[1].to(device)\n",
    "    print(x_batch.shape, y_batch.shape)\n",
    "    break"
   ]
  },
  {
   "cell_type": "code",
   "execution_count": 18,
   "metadata": {},
   "outputs": [
    {
     "data": {
      "text/plain": [
       "LSTM(\n",
       "  (lstm): LSTM(1, 4, batch_first=True)\n",
       "  (fc): Linear(in_features=4, out_features=1, bias=True)\n",
       ")"
      ]
     },
     "execution_count": 18,
     "metadata": {},
     "output_type": "execute_result"
    }
   ],
   "source": [
    "class LSTM(nn.Module):\n",
    "    def __init__(self, input_size, hidden_size, num_stacked_layers):\n",
    "        super().__init__()\n",
    "        self.hidden_size = hidden_size\n",
    "        self.num_stacked_layers = num_stacked_layers\n",
    "        \n",
    "        self.lstm = nn.LSTM(input_size, hidden_size, num_stacked_layers,\n",
    "                            batch_first=True)\n",
    "        self.fc = nn.Linear(hidden_size, 1)\n",
    "\n",
    "    def forward(self, x):\n",
    "        batch_size = x.size(0)\n",
    "        h0 = torch.zeros(self.num_stacked_layers, batch_size, self.hidden_size).to(device)\n",
    "        c0 = torch.zeros(self.num_stacked_layers, batch_size, self.hidden_size).to(device)\n",
    "        out, _ = self.lstm(x, (h0, c0))\n",
    "        out = self.fc(out[:, -1, :])\n",
    "        return out \n",
    "    \n",
    "model = LSTM(1, 4, 1)\n",
    "model.to(device)\n",
    "model\n"
   ]
  },
  {
   "cell_type": "code",
   "execution_count": 19,
   "metadata": {},
   "outputs": [],
   "source": [
    "def train_one_epoch():\n",
    "    model.train(True)\n",
    "    print(f'Epoch: {epoch + 1}')\n",
    "    running_loss = 0.0\n",
    "    \n",
    "    for batch_index, batch in enumerate(train_loader):\n",
    "        x_batch, y_batch = batch[0].to(device), batch[1].to(device)\n",
    "        \n",
    "        output = model(x_batch)\n",
    "        loss = loss_function(output, y_batch)\n",
    "        running_loss += loss.item()\n",
    "        \n",
    "        optimizer.zero_grad()\n",
    "        loss.backward()\n",
    "        optimizer.step()\n",
    "\n",
    "        if batch_index % 100 == 99:  # print every 100 batches\n",
    "            avg_loss_across_batches = running_loss / 100\n",
    "            print('Batch {0}, Loss: {1:.3f}'.format(batch_index+1,\n",
    "                                                    avg_loss_across_batches))\n",
    "            running_loss = 0.0\n",
    "    print()"
   ]
  },
  {
   "cell_type": "code",
   "execution_count": 20,
   "metadata": {},
   "outputs": [],
   "source": [
    "def validate_one_epoch():\n",
    "    model.train(False)\n",
    "    running_loss = 0.0\n",
    "    \n",
    "    for batch_index, batch in enumerate(test_loader):\n",
    "        x_batch, y_batch = batch[0].to(device), batch[1].to(device)\n",
    "        \n",
    "        with torch.no_grad():\n",
    "            output = model(x_batch)\n",
    "            loss = loss_function(output, y_batch)\n",
    "            running_loss += loss.item()\n",
    "\n",
    "    avg_loss_across_batches = running_loss / len(test_loader)\n",
    "    \n",
    "    print('Val Loss: {0:.3f}'.format(avg_loss_across_batches))\n",
    "    print('***************************************************')\n",
    "    print()"
   ]
  },
  {
   "cell_type": "code",
   "execution_count": 21,
   "metadata": {},
   "outputs": [
    {
     "name": "stdout",
     "output_type": "stream",
     "text": [
      "Epoch: 1\n",
      "Batch 100, Loss: 1.208\n",
      "Batch 200, Loss: 0.684\n",
      "\n",
      "Val Loss: 0.154\n",
      "***************************************************\n",
      "\n",
      "Epoch: 2\n",
      "Batch 100, Loss: 0.167\n",
      "Batch 200, Loss: 0.036\n",
      "\n",
      "Val Loss: 0.033\n",
      "***************************************************\n",
      "\n",
      "Epoch: 3\n",
      "Batch 100, Loss: 0.016\n",
      "Batch 200, Loss: 0.011\n",
      "\n",
      "Val Loss: 0.013\n",
      "***************************************************\n",
      "\n",
      "Epoch: 4\n",
      "Batch 100, Loss: 0.009\n",
      "Batch 200, Loss: 0.008\n",
      "\n",
      "Val Loss: 0.010\n",
      "***************************************************\n",
      "\n",
      "Epoch: 5\n",
      "Batch 100, Loss: 0.007\n",
      "Batch 200, Loss: 0.006\n",
      "\n",
      "Val Loss: 0.006\n",
      "***************************************************\n",
      "\n",
      "Epoch: 6\n",
      "Batch 100, Loss: 0.005\n",
      "Batch 200, Loss: 0.004\n",
      "\n",
      "Val Loss: 0.006\n",
      "***************************************************\n",
      "\n",
      "Epoch: 7\n",
      "Batch 100, Loss: 0.004\n",
      "Batch 200, Loss: 0.003\n",
      "\n",
      "Val Loss: 0.004\n",
      "***************************************************\n",
      "\n",
      "Epoch: 8\n",
      "Batch 100, Loss: 0.003\n",
      "Batch 200, Loss: 0.003\n",
      "\n",
      "Val Loss: 0.004\n",
      "***************************************************\n",
      "\n",
      "Epoch: 9\n",
      "Batch 100, Loss: 0.002\n",
      "Batch 200, Loss: 0.002\n",
      "\n",
      "Val Loss: 0.003\n",
      "***************************************************\n",
      "\n",
      "Epoch: 10\n",
      "Batch 100, Loss: 0.002\n",
      "Batch 200, Loss: 0.002\n",
      "\n",
      "Val Loss: 0.004\n",
      "***************************************************\n",
      "\n"
     ]
    }
   ],
   "source": [
    "learning_rate = 0.001\n",
    "num_epochs = 10\n",
    "loss_function = nn.MSELoss()\n",
    "optimizer = torch.optim.Adam(model.parameters(), lr=learning_rate)\n",
    "\n",
    "for epoch in range(num_epochs):\n",
    "    train_one_epoch()\n",
    "    validate_one_epoch()"
   ]
  },
  {
   "cell_type": "code",
   "execution_count": 22,
   "metadata": {},
   "outputs": [
    {
     "data": {
      "image/png": "[encoded data removed]",
      "text/plain": [
       "<Figure size 640x480 with 1 Axes>"
      ]
     },
     "metadata": {},
     "output_type": "display_data"
    }
   ],
   "source": [
    "with torch.no_grad():\n",
    "    predicted = model(X_train.to(device)).to('cpu').numpy()\n",
    "\n",
    "plt.plot(y_train, label='Actual Close')\n",
    "plt.plot(predicted, label='Predicted Close')\n",
    "plt.xlabel('Day')\n",
    "plt.ylabel('Close')\n",
    "plt.legend()\n",
    "plt.show()\n"
   ]
  },
  {
   "cell_type": "code",
   "execution_count": 23,
   "metadata": {},
   "outputs": [
    {
     "data": {
      "text/plain": [
       "array([  7.09124774,   7.06780537,   7.0515273 , ..., 204.59401248,\n",
       "       201.48927861, 197.41246627])"
      ]
     },
     "execution_count": 23,
     "metadata": {},
     "output_type": "execute_result"
    }
   ],
   "source": [
    "train_predictions = predicted.flatten()\n",
    "\n",
    "dummies = np.zeros((X_train.shape[0], lookback+1))\n",
    "dummies[:, 0] = train_predictions\n",
    "dummies = scaler.inverse_transform(dummies)\n",
    "\n",
    "train_predictions = dc(dummies[:, 0])\n",
    "train_predictions"
   ]
  },
  {
   "cell_type": "code",
   "execution_count": 24,
   "metadata": {},
   "outputs": [
    {
     "data": {
      "text/plain": [
       "array([  1.15999972,   1.13666701,   1.20933348, ..., 187.71000653,\n",
       "       182.00000043, 172.91999862])"
      ]
     },
     "execution_count": 24,
     "metadata": {},
     "output_type": "execute_result"
    }
   ],
   "source": [
    "dummies = np.zeros((X_train.shape[0], lookback+1))\n",
    "dummies[:, 0] = y_train.flatten()\n",
    "dummies = scaler.inverse_transform(dummies)\n",
    "\n",
    "new_y_train = dc(dummies[:, 0])\n",
    "new_y_train"
   ]
  },
  {
   "cell_type": "code",
   "execution_count": 25,
   "metadata": {},
   "outputs": [
    {
     "data": {
      "image/png": "[encoded data removed]",
      "text/plain": [
       "<Figure size 640x480 with 1 Axes>"
      ]
     },
     "metadata": {},
     "output_type": "display_data"
    }
   ],
   "source": [
    "plt.plot(new_y_train, label='Actual Close')\n",
    "plt.plot(train_predictions, label='Predicted Close')\n",
    "plt.xlabel('Day')\n",
    "plt.ylabel('Close')\n",
    "plt.legend()\n",
    "plt.show()"
   ]
  },
  {
   "cell_type": "code",
   "execution_count": 26,
   "metadata": {},
   "outputs": [
    {
     "data": {
      "text/plain": [
       "array([191.88259265, 187.14021018, 183.68992984, 183.41866119,\n",
       "       183.830383  , 185.49432202, 186.38733124, 187.50438322,\n",
       "       191.43343798, 193.98710867, 196.03798688, 197.13480093,\n",
       "       197.89114626, 197.64440133, 198.07732971, 198.93138001,\n",
       "       202.6083227 , 203.60176918, 203.3163151 , 200.88889691,\n",
       "       197.97697164, 195.13356717, 193.4371238 , 191.20544146,\n",
       "       190.75070948, 190.65973323, 191.22492092, 191.25447365,\n",
       "       190.31449746, 185.18743901, 180.15786317, 175.2563309 ,\n",
       "       171.01017974, 166.41180822, 164.34836812, 164.5469703 ,\n",
       "       164.9859725 , 165.1293316 , 165.26116445, 165.41982079,\n",
       "       167.46304124, 170.08572314, 171.97346123, 173.18153515,\n",
       "       174.59867136, 174.7241258 , 173.96745149, 173.07614196,\n",
       "       174.01255734, 176.05092239, 178.87474688, 183.42087871,\n",
       "       186.9997631 , 188.90797671, 190.07820046, 192.49836906,\n",
       "       196.50102847, 200.88892433, 205.47480401, 210.70991484,\n",
       "       215.77726165, 220.46048991, 224.67451443, 230.09566858,\n",
       "       236.73893892, 243.52448396, 250.90501007, 256.45448499,\n",
       "       260.20403019, 263.5119749 , 268.62317259, 269.45189806,\n",
       "       270.68797731, 269.61134027, 264.87168706, 262.35372821,\n",
       "       261.62499223, 261.74072369, 263.47212653, 269.14770166,\n",
       "       275.06158721, 278.82030405, 280.72791454, 280.59363266,\n",
       "       279.9245139 , 279.41801132, 280.09244849, 281.67698928,\n",
       "       285.1932287 , 288.86365894, 291.42630938, 287.23765538,\n",
       "       282.36114333, 279.72342614, 276.75931907, 274.35382022,\n",
       "       270.89898299, 270.79929201, 271.64580029, 271.07821232,\n",
       "       268.88588794, 268.12157415, 266.33780978, 264.3023933 ,\n",
       "       262.07717772, 258.68428488, 256.6425905 , 254.56752364,\n",
       "       252.3038365 , 249.08350215, 244.68606608, 239.41643747,\n",
       "       234.07646652, 233.35071872, 234.32265098, 236.83269316,\n",
       "       238.05501952, 240.8178439 , 243.1729642 , 248.88348356,\n",
       "       253.78981944, 258.15911614, 258.648372  , 260.794695  ,\n",
       "       261.09811161, 260.85573167, 259.63720982, 264.20963512,\n",
       "       267.40694136, 271.09796288, 274.88438046, 277.57598829,\n",
       "       277.4081268 , 276.8832322 , 274.98684944, 271.84526755,\n",
       "       266.58025065, 262.50445873, 258.73448371, 255.15901089,\n",
       "       253.81008478, 254.19991466, 255.45939364, 255.74931018,\n",
       "       259.05720007, 261.88185308, 264.29239009, 265.81108756,\n",
       "       267.65638205, 268.8977797 , 268.8313028 , 266.59624239,\n",
       "       265.10710984, 264.04481359, 260.52466305, 252.13995924,\n",
       "       242.58128505, 234.344086  , 228.93451596, 224.52949524,\n",
       "       220.39075374, 218.00944049, 214.33273844, 211.7613032 ,\n",
       "       210.91427404, 213.68487802, 217.4587002 , 220.95852143])"
      ]
     },
     "execution_count": 26,
     "metadata": {},
     "output_type": "execute_result"
    }
   ],
   "source": [
    "test_predictions = model(X_test.to(device)).detach().cpu().numpy().flatten()\n",
    "\n",
    "dummies = np.zeros((X_test.shape[0], lookback+1))\n",
    "dummies[:, 0] = test_predictions\n",
    "dummies = scaler.inverse_transform(dummies)\n",
    "\n",
    "test_predictions = dc(dummies[:, 0])\n",
    "test_predictions"
   ]
  },
  {
   "cell_type": "code",
   "execution_count": 27,
   "metadata": {},
   "outputs": [
    {
     "data": {
      "text/plain": [
       "array([173.44000126, 174.47999437, 183.25999419, 180.44999723,\n",
       "       184.13000424, 180.13000556, 183.25000012, 197.58000183,\n",
       "       191.14999429, 192.22000161, 190.41000317, 191.80999776,\n",
       "       189.19000247, 193.88000514, 195.27999897, 207.46000681,\n",
       "       194.7700041 , 192.58000157, 185.52000476, 185.05999703,\n",
       "       184.50999388, 186.7899926 , 180.53999265, 185.89999439,\n",
       "       185.00000059, 187.03999375, 184.30999813, 180.58999654,\n",
       "       162.99000536, 165.08000089, 162.55000406, 160.66999683,\n",
       "       153.75000238, 160.19000095, 164.30999708, 161.8300011 ,\n",
       "       160.30999687, 160.61000191, 161.1999966 , 170.05999624,\n",
       "       171.78999181, 169.14999313, 168.53999202, 172.08000278,\n",
       "       167.97999479, 166.350007  , 166.52000376, 173.85999918,\n",
       "       176.88999832, 180.13999963, 188.86999557, 185.77000439,\n",
       "       182.89999423, 184.47000082, 193.16999854, 201.16000374,\n",
       "       203.9299926 , 207.5200042 , 213.97000084, 217.61000033,\n",
       "       221.30999703, 224.57000764, 234.86000086, 244.39999365,\n",
       "       249.83000266, 258.7099935 , 256.79000997, 255.89999502,\n",
       "       260.54000903, 274.45001434, 259.45999088, 264.609983  ,\n",
       "       256.60000678, 241.05000437, 250.210006  , 256.23999159,\n",
       "       257.50000058, 261.7699901 , 279.82001016, 282.48001222,\n",
       "       276.54000987, 274.42998964, 269.60998783, 269.79000913,\n",
       "       271.98999128, 277.89999617, 281.38000592, 290.38000487,\n",
       "       293.33999369, 291.26000747, 262.89999386, 260.0199881 ,\n",
       "       269.05999991, 265.27999731, 264.35000909, 255.71000705,\n",
       "       266.44000462, 267.42999384, 261.0700088 , 254.11000149,\n",
       "       259.3200068 , 253.86000033, 251.44999638, 249.69999743,\n",
       "       242.1900022 , 245.33999726, 242.6499947 , 239.75999487,\n",
       "       232.96000548, 225.60000668, 219.2200015 , 215.49000583,\n",
       "       231.27999857, 233.19000325, 236.86000096, 230.03999296,\n",
       "       238.58999653, 238.82000649, 257.17999521, 256.89999659,\n",
       "       258.07998596, 245.00999477, 256.4899897 , 251.91999819,\n",
       "       251.49000619, 248.49999859, 273.57998449, 267.48000991,\n",
       "       271.29998882, 276.04000756, 274.39001333, 265.27999731,\n",
       "       266.49999953, 262.58999779, 255.69999775, 244.88000476,\n",
       "       246.99000672, 244.11999504, 240.50000121, 246.3800056 ,\n",
       "       250.22000008, 251.60000499, 246.52999899, 261.16000117,\n",
       "       260.04998556, 260.52999972, 259.67001573, 263.61999378,\n",
       "       262.98999233, 258.86999619, 251.11999388, 253.91999829,\n",
       "       254.85000478, 242.67999216, 220.11000123, 211.99000564,\n",
       "       212.08000183, 216.5200041 , 212.4199984 , 205.75999452,\n",
       "       207.30000298, 197.36000041, 200.83999645, 205.66000366,\n",
       "       218.50999414, 219.96000632, 219.27000386, 222.17999337])"
      ]
     },
     "execution_count": 27,
     "metadata": {},
     "output_type": "execute_result"
    }
   ],
   "source": [
    "dummies = np.zeros((X_test.shape[0], lookback+1))\n",
    "dummies[:, 0] = y_test.flatten()\n",
    "dummies = scaler.inverse_transform(dummies)\n",
    "\n",
    "new_y_test = dc(dummies[:, 0])\n",
    "new_y_test"
   ]
  },
  {
   "cell_type": "code",
   "execution_count": 28,
   "metadata": {},
   "outputs": [
    {
     "data": {
      "image/png": "[encoded data removed]",
      "text/plain": [
       "<Figure size 640x480 with 1 Axes>"
      ]
     },
     "metadata": {},
     "output_type": "display_data"
    }
   ],
   "source": [
    "plt.plot(new_y_test, label='Actual Close')\n",
    "plt.plot(test_predictions, label='Predicted Close')\n",
    "plt.xlabel('Day')\n",
    "plt.ylabel('Close')\n",
    "plt.legend()\n",
    "plt.show()"
   ]
  },
  {
   "cell_type": "code",
   "execution_count": null,
   "metadata": {},
   "outputs": [],
   "source": []
  }
 ],
 "metadata": {
  "kernelspec": {
   "display_name": "penv",
   "language": "python",
   "name": "python3"
  },
  "language_info": {
   "codemirror_mode": {
    "name": "ipython",
    "version": 3
   },
   "file_extension": ".py",
   "mimetype": "text/x-python",
   "name": "python",
   "nbconvert_exporter": "python",
   "pygments_lexer": "ipython3",
   "version": "3.11.6"
  }
 },
 "nbformat": 4,
 "nbformat_minor": 2
}
